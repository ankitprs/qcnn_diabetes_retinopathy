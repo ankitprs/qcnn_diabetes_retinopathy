{
  "metadata": {
    "colab": {
      "provenance": [],
      "gpuType": "T4"
    },
    "kernelspec": {
      "name": "python3",
      "display_name": "Python 3",
      "language": "python"
    },
    "language_info": {
      "name": "python",
      "version": "3.10.12",
      "mimetype": "text/x-python",
      "codemirror_mode": {
        "name": "ipython",
        "version": 3
      },
      "pygments_lexer": "ipython3",
      "nbconvert_exporter": "python",
      "file_extension": ".py"
    },
    "accelerator": "GPU"
  },
  "nbformat_minor": 0,
  "nbformat": 4,
  "cells": [
    {
      "cell_type": "markdown",
      "source": [
        "## Image preprocessing code (we have already preprocessed and hosted the dataset on roboflow) so you do not need to run this code explicitly"
      ],
      "metadata": {
        "id": "klZbtDiSJVD5"
      }
    },
    {
      "cell_type": "markdown",
      "source": [
        "Quantum transfer learning {#quantum_transfer_learning}\n",
        "=========================\n",
        "\n",
        "::: {.meta}\n",
        ":property=\\\"og:description\\\": Combine PyTorch and PennyLane to train a\n",
        "hybrid quantum-classical image classifier using transfer learning.\n",
        ":property=\\\"og:image\\\":\n",
        "<https://pennylane.ai/qml/_images/transfer_images.png>\n",
        ":::\n",
        "\n",
        "*Author: Andrea Mari --- Posted: 19 December 2019. Last updated: 28\n",
        "January 2021.*\n",
        "\n",
        "In this tutorial we apply a machine learning method, known as *transfer\n",
        "learning*, to an image classifier based on a hybrid classical-quantum\n",
        "network.\n",
        "\n",
        "This example follows the general structure of the PyTorch [tutorial on\n",
        "transfer\n",
        "learning](https://pytorch.org/tutorials/beginner/transfer_learning_tutorial.html)\n",
        "by Sasank Chilamkurthy, with the crucial difference of using a quantum\n",
        "circuit to perform the final classification task.\n",
        "\n",
        "More details on this topic can be found in the research paper \\[1\\]\n",
        "([Mari et al. (2019)](https://arxiv.org/abs/1912.08278)).\n",
        "\n",
        "Introduction\n",
        "------------\n",
        "\n",
        "Transfer learning is a well-established technique for training\n",
        "artificial neural networks (see e.g., Ref. \\[2\\]), which is based on the\n",
        "general intuition that if a pre-trained network is good at solving a\n",
        "given problem, then, with just a bit of additional training, it can be\n",
        "used to also solve a different but related problem.\n",
        "\n",
        "As discussed in Ref. \\[1\\], this idea can be formalized in terms of two\n",
        "abstract networks $A$ and $B$, independently from their quantum or\n",
        "classical physical nature.\n",
        "\n",
        "|\n",
        "\n",
        "![](https://github.com/itstechaj/hybrid-classical-quantum-network-classifier/blob/demonstrations/quantum_transfer_learning/transfer_learning_general.png?raw=1){.align-center}\n",
        "\n",
        "|\n",
        "\n",
        "As sketched in the above figure, one can give the following **general\n",
        "definition of the transfer learning method**:\n",
        "\n",
        "1.  Take a network $A$ that has been pre-trained on a dataset $D_A$ and\n",
        "    for a given task $T_A$.\n",
        "2.  Remove some of the final layers. In this way, the resulting\n",
        "    truncated network $A'$ can be used as a feature extractor.\n",
        "3.  Connect a new trainable network $B$ at the end of the pre-trained\n",
        "    network $A'$.\n",
        "4.  Keep the weights of $A'$ constant, and train the final block $B$\n",
        "    with a new dataset $D_B$ and/or for a new task of interest $T_B$.\n",
        "\n",
        "When dealing with hybrid systems, depending on the physical nature\n",
        "(classical or quantum) of the networks $A$ and $B$, one can have\n",
        "different implementations of transfer learning as\n",
        "\n",
        "summarized in following table:\n",
        "\n",
        "|\n",
        "\n",
        "::: {.rst-class}\n",
        "docstable\n",
        ":::\n",
        "\n",
        "  -------------------------------------------------------------------------\n",
        "  Network A   Network B   Transfer learning scheme\n",
        "  ----------- ----------- -------------------------------------------------\n",
        "  Classical   Classical   CC - Standard classical method. See e.g., Ref.\n",
        "                          \\[2\\].\n",
        "\n",
        "  Classical   Quantum     CQ - **Hybrid model presented in this tutorial.**\n",
        "\n",
        "  Quantum     Classical   QC - Model studied in Ref. \\[1\\].\n",
        "\n",
        "  Quantum     Quantum     QQ - Model studied in Ref. \\[1\\].\n",
        "  -------------------------------------------------------------------------\n",
        "\n",
        "Classical-to-quantum transfer learning\n",
        "--------------------------------------\n",
        "\n",
        "We focus on the CQ transfer learning scheme discussed in the previous\n",
        "section and we give a specific example.\n",
        "\n",
        "1.  As pre-trained network $A$ we use **ResNet18**, a deep residual\n",
        "    neural network introduced by Microsoft in Ref. \\[3\\], which is\n",
        "    pre-trained on the *ImageNet* dataset.\n",
        "2.  After removing its final layer we obtain $A'$, a pre-processing\n",
        "    block which maps any input high-resolution image into 512 abstract\n",
        "    features.\n",
        "3.  Such features are classified by a 4-qubit \\\"dressed quantum\n",
        "    circuit\\\" $B$, i.e., a variational quantum circuit sandwiched\n",
        "    between two classical layers.\n",
        "4.  The hybrid model is trained, keeping $A'$ constant, on the\n",
        "    *Hymenoptera* dataset (a small subclass of ImageNet) containing\n",
        "    images of *ants* and *bees*.\n",
        "\n",
        "A graphical representation of the full data processing pipeline is given\n",
        "in the figure below.\n",
        "\n",
        "![](https://github.com/itstechaj/hybrid-classical-quantum-network-classifier/blob/demonstrations/quantum_transfer_learning/transfer_learning_c2q.png?raw=1){.align-center}\n"
      ],
      "metadata": {
        "id": "U9BmpM5hezY6"
      }
    },
    {
      "cell_type": "markdown",
      "source": [
        "General setup\n",
        "=============\n",
        "\n",
        "::: {.note}\n",
        "::: {.title}\n",
        "Note\n",
        ":::\n",
        "\n",
        "To use the PyTorch interface in PennyLane, you must first [install\n",
        "PyTorch](https://pytorch.org/get-started/locally/#start-locally).\n",
        ":::\n",
        "\n",
        "In addition to *PennyLane*, we will also need some standard *PyTorch*\n",
        "libraries and the plotting library *matplotlib*.\n"
      ],
      "metadata": {
        "id": "0P2rfi2fezY7"
      }
    },
    {
      "cell_type": "code",
      "source": [
        "!pip install pennylane"
      ],
      "metadata": {
        "id": "JNJgHYYge8G5",
        "execution": {
          "iopub.status.busy": "2023-09-13T14:07:40.735420Z",
          "iopub.execute_input": "2023-09-13T14:07:40.735912Z",
          "iopub.status.idle": "2023-09-13T14:07:59.134455Z",
          "shell.execute_reply.started": "2023-09-13T14:07:40.735863Z",
          "shell.execute_reply": "2023-09-13T14:07:59.133246Z"
        },
        "trusted": true,
        "colab": {
          "base_uri": "https://localhost:8080/"
        },
        "outputId": "6c5644f3-2b56-4238-a56a-ecf5e1a7ad6f"
      },
      "execution_count": 1,
      "outputs": [
        {
          "output_type": "stream",
          "name": "stdout",
          "text": [
            "Collecting pennylane\n",
            "  Downloading PennyLane-0.32.0-py3-none-any.whl (1.5 MB)\n",
            "\u001b[2K     \u001b[90m━━━━━━━━━━━━━━━━━━━━━━━━━━━━━━━━━━━━━━━━\u001b[0m \u001b[32m1.5/1.5 MB\u001b[0m \u001b[31m12.8 MB/s\u001b[0m eta \u001b[36m0:00:00\u001b[0m\n",
            "\u001b[?25hRequirement already satisfied: numpy<1.24 in /usr/local/lib/python3.10/dist-packages (from pennylane) (1.23.5)\n",
            "Requirement already satisfied: scipy in /usr/local/lib/python3.10/dist-packages (from pennylane) (1.11.2)\n",
            "Requirement already satisfied: networkx in /usr/local/lib/python3.10/dist-packages (from pennylane) (3.1)\n",
            "Collecting rustworkx (from pennylane)\n",
            "  Downloading rustworkx-0.13.1-cp310-cp310-manylinux_2_17_x86_64.manylinux2014_x86_64.whl (2.0 MB)\n",
            "\u001b[2K     \u001b[90m━━━━━━━━━━━━━━━━━━━━━━━━━━━━━━━━━━━━━━━━\u001b[0m \u001b[32m2.0/2.0 MB\u001b[0m \u001b[31m22.2 MB/s\u001b[0m eta \u001b[36m0:00:00\u001b[0m\n",
            "\u001b[?25hCollecting autograd<=1.5 (from pennylane)\n",
            "  Downloading autograd-1.5-py3-none-any.whl (48 kB)\n",
            "\u001b[2K     \u001b[90m━━━━━━━━━━━━━━━━━━━━━━━━━━━━━━━━━━━━━━━━\u001b[0m \u001b[32m48.9/48.9 kB\u001b[0m \u001b[31m5.5 MB/s\u001b[0m eta \u001b[36m0:00:00\u001b[0m\n",
            "\u001b[?25hRequirement already satisfied: toml in /usr/local/lib/python3.10/dist-packages (from pennylane) (0.10.2)\n",
            "Requirement already satisfied: appdirs in /usr/local/lib/python3.10/dist-packages (from pennylane) (1.4.4)\n",
            "Collecting semantic-version>=2.7 (from pennylane)\n",
            "  Downloading semantic_version-2.10.0-py2.py3-none-any.whl (15 kB)\n",
            "Collecting autoray>=0.3.1 (from pennylane)\n",
            "  Downloading autoray-0.6.6-py3-none-any.whl (54 kB)\n",
            "\u001b[2K     \u001b[90m━━━━━━━━━━━━━━━━━━━━━━━━━━━━━━━━━━━━━━━━\u001b[0m \u001b[32m54.7/54.7 kB\u001b[0m \u001b[31m6.5 MB/s\u001b[0m eta \u001b[36m0:00:00\u001b[0m\n",
            "\u001b[?25hRequirement already satisfied: cachetools in /usr/local/lib/python3.10/dist-packages (from pennylane) (5.3.1)\n",
            "Collecting pennylane-lightning>=0.32 (from pennylane)\n",
            "  Downloading PennyLane_Lightning-0.32.0-cp310-cp310-manylinux_2_17_x86_64.manylinux2014_x86_64.whl (13.6 MB)\n",
            "\u001b[2K     \u001b[90m━━━━━━━━━━━━━━━━━━━━━━━━━━━━━━━━━━━━━━━━\u001b[0m \u001b[32m13.6/13.6 MB\u001b[0m \u001b[31m49.3 MB/s\u001b[0m eta \u001b[36m0:00:00\u001b[0m\n",
            "\u001b[?25hRequirement already satisfied: requests in /usr/local/lib/python3.10/dist-packages (from pennylane) (2.31.0)\n",
            "Requirement already satisfied: typing-extensions in /usr/local/lib/python3.10/dist-packages (from pennylane) (4.5.0)\n",
            "Requirement already satisfied: future>=0.15.2 in /usr/local/lib/python3.10/dist-packages (from autograd<=1.5->pennylane) (0.18.3)\n",
            "Requirement already satisfied: charset-normalizer<4,>=2 in /usr/local/lib/python3.10/dist-packages (from requests->pennylane) (3.2.0)\n",
            "Requirement already satisfied: idna<4,>=2.5 in /usr/local/lib/python3.10/dist-packages (from requests->pennylane) (3.4)\n",
            "Requirement already satisfied: urllib3<3,>=1.21.1 in /usr/local/lib/python3.10/dist-packages (from requests->pennylane) (2.0.4)\n",
            "Requirement already satisfied: certifi>=2017.4.17 in /usr/local/lib/python3.10/dist-packages (from requests->pennylane) (2023.7.22)\n",
            "Installing collected packages: semantic-version, rustworkx, autoray, autograd, pennylane-lightning, pennylane\n",
            "  Attempting uninstall: autograd\n",
            "    Found existing installation: autograd 1.6.2\n",
            "    Uninstalling autograd-1.6.2:\n",
            "      Successfully uninstalled autograd-1.6.2\n",
            "Successfully installed autograd-1.5 autoray-0.6.6 pennylane-0.32.0 pennylane-lightning-0.32.0 rustworkx-0.13.1 semantic-version-2.10.0\n"
          ]
        }
      ]
    },
    {
      "cell_type": "code",
      "source": [
        "# Some parts of this code are based on the Python script:\n",
        "# https://github.com/pytorch/tutorials/blob/master/beginner_source/transfer_learning_tutorial.py\n",
        "# License: BSD\n",
        "\n",
        "import time\n",
        "import os\n",
        "import copy\n",
        "\n",
        "# PyTorch\n",
        "import torch\n",
        "import torch.nn as nn\n",
        "import torch.optim as optim\n",
        "from torch.optim import lr_scheduler\n",
        "import torchvision\n",
        "from torchvision import datasets, transforms, datasets\n",
        "\n",
        "# Pennylane\n",
        "import pennylane as qml\n",
        "from pennylane import numpy as np\n",
        "\n",
        "torch.manual_seed(42)\n",
        "np.random.seed(42)\n",
        "\n",
        "# Plotting\n",
        "import matplotlib.pyplot as plt\n",
        "\n",
        "# OpenMP: number of parallel threads.\n",
        "# os.environ[\"OMP_NUM_THREADS\"] = \"1\""
      ],
      "metadata": {
        "id": "PIxuOH_hezY7",
        "execution": {
          "iopub.status.busy": "2023-09-13T14:08:57.311392Z",
          "iopub.execute_input": "2023-09-13T14:08:57.311765Z",
          "iopub.status.idle": "2023-09-13T14:09:06.361294Z",
          "shell.execute_reply.started": "2023-09-13T14:08:57.311730Z",
          "shell.execute_reply": "2023-09-13T14:09:06.359848Z"
        },
        "trusted": true
      },
      "execution_count": 2,
      "outputs": []
    },
    {
      "cell_type": "markdown",
      "source": [
        "Setting of the main hyper-parameters of the model\n",
        "=================================================\n",
        "\n",
        "::: {.note}\n",
        "::: {.title}\n",
        "Note\n",
        ":::\n",
        "\n",
        "To reproduce the results of Ref. \\[1\\], `num_epochs` should be set to\n",
        "`30` which may take a long time. We suggest to first try with\n",
        "`num_epochs=1` and, if everything runs smoothly, increase it to a larger\n",
        "value.\n",
        ":::\n"
      ],
      "metadata": {
        "id": "vm6OOlX6ezY8"
      }
    },
    {
      "cell_type": "code",
      "source": [
        "n_qubits = 8                # Number of qubits\n",
        "step = 0.001               # Learning rate\n",
        "batch_size = 16             # Number of samples for each training step\n",
        "num_epochs = 10              # Number of training epochs\n",
        "q_depth = 4                 # Depth of the quantum circuit (number of variational layers)\n",
        "gamma_lr_scheduler = 0.1    # Learning rate reduction applied every 10 epochs.\n",
        "q_delta = 0.01              # Initial spread of random quantum weights\n",
        "start_time = time.time()    # Start of the computation timer\n",
        "step_size=10  # given in lr_scheduler"
      ],
      "metadata": {
        "id": "sHRTDdrKezY8",
        "execution": {
          "iopub.status.busy": "2023-09-13T02:52:10.957730Z",
          "iopub.execute_input": "2023-09-13T02:52:10.958358Z",
          "iopub.status.idle": "2023-09-13T02:52:10.965449Z",
          "shell.execute_reply.started": "2023-09-13T02:52:10.958317Z",
          "shell.execute_reply": "2023-09-13T02:52:10.964070Z"
        },
        "trusted": true
      },
      "execution_count": null,
      "outputs": []
    },
    {
      "cell_type": "code",
      "source": [
        "n_qubits = 6             # Number of qubits\n",
        "step = 0.001               # Learning rate\n",
        "batch_size = 16             # Number of samples for each training step\n",
        "num_epochs = 10              # Number of training epochs\n",
        "q_depth = 4                # Depth of the quantum circuit (number of variational layers)\n",
        "gamma_lr_scheduler = 0.1    # Learning rate reduction applied every 10 epochs.\n",
        "q_delta = 0.05              # Initial spread of random quantum weights\n",
        "start_time = time.time()    # Start of the computation timer"
      ],
      "metadata": {
        "id": "wj2evWTU2Qk9"
      },
      "execution_count": 6,
      "outputs": []
    },
    {
      "cell_type": "markdown",
      "source": [
        "We initialize a PennyLane device with a `default.qubit` backend.\n"
      ],
      "metadata": {
        "id": "pD-QSo-TezY8"
      }
    },
    {
      "cell_type": "code",
      "source": [
        "dev = qml.device(\"default.qubit\", wires=n_qubits)"
      ],
      "metadata": {
        "id": "97Hs4c3KezY8",
        "execution": {
          "iopub.status.busy": "2023-09-13T02:52:14.058653Z",
          "iopub.execute_input": "2023-09-13T02:52:14.059033Z",
          "iopub.status.idle": "2023-09-13T02:52:14.372809Z",
          "shell.execute_reply.started": "2023-09-13T02:52:14.059004Z",
          "shell.execute_reply": "2023-09-13T02:52:14.371852Z"
        },
        "trusted": true
      },
      "execution_count": 7,
      "outputs": []
    },
    {
      "cell_type": "markdown",
      "source": [
        "We configure PyTorch to use CUDA only if available. Otherwise the CPU is\n",
        "used.\n"
      ],
      "metadata": {
        "id": "GUev99CVezY8"
      }
    },
    {
      "cell_type": "code",
      "source": [
        "device = torch.device(\"cuda:0\" if torch.cuda.is_available() else \"cpu\")"
      ],
      "metadata": {
        "id": "LnYVcH7BezY8",
        "execution": {
          "iopub.status.busy": "2023-09-13T02:52:18.197527Z",
          "iopub.execute_input": "2023-09-13T02:52:18.198256Z",
          "iopub.status.idle": "2023-09-13T02:52:18.203103Z",
          "shell.execute_reply.started": "2023-09-13T02:52:18.198224Z",
          "shell.execute_reply": "2023-09-13T02:52:18.201959Z"
        },
        "trusted": true
      },
      "execution_count": 8,
      "outputs": []
    },
    {
      "cell_type": "markdown",
      "source": [
        "Dataset loading\n",
        "===============\n",
        "\n",
        "::: {.note}\n",
        "::: {.title}\n",
        "Note\n",
        ":::\n",
        "\n",
        "The dataset containing images of *ants* and *bees* can be downloaded\n",
        "[here](https://download.pytorch.org/tutorial/hymenoptera_data.zip) and\n",
        "should be extracted in the subfolder `../_data/hymenoptera_data`.\n",
        ":::\n",
        "\n",
        "This is a very small dataset (roughly 250 images), too small for\n",
        "training from scratch a classical or quantum model, however it is enough\n",
        "when using *transfer learning* approach.\n",
        "\n",
        "The PyTorch packages `torchvision` and `torch.utils.data` are used for\n",
        "loading the dataset and performing standard preliminary image\n",
        "operations: resize, center, crop, normalize, *etc.*\n"
      ],
      "metadata": {
        "id": "nkUhNPHFezY8"
      }
    },
    {
      "cell_type": "markdown",
      "source": [
        "## Downloading our idrid dataset hosted on Roboflow"
      ],
      "metadata": {
        "id": "R_Ao6MO3IDTO"
      }
    },
    {
      "cell_type": "code",
      "source": [
        "# !wget 'https://app.roboflow.com/ds/2cMzmTSbxt?key=wZqVOncNpp'\n",
        "# !unzip '/content/2cMzmTSbxt?key=wZqVOncNpp' -d '/content/datasets'\n",
        "# !unzip '/content/drive/MyDrive/grid 5.0 aj/idrid_all_aug.zip' -d '/content/idrid'"
      ],
      "metadata": {
        "id": "_bsZq-0oe6dR"
      },
      "execution_count": null,
      "outputs": []
    },
    {
      "cell_type": "code",
      "source": [
        "!unzip '/content/drive/MyDrive/grid finale/full_final_dataset.zip' -d '/content/idrid'"
      ],
      "metadata": {
        "id": "5cHURb1z5xRv"
      },
      "execution_count": null,
      "outputs": []
    },
    {
      "cell_type": "markdown",
      "source": [
        "## image preprocessing"
      ],
      "metadata": {
        "id": "Megj_6gLOlOr"
      }
    },
    {
      "cell_type": "markdown",
      "source": [
        "## preprocessing Test"
      ],
      "metadata": {
        "id": "JdMFczvCOzw9"
      }
    },
    {
      "cell_type": "markdown",
      "source": [
        "## Creating dataloader"
      ],
      "metadata": {
        "id": "rzunb9Lcc5Gt"
      }
    },
    {
      "cell_type": "code",
      "source": [
        "from torch.utils.data import DataLoader\n",
        "data_transforms = {\n",
        "    \"train\": transforms.Compose(\n",
        "        [\n",
        "            # transforms.RandomResizedCrop(224),     # uncomment for data augmentation\n",
        "            # transforms.RandomHorizontalFlip(),     # uncomment for data augmentation\n",
        "            # transforms.Lambda(load_ben_color_transform_pil),\n",
        "            # transforms.Resize(224),\n",
        "            # transforms.CenterCrop(224),\n",
        "            # transforms.Grayscale(num_output_channels=3),\n",
        "            transforms.ToTensor(),\n",
        "#             transforms.Normalize([0.62922242, 0.5377338,  0.49774495],[0.36688716, 0.30804136, 0.18360957])\n",
        "            # Normalize input channels using mean values and standard deviations of ImageNet.\n",
        "            # transforms.Normalize([0.485, 0.456, 0.406], [0.229, 0.224, 0.225]),\n",
        "        ]\n",
        "    ),\n",
        "    \"valid\": transforms.Compose(\n",
        "        [\n",
        "            # transforms.RandomResizedCrop(224),     # uncomment for data augmentation\n",
        "            # transforms.RandomHorizontalFlip(),     # uncomment for data augmentation\n",
        "            # transforms.Lambda(load_ben_color_transform_pil),\n",
        "            # transforms.Resize(224),\n",
        "            # transforms.CenterCrop(224),\n",
        "            # transforms.Grayscale(num_output_channels=3),\n",
        "            transforms.ToTensor(),\n",
        "#             transforms.Normalize([0.62922242, 0.5377338,  0.49774495],[0.36688716, 0.30804136, 0.18360957])\n",
        "            # transforms.Normalize([0.485, 0.456, 0.406], [0.229, 0.224, 0.225]),\n",
        "        ]\n",
        "    ),\n",
        "    \"test\": transforms.Compose(\n",
        "        [\n",
        "            # transforms.RandomResizedCrop(224),     # uncomment for data augmentation\n",
        "            # transforms.RandomHorizontalFlip(),     # uncomment for data augmentation\n",
        "            # transforms.Lambda(load_ben_color_transform_pil),\n",
        "            # transforms.Resize(224),\n",
        "            # transforms.CenterCrop(224),\n",
        "            # transforms.Grayscale(num_output_channels=3),\n",
        "            transforms.ToTensor(),\n",
        "#             transforms.Normalize([0.62922242, 0.5377338,  0.49774495],[0.36688716, 0.30804136, 0.18360957])\n",
        "            # transforms.Normalize([0.485, 0.456, 0.406], [0.229, 0.224, 0.225]),\n",
        "        ]\n",
        "    ),\n",
        "}\n",
        "\n",
        "data_dir = \"/content/idrid\"\n",
        "sample_fraction = 1\n",
        "\n",
        "image_datasets = {\n",
        "    x: datasets.ImageFolder(\n",
        "        os.path.join(data_dir, x),\n",
        "        data_transforms[x]\n",
        "    )\n",
        "    for x in [\"train\", \"valid\", \"test\"]\n",
        "}\n",
        "\n",
        "# Adjust the dataset sizes to use only 10% of the data\n",
        "for x in [\"train\", \"valid\", \"test\"]:\n",
        "    image_datasets[x].samples = [\n",
        "        image_datasets[x].samples[i] for i in range(0, len(image_datasets[x]), int(1 / sample_fraction))\n",
        "    ]\n",
        "\n",
        "# Get the sizes of each dataset\n",
        "dataset_sizes = {x: len(image_datasets[x]) for x in [\"train\", \"valid\", \"test\"]}\n",
        "\n",
        "# Get the class names\n",
        "class_names = image_datasets[\"train\"].classes\n",
        "\n",
        "# Initialize dataloaders\n",
        "batch_size = 16  # You can adjust the batch size\n",
        "\n",
        "dataloaders = {\n",
        "    x: DataLoader(\n",
        "        image_datasets[x],\n",
        "        batch_size=batch_size,\n",
        "        shuffle=True if x == \"train\" else False  # Shuffle only for training data\n",
        "    )\n",
        "    for x in [\"train\", \"valid\", \"test\"]\n",
        "}\n",
        "\n",
        "# function to plot images\n",
        "def imshow(inp, title=None):\n",
        "    \"\"\"Display image from tensor.\"\"\"\n",
        "    inp = inp.numpy().transpose((1, 2, 0))\n",
        "    # Inverse of the initial normalization operation.\n",
        "#     mean = np.array([0.62922242, 0.5377338,  0.49774495])\n",
        "#     std = np.array([0.36688716, 0.30804136, 0.18360957])\n",
        "#     inp = std * inp + mean\n",
        "    inp = np.clip(inp, 0, 1)\n",
        "    plt.imshow(inp)\n",
        "    if title is not None:\n",
        "        plt.title(title)"
      ],
      "metadata": {
        "id": "KzcRAURvezY9",
        "execution": {
          "iopub.status.busy": "2023-09-13T02:59:47.327317Z",
          "iopub.execute_input": "2023-09-13T02:59:47.327711Z",
          "iopub.status.idle": "2023-09-13T02:59:47.795674Z",
          "shell.execute_reply.started": "2023-09-13T02:59:47.327679Z",
          "shell.execute_reply": "2023-09-13T02:59:47.794755Z"
        },
        "trusted": true
      },
      "execution_count": 9,
      "outputs": []
    },
    {
      "cell_type": "code",
      "source": [
        "x=\"valid\"\n",
        "print(len(os.listdir(os.path.join(data_dir, x))))"
      ],
      "metadata": {
        "execution": {
          "iopub.status.busy": "2023-09-13T02:58:45.871189Z",
          "iopub.execute_input": "2023-09-13T02:58:45.871677Z",
          "iopub.status.idle": "2023-09-13T02:58:45.882944Z",
          "shell.execute_reply.started": "2023-09-13T02:58:45.871641Z",
          "shell.execute_reply": "2023-09-13T02:58:45.881898Z"
        },
        "trusted": true,
        "id": "WDCoQOew4PsV"
      },
      "execution_count": null,
      "outputs": []
    },
    {
      "cell_type": "markdown",
      "source": [
        "Let us show a batch of the test data, just to have an idea of the\n",
        "classification problem.\n"
      ],
      "metadata": {
        "id": "Wsd1fshhezY9"
      }
    },
    {
      "cell_type": "code",
      "source": [
        "# Get a batch of training data\n",
        "inputs, classes = next(iter(dataloaders[\"valid\"]))\n",
        "\n",
        "# Make a grid from batch\n",
        "out = torchvision.utils.make_grid(inputs)\n",
        "\n",
        "imshow(out, title=[class_names[x] for x in classes])\n",
        "\n",
        "dataloaders = {\n",
        "    x: torch.utils.data.DataLoader(image_datasets[x], batch_size=batch_size, shuffle=True)\n",
        "    for x in [\"train\", \"valid\",\"test\"]\n",
        "}"
      ],
      "metadata": {
        "id": "21Q5ntU9ezY9",
        "execution": {
          "iopub.status.busy": "2023-09-13T02:59:50.679159Z",
          "iopub.execute_input": "2023-09-13T02:59:50.679546Z",
          "iopub.status.idle": "2023-09-13T02:59:51.225412Z",
          "shell.execute_reply.started": "2023-09-13T02:59:50.679515Z",
          "shell.execute_reply": "2023-09-13T02:59:51.224428Z"
        },
        "trusted": true,
        "colab": {
          "base_uri": "https://localhost:8080/",
          "height": 207
        },
        "outputId": "bdd118b6-2c2e-43bb-cec5-010cf91379c8"
      },
      "execution_count": 10,
      "outputs": [
        {
          "output_type": "display_data",
          "data": {
            "text/plain": [
              "<Figure size 640x480 with 1 Axes>"
            ],
            "image/png": "[encoded data removed]"
          },
          "metadata": {}
        }
      ]
    },
    {
      "cell_type": "code",
      "source": [
        "len(dataloaders['train'])"
      ],
      "metadata": {
        "id": "LszstYVOuF2q",
        "execution": {
          "iopub.status.busy": "2023-09-13T02:59:57.308895Z",
          "iopub.execute_input": "2023-09-13T02:59:57.309292Z",
          "iopub.status.idle": "2023-09-13T02:59:57.316717Z",
          "shell.execute_reply.started": "2023-09-13T02:59:57.309260Z",
          "shell.execute_reply": "2023-09-13T02:59:57.315396Z"
        },
        "trusted": true,
        "colab": {
          "base_uri": "https://localhost:8080/"
        },
        "outputId": "f38ab774-9478-4a25-d79e-ee576d707365"
      },
      "execution_count": 10,
      "outputs": [
        {
          "output_type": "execute_result",
          "data": {
            "text/plain": [
              "161"
            ]
          },
          "metadata": {},
          "execution_count": 10
        }
      ]
    },
    {
      "cell_type": "markdown",
      "source": [
        "Variational quantum circuit\n",
        "===========================\n",
        "\n",
        "We first define some quantum layers that will compose the quantum\n",
        "circuit.\n"
      ],
      "metadata": {
        "id": "yGQy6YbKezY9"
      }
    },
    {
      "cell_type": "code",
      "source": [
        "def H_layer(nqubits):\n",
        "    \"\"\"Layer of single-qubit Hadamard gates.\n",
        "    \"\"\"\n",
        "    for idx in range(nqubits):\n",
        "        qml.Hadamard(wires=idx)\n",
        "\n",
        "\n",
        "def RY_layer(w):\n",
        "    \"\"\"Layer of parametrized qubit rotations around the y axis.\n",
        "    \"\"\"\n",
        "    for idx, element in enumerate(w):\n",
        "        qml.RY(element, wires=idx)\n",
        "\n",
        "\n",
        "def entangling_layer(nqubits):\n",
        "    \"\"\"Layer of CNOTs followed by another shifted layer of CNOT.\n",
        "    \"\"\"\n",
        "    # In other words it should apply something like :\n",
        "    # CNOT  CNOT  CNOT  CNOT...  CNOT\n",
        "    #   CNOT  CNOT  CNOT...  CNOT\n",
        "    for i in range(0, nqubits - 1, 2):  # Loop over even indices: i=0,2,...N-2\n",
        "        qml.CNOT(wires=[i, i + 1])\n",
        "    for i in range(1, nqubits - 1, 2):  # Loop over odd indices:  i=1,3,...N-3\n",
        "        qml.CNOT(wires=[i, i + 1])"
      ],
      "metadata": {
        "id": "UvVML6ELezY9",
        "execution": {
          "iopub.status.busy": "2023-09-13T03:00:03.484028Z",
          "iopub.execute_input": "2023-09-13T03:00:03.484443Z",
          "iopub.status.idle": "2023-09-13T03:00:03.492192Z",
          "shell.execute_reply.started": "2023-09-13T03:00:03.484413Z",
          "shell.execute_reply": "2023-09-13T03:00:03.490807Z"
        },
        "trusted": true
      },
      "execution_count": 11,
      "outputs": []
    },
    {
      "cell_type": "markdown",
      "source": [
        "Now we define the quantum circuit through the PennyLane\n",
        "[qnode]{.title-ref} decorator .\n",
        "\n",
        "The structure is that of a typical variational quantum circuit:\n",
        "\n",
        "-   **Embedding layer:** All qubits are first initialized in a balanced\n",
        "    superposition of *up* and *down* states, then they are rotated\n",
        "    according to the input parameters (local embedding).\n",
        "-   **Variational layers:** A sequence of trainable rotation layers and\n",
        "    constant entangling layers is applied.\n",
        "-   **Measurement layer:** For each qubit, the local expectation value\n",
        "    of the $Z$ operator is measured. This produces a classical output\n",
        "    vector, suitable for additional post-processing.\n"
      ],
      "metadata": {
        "id": "nc_LtQWLezY9"
      }
    },
    {
      "cell_type": "code",
      "source": [
        "@qml.qnode(dev, interface=\"torch\")\n",
        "def quantum_net(q_input_features, q_weights_flat):\n",
        "    \"\"\"\n",
        "    The variational quantum circuit.\n",
        "    \"\"\"\n",
        "\n",
        "    # Reshape weights\n",
        "    q_weights = q_weights_flat.reshape(q_depth, n_qubits)\n",
        "\n",
        "    # Start from state |+> , unbiased w.r.t. |0> and |1>\n",
        "    H_layer(n_qubits)\n",
        "\n",
        "    # Embed features in the quantum node\n",
        "    RY_layer(q_input_features)\n",
        "\n",
        "    # Sequence of trainable variational layers\n",
        "    for k in range(q_depth):\n",
        "        entangling_layer(n_qubits)\n",
        "        RY_layer(q_weights[k])\n",
        "\n",
        "    # Expectation values in the Z basis\n",
        "    exp_vals = [qml.expval(qml.PauliZ(position)) for position in range(n_qubits)]\n",
        "    return tuple(exp_vals)"
      ],
      "metadata": {
        "id": "gdCF04tVezY9",
        "execution": {
          "iopub.status.busy": "2023-09-13T03:00:07.159763Z",
          "iopub.execute_input": "2023-09-13T03:00:07.160792Z",
          "iopub.status.idle": "2023-09-13T03:00:07.167554Z",
          "shell.execute_reply.started": "2023-09-13T03:00:07.160758Z",
          "shell.execute_reply": "2023-09-13T03:00:07.166527Z"
        },
        "trusted": true
      },
      "execution_count": 12,
      "outputs": []
    },
    {
      "cell_type": "markdown",
      "source": [
        "Dressed quantum circuit\n",
        "=======================\n",
        "\n",
        "We can now define a custom `torch.nn.Module` representing a *dressed*\n",
        "quantum circuit.\n",
        "\n",
        "This is a concatenation of:\n",
        "\n",
        "-   A classical pre-processing layer (`nn.Linear`).\n",
        "-   A classical activation function (`torch.tanh`).\n",
        "-   A constant `np.pi/2.0` scaling.\n",
        "-   The previously defined quantum circuit (`quantum_net`).\n",
        "-   A classical post-processing layer (`nn.Linear`).\n",
        "\n",
        "The input of the module is a batch of vectors with 512 real parameters\n",
        "(features) and the output is a batch of vectors with two real outputs\n",
        "(associated with the two classes of images: *ants* and *bees*).\n"
      ],
      "metadata": {
        "id": "adA2H5pUezY9"
      }
    },
    {
      "cell_type": "code",
      "source": [
        "class DressedQuantumNet(nn.Module):\n",
        "    \"\"\"\n",
        "    Torch module implementing the *dressed* quantum net.\n",
        "    \"\"\"\n",
        "\n",
        "    def __init__(self):\n",
        "        \"\"\"\n",
        "        Definition of the *dressed* layout.\n",
        "        \"\"\"\n",
        "\n",
        "        super().__init__()\n",
        "        self.pre_net = nn.Linear(1280, n_qubits)\n",
        "        self.q_params = nn.Parameter(q_delta * torch.randn(q_depth * n_qubits))\n",
        "        self.post_net = nn.Linear(n_qubits, 3)\n",
        "\n",
        "    def forward(self, input_features):\n",
        "        \"\"\"\n",
        "        Defining how tensors are supposed to move through the *dressed* quantum\n",
        "        net.\n",
        "        \"\"\"\n",
        "\n",
        "        # obtain the input features for the quantum circuit\n",
        "        # by reducing the feature dimension from 512 to 4\n",
        "        pre_out = self.pre_net(input_features)\n",
        "        q_in = torch.tanh(pre_out) * np.pi / 2.0\n",
        "\n",
        "        # Apply the quantum circuit to each element of the batch and append to q_out\n",
        "        q_out = torch.Tensor(0, n_qubits)\n",
        "        q_out = q_out.to(device)\n",
        "        for elem in q_in:\n",
        "            q_out_elem = torch.hstack(quantum_net(elem, self.q_params)).float().unsqueeze(0)\n",
        "            q_out = torch.cat((q_out, q_out_elem))\n",
        "\n",
        "        # return the two-dimensional prediction from the postprocessing layer\n",
        "        return self.post_net(q_out)"
      ],
      "metadata": {
        "id": "fO2bxqpyezY-",
        "execution": {
          "iopub.status.busy": "2023-09-13T03:00:20.549398Z",
          "iopub.execute_input": "2023-09-13T03:00:20.550017Z",
          "iopub.status.idle": "2023-09-13T03:00:20.557487Z",
          "shell.execute_reply.started": "2023-09-13T03:00:20.549985Z",
          "shell.execute_reply": "2023-09-13T03:00:20.556484Z"
        },
        "trusted": true
      },
      "execution_count": 13,
      "outputs": []
    },
    {
      "cell_type": "markdown",
      "source": [
        "## DressedQunatumNet with softmax layer"
      ],
      "metadata": {
        "id": "WeD4AhXTgDID"
      }
    },
    {
      "cell_type": "markdown",
      "source": [
        "Hybrid classical-quantum model\n",
        "==============================\n",
        "\n",
        "We are finally ready to build our full hybrid classical-quantum network.\n",
        "We follow the *transfer learning* approach:\n",
        "\n",
        "1.  First load the classical pre-trained network *ResNet18* from the\n",
        "    `torchvision.models` zoo.\n",
        "2.  Freeze all the weights since they should not be trained.\n",
        "3.  Replace the last fully connected layer with our trainable dressed\n",
        "    quantum circuit (`DressedQuantumNet`).\n",
        "\n",
        "::: {.note}\n",
        "::: {.title}\n",
        "Note\n",
        ":::\n",
        "\n",
        "The *ResNet18* model is automatically downloaded by PyTorch and it may\n",
        "take several minutes (only the first time).\n",
        ":::\n"
      ],
      "metadata": {
        "id": "2FLKTm6uezY-"
      }
    },
    {
      "cell_type": "code",
      "source": [
        "import torchvision.models as models\n",
        "\n",
        "# Define the path to your pre-trained ResNet-50 model's .pth file\n",
        "# model_path = \"/content/drive/MyDrive/Batch_16_model_DR/best_model.pth\"  # Replace with the actual file path\n",
        "\n",
        "# model_hybrid = torchvision.models.resnet18(pretrained=True)\n",
        "model_hybrid = models.mobilenet_v2(pretrained=True).to(device)\n",
        "# model.classifier[1] = nn.Linear(1280, 3).to(device)\n",
        "\n",
        "# Load the pre-trained weights from the .pth file\n",
        "# model_hybrid.load_state_dict(torch.load(model_path))\n",
        "\n",
        "# Modify the output layer to match your target task (3 classes)\n",
        "# num_classes = 3\n",
        "# model_hybrid.fc = torch.nn.Linear(in_features=2048, out_features=num_classes)\n",
        "\n",
        "# model_hybrid = torchvision.models.resnet50(weights=torchvision.models.ResNet50_Weights.IMAGENET1K_V2)\n",
        "# feature_size=512\n",
        "for param in model_hybrid.parameters():\n",
        "    param.requires_grad = False\n",
        "\n",
        "# for param in model_hybrid.fc.parameters():\n",
        "#     param.requires_grad = True\n",
        "# Notice that model_hybrid.fc is the last layer of ResNet18\n",
        "\n",
        "# model_hybrid.fc = DressedQuantumNet()\n",
        "model_hybrid.classifier[1] = DressedQuantumNet().to(device)\n",
        "\n",
        "# Then, unfreeze the last 10 layers\n",
        "# for param in list(model_hybrid.parameters())[-10:]:\n",
        "#     param.requires_grad = True\n",
        "# unfreezing layer4\n",
        "for param in list(model_hybrid.parameters())[-10:]:\n",
        "    param.requires_grad = True\n",
        "\n",
        "# Use CUDA or CPU according to the \"device\" object.\n",
        "model_hybrid = model_hybrid.to(device)"
      ],
      "metadata": {
        "id": "7QqMmtDEezY-",
        "execution": {
          "iopub.status.busy": "2023-09-13T03:01:14.659771Z",
          "iopub.execute_input": "2023-09-13T03:01:14.660224Z",
          "iopub.status.idle": "2023-09-13T03:01:15.594820Z",
          "shell.execute_reply.started": "2023-09-13T03:01:14.660182Z",
          "shell.execute_reply": "2023-09-13T03:01:15.593658Z"
        },
        "trusted": true,
        "colab": {
          "base_uri": "https://localhost:8080/"
        },
        "outputId": "128dc2d6-57be-4ed8-98ad-9178c12740cc"
      },
      "execution_count": 14,
      "outputs": [
        {
          "output_type": "stream",
          "name": "stderr",
          "text": [
            "/usr/local/lib/python3.10/dist-packages/torchvision/models/_utils.py:208: UserWarning: The parameter 'pretrained' is deprecated since 0.13 and may be removed in the future, please use 'weights' instead.\n",
            "  warnings.warn(\n",
            "/usr/local/lib/python3.10/dist-packages/torchvision/models/_utils.py:223: UserWarning: Arguments other than a weight enum or `None` for 'weights' are deprecated since 0.13 and may be removed in the future. The current behavior is equivalent to passing `weights=MobileNet_V2_Weights.IMAGENET1K_V1`. You can also use `weights=MobileNet_V2_Weights.DEFAULT` to get the most up-to-date weights.\n",
            "  warnings.warn(msg)\n"
          ]
        }
      ]
    },
    {
      "cell_type": "code",
      "source": [
        "model_hybrid = models.mobilenet_v2(pretrained=True).to(device)\n",
        "for param in model_hybrid.parameters():\n",
        "    param.requires_grad = False\n",
        "\n",
        "model_hybrid.classifier[1] = DressedQuantumNet().to(device)\n",
        "for param in list(model_hybrid.parameters())[-10:]:\n",
        "    param.requires_grad = True"
      ],
      "metadata": {
        "id": "stYm2Locm07T"
      },
      "execution_count": null,
      "outputs": []
    },
    {
      "cell_type": "code",
      "source": [
        "model_hybrid"
      ],
      "metadata": {
        "id": "u-jRKJ7LnsMF",
        "execution": {
          "iopub.status.busy": "2023-09-13T03:01:33.079404Z",
          "iopub.execute_input": "2023-09-13T03:01:33.079795Z",
          "iopub.status.idle": "2023-09-13T03:01:33.087450Z",
          "shell.execute_reply.started": "2023-09-13T03:01:33.079764Z",
          "shell.execute_reply": "2023-09-13T03:01:33.086233Z"
        },
        "trusted": true,
        "colab": {
          "base_uri": "https://localhost:8080/"
        },
        "outputId": "6810ca09-72f4-42cb-b149-fa8ec742ca30"
      },
      "execution_count": 15,
      "outputs": [
        {
          "output_type": "execute_result",
          "data": {
            "text/plain": [
              "MobileNetV2(\n",
              "  (features): Sequential(\n",
              "    (0): Conv2dNormActivation(\n",
              "      (0): Conv2d(3, 32, kernel_size=(3, 3), stride=(2, 2), padding=(1, 1), bias=False)\n",
              "      (1): BatchNorm2d(32, eps=1e-05, momentum=0.1, affine=True, track_running_stats=True)\n",
              "      (2): ReLU6(inplace=True)\n",
              "    )\n",
              "    (1): InvertedResidual(\n",
              "      (conv): Sequential(\n",
              "        (0): Conv2dNormActivation(\n",
              "          (0): Conv2d(32, 32, kernel_size=(3, 3), stride=(1, 1), padding=(1, 1), groups=32, bias=False)\n",
              "          (1): BatchNorm2d(32, eps=1e-05, momentum=0.1, affine=True, track_running_stats=True)\n",
              "          (2): ReLU6(inplace=True)\n",
              "        )\n",
              "        (1): Conv2d(32, 16, kernel_size=(1, 1), stride=(1, 1), bias=False)\n",
              "        (2): BatchNorm2d(16, eps=1e-05, momentum=0.1, affine=True, track_running_stats=True)\n",
              "      )\n",
              "    )\n",
              "    (2): InvertedResidual(\n",
              "      (conv): Sequential(\n",
              "        (0): Conv2dNormActivation(\n",
              "          (0): Conv2d(16, 96, kernel_size=(1, 1), stride=(1, 1), bias=False)\n",
              "          (1): BatchNorm2d(96, eps=1e-05, momentum=0.1, affine=True, track_running_stats=True)\n",
              "          (2): ReLU6(inplace=True)\n",
              "        )\n",
              "        (1): Conv2dNormActivation(\n",
              "          (0): Conv2d(96, 96, kernel_size=(3, 3), stride=(2, 2), padding=(1, 1), groups=96, bias=False)\n",
              "          (1): BatchNorm2d(96, eps=1e-05, momentum=0.1, affine=True, track_running_stats=True)\n",
              "          (2): ReLU6(inplace=True)\n",
              "        )\n",
              "        (2): Conv2d(96, 24, kernel_size=(1, 1), stride=(1, 1), bias=False)\n",
              "        (3): BatchNorm2d(24, eps=1e-05, momentum=0.1, affine=True, track_running_stats=True)\n",
              "      )\n",
              "    )\n",
              "    (3): InvertedResidual(\n",
              "      (conv): Sequential(\n",
              "        (0): Conv2dNormActivation(\n",
              "          (0): Conv2d(24, 144, kernel_size=(1, 1), stride=(1, 1), bias=False)\n",
              "          (1): BatchNorm2d(144, eps=1e-05, momentum=0.1, affine=True, track_running_stats=True)\n",
              "          (2): ReLU6(inplace=True)\n",
              "        )\n",
              "        (1): Conv2dNormActivation(\n",
              "          (0): Conv2d(144, 144, kernel_size=(3, 3), stride=(1, 1), padding=(1, 1), groups=144, bias=False)\n",
              "          (1): BatchNorm2d(144, eps=1e-05, momentum=0.1, affine=True, track_running_stats=True)\n",
              "          (2): ReLU6(inplace=True)\n",
              "        )\n",
              "        (2): Conv2d(144, 24, kernel_size=(1, 1), stride=(1, 1), bias=False)\n",
              "        (3): BatchNorm2d(24, eps=1e-05, momentum=0.1, affine=True, track_running_stats=True)\n",
              "      )\n",
              "    )\n",
              "    (4): InvertedResidual(\n",
              "      (conv): Sequential(\n",
              "        (0): Conv2dNormActivation(\n",
              "          (0): Conv2d(24, 144, kernel_size=(1, 1), stride=(1, 1), bias=False)\n",
              "          (1): BatchNorm2d(144, eps=1e-05, momentum=0.1, affine=True, track_running_stats=True)\n",
              "          (2): ReLU6(inplace=True)\n",
              "        )\n",
              "        (1): Conv2dNormActivation(\n",
              "          (0): Conv2d(144, 144, kernel_size=(3, 3), stride=(2, 2), padding=(1, 1), groups=144, bias=False)\n",
              "          (1): BatchNorm2d(144, eps=1e-05, momentum=0.1, affine=True, track_running_stats=True)\n",
              "          (2): ReLU6(inplace=True)\n",
              "        )\n",
              "        (2): Conv2d(144, 32, kernel_size=(1, 1), stride=(1, 1), bias=False)\n",
              "        (3): BatchNorm2d(32, eps=1e-05, momentum=0.1, affine=True, track_running_stats=True)\n",
              "      )\n",
              "    )\n",
              "    (5): InvertedResidual(\n",
              "      (conv): Sequential(\n",
              "        (0): Conv2dNormActivation(\n",
              "          (0): Conv2d(32, 192, kernel_size=(1, 1), stride=(1, 1), bias=False)\n",
              "          (1): BatchNorm2d(192, eps=1e-05, momentum=0.1, affine=True, track_running_stats=True)\n",
              "          (2): ReLU6(inplace=True)\n",
              "        )\n",
              "        (1): Conv2dNormActivation(\n",
              "          (0): Conv2d(192, 192, kernel_size=(3, 3), stride=(1, 1), padding=(1, 1), groups=192, bias=False)\n",
              "          (1): BatchNorm2d(192, eps=1e-05, momentum=0.1, affine=True, track_running_stats=True)\n",
              "          (2): ReLU6(inplace=True)\n",
              "        )\n",
              "        (2): Conv2d(192, 32, kernel_size=(1, 1), stride=(1, 1), bias=False)\n",
              "        (3): BatchNorm2d(32, eps=1e-05, momentum=0.1, affine=True, track_running_stats=True)\n",
              "      )\n",
              "    )\n",
              "    (6): InvertedResidual(\n",
              "      (conv): Sequential(\n",
              "        (0): Conv2dNormActivation(\n",
              "          (0): Conv2d(32, 192, kernel_size=(1, 1), stride=(1, 1), bias=False)\n",
              "          (1): BatchNorm2d(192, eps=1e-05, momentum=0.1, affine=True, track_running_stats=True)\n",
              "          (2): ReLU6(inplace=True)\n",
              "        )\n",
              "        (1): Conv2dNormActivation(\n",
              "          (0): Conv2d(192, 192, kernel_size=(3, 3), stride=(1, 1), padding=(1, 1), groups=192, bias=False)\n",
              "          (1): BatchNorm2d(192, eps=1e-05, momentum=0.1, affine=True, track_running_stats=True)\n",
              "          (2): ReLU6(inplace=True)\n",
              "        )\n",
              "        (2): Conv2d(192, 32, kernel_size=(1, 1), stride=(1, 1), bias=False)\n",
              "        (3): BatchNorm2d(32, eps=1e-05, momentum=0.1, affine=True, track_running_stats=True)\n",
              "      )\n",
              "    )\n",
              "    (7): InvertedResidual(\n",
              "      (conv): Sequential(\n",
              "        (0): Conv2dNormActivation(\n",
              "          (0): Conv2d(32, 192, kernel_size=(1, 1), stride=(1, 1), bias=False)\n",
              "          (1): BatchNorm2d(192, eps=1e-05, momentum=0.1, affine=True, track_running_stats=True)\n",
              "          (2): ReLU6(inplace=True)\n",
              "        )\n",
              "        (1): Conv2dNormActivation(\n",
              "          (0): Conv2d(192, 192, kernel_size=(3, 3), stride=(2, 2), padding=(1, 1), groups=192, bias=False)\n",
              "          (1): BatchNorm2d(192, eps=1e-05, momentum=0.1, affine=True, track_running_stats=True)\n",
              "          (2): ReLU6(inplace=True)\n",
              "        )\n",
              "        (2): Conv2d(192, 64, kernel_size=(1, 1), stride=(1, 1), bias=False)\n",
              "        (3): BatchNorm2d(64, eps=1e-05, momentum=0.1, affine=True, track_running_stats=True)\n",
              "      )\n",
              "    )\n",
              "    (8): InvertedResidual(\n",
              "      (conv): Sequential(\n",
              "        (0): Conv2dNormActivation(\n",
              "          (0): Conv2d(64, 384, kernel_size=(1, 1), stride=(1, 1), bias=False)\n",
              "          (1): BatchNorm2d(384, eps=1e-05, momentum=0.1, affine=True, track_running_stats=True)\n",
              "          (2): ReLU6(inplace=True)\n",
              "        )\n",
              "        (1): Conv2dNormActivation(\n",
              "          (0): Conv2d(384, 384, kernel_size=(3, 3), stride=(1, 1), padding=(1, 1), groups=384, bias=False)\n",
              "          (1): BatchNorm2d(384, eps=1e-05, momentum=0.1, affine=True, track_running_stats=True)\n",
              "          (2): ReLU6(inplace=True)\n",
              "        )\n",
              "        (2): Conv2d(384, 64, kernel_size=(1, 1), stride=(1, 1), bias=False)\n",
              "        (3): BatchNorm2d(64, eps=1e-05, momentum=0.1, affine=True, track_running_stats=True)\n",
              "      )\n",
              "    )\n",
              "    (9): InvertedResidual(\n",
              "      (conv): Sequential(\n",
              "        (0): Conv2dNormActivation(\n",
              "          (0): Conv2d(64, 384, kernel_size=(1, 1), stride=(1, 1), bias=False)\n",
              "          (1): BatchNorm2d(384, eps=1e-05, momentum=0.1, affine=True, track_running_stats=True)\n",
              "          (2): ReLU6(inplace=True)\n",
              "        )\n",
              "        (1): Conv2dNormActivation(\n",
              "          (0): Conv2d(384, 384, kernel_size=(3, 3), stride=(1, 1), padding=(1, 1), groups=384, bias=False)\n",
              "          (1): BatchNorm2d(384, eps=1e-05, momentum=0.1, affine=True, track_running_stats=True)\n",
              "          (2): ReLU6(inplace=True)\n",
              "        )\n",
              "        (2): Conv2d(384, 64, kernel_size=(1, 1), stride=(1, 1), bias=False)\n",
              "        (3): BatchNorm2d(64, eps=1e-05, momentum=0.1, affine=True, track_running_stats=True)\n",
              "      )\n",
              "    )\n",
              "    (10): InvertedResidual(\n",
              "      (conv): Sequential(\n",
              "        (0): Conv2dNormActivation(\n",
              "          (0): Conv2d(64, 384, kernel_size=(1, 1), stride=(1, 1), bias=False)\n",
              "          (1): BatchNorm2d(384, eps=1e-05, momentum=0.1, affine=True, track_running_stats=True)\n",
              "          (2): ReLU6(inplace=True)\n",
              "        )\n",
              "        (1): Conv2dNormActivation(\n",
              "          (0): Conv2d(384, 384, kernel_size=(3, 3), stride=(1, 1), padding=(1, 1), groups=384, bias=False)\n",
              "          (1): BatchNorm2d(384, eps=1e-05, momentum=0.1, affine=True, track_running_stats=True)\n",
              "          (2): ReLU6(inplace=True)\n",
              "        )\n",
              "        (2): Conv2d(384, 64, kernel_size=(1, 1), stride=(1, 1), bias=False)\n",
              "        (3): BatchNorm2d(64, eps=1e-05, momentum=0.1, affine=True, track_running_stats=True)\n",
              "      )\n",
              "    )\n",
              "    (11): InvertedResidual(\n",
              "      (conv): Sequential(\n",
              "        (0): Conv2dNormActivation(\n",
              "          (0): Conv2d(64, 384, kernel_size=(1, 1), stride=(1, 1), bias=False)\n",
              "          (1): BatchNorm2d(384, eps=1e-05, momentum=0.1, affine=True, track_running_stats=True)\n",
              "          (2): ReLU6(inplace=True)\n",
              "        )\n",
              "        (1): Conv2dNormActivation(\n",
              "          (0): Conv2d(384, 384, kernel_size=(3, 3), stride=(1, 1), padding=(1, 1), groups=384, bias=False)\n",
              "          (1): BatchNorm2d(384, eps=1e-05, momentum=0.1, affine=True, track_running_stats=True)\n",
              "          (2): ReLU6(inplace=True)\n",
              "        )\n",
              "        (2): Conv2d(384, 96, kernel_size=(1, 1), stride=(1, 1), bias=False)\n",
              "        (3): BatchNorm2d(96, eps=1e-05, momentum=0.1, affine=True, track_running_stats=True)\n",
              "      )\n",
              "    )\n",
              "    (12): InvertedResidual(\n",
              "      (conv): Sequential(\n",
              "        (0): Conv2dNormActivation(\n",
              "          (0): Conv2d(96, 576, kernel_size=(1, 1), stride=(1, 1), bias=False)\n",
              "          (1): BatchNorm2d(576, eps=1e-05, momentum=0.1, affine=True, track_running_stats=True)\n",
              "          (2): ReLU6(inplace=True)\n",
              "        )\n",
              "        (1): Conv2dNormActivation(\n",
              "          (0): Conv2d(576, 576, kernel_size=(3, 3), stride=(1, 1), padding=(1, 1), groups=576, bias=False)\n",
              "          (1): BatchNorm2d(576, eps=1e-05, momentum=0.1, affine=True, track_running_stats=True)\n",
              "          (2): ReLU6(inplace=True)\n",
              "        )\n",
              "        (2): Conv2d(576, 96, kernel_size=(1, 1), stride=(1, 1), bias=False)\n",
              "        (3): BatchNorm2d(96, eps=1e-05, momentum=0.1, affine=True, track_running_stats=True)\n",
              "      )\n",
              "    )\n",
              "    (13): InvertedResidual(\n",
              "      (conv): Sequential(\n",
              "        (0): Conv2dNormActivation(\n",
              "          (0): Conv2d(96, 576, kernel_size=(1, 1), stride=(1, 1), bias=False)\n",
              "          (1): BatchNorm2d(576, eps=1e-05, momentum=0.1, affine=True, track_running_stats=True)\n",
              "          (2): ReLU6(inplace=True)\n",
              "        )\n",
              "        (1): Conv2dNormActivation(\n",
              "          (0): Conv2d(576, 576, kernel_size=(3, 3), stride=(1, 1), padding=(1, 1), groups=576, bias=False)\n",
              "          (1): BatchNorm2d(576, eps=1e-05, momentum=0.1, affine=True, track_running_stats=True)\n",
              "          (2): ReLU6(inplace=True)\n",
              "        )\n",
              "        (2): Conv2d(576, 96, kernel_size=(1, 1), stride=(1, 1), bias=False)\n",
              "        (3): BatchNorm2d(96, eps=1e-05, momentum=0.1, affine=True, track_running_stats=True)\n",
              "      )\n",
              "    )\n",
              "    (14): InvertedResidual(\n",
              "      (conv): Sequential(\n",
              "        (0): Conv2dNormActivation(\n",
              "          (0): Conv2d(96, 576, kernel_size=(1, 1), stride=(1, 1), bias=False)\n",
              "          (1): BatchNorm2d(576, eps=1e-05, momentum=0.1, affine=True, track_running_stats=True)\n",
              "          (2): ReLU6(inplace=True)\n",
              "        )\n",
              "        (1): Conv2dNormActivation(\n",
              "          (0): Conv2d(576, 576, kernel_size=(3, 3), stride=(2, 2), padding=(1, 1), groups=576, bias=False)\n",
              "          (1): BatchNorm2d(576, eps=1e-05, momentum=0.1, affine=True, track_running_stats=True)\n",
              "          (2): ReLU6(inplace=True)\n",
              "        )\n",
              "        (2): Conv2d(576, 160, kernel_size=(1, 1), stride=(1, 1), bias=False)\n",
              "        (3): BatchNorm2d(160, eps=1e-05, momentum=0.1, affine=True, track_running_stats=True)\n",
              "      )\n",
              "    )\n",
              "    (15): InvertedResidual(\n",
              "      (conv): Sequential(\n",
              "        (0): Conv2dNormActivation(\n",
              "          (0): Conv2d(160, 960, kernel_size=(1, 1), stride=(1, 1), bias=False)\n",
              "          (1): BatchNorm2d(960, eps=1e-05, momentum=0.1, affine=True, track_running_stats=True)\n",
              "          (2): ReLU6(inplace=True)\n",
              "        )\n",
              "        (1): Conv2dNormActivation(\n",
              "          (0): Conv2d(960, 960, kernel_size=(3, 3), stride=(1, 1), padding=(1, 1), groups=960, bias=False)\n",
              "          (1): BatchNorm2d(960, eps=1e-05, momentum=0.1, affine=True, track_running_stats=True)\n",
              "          (2): ReLU6(inplace=True)\n",
              "        )\n",
              "        (2): Conv2d(960, 160, kernel_size=(1, 1), stride=(1, 1), bias=False)\n",
              "        (3): BatchNorm2d(160, eps=1e-05, momentum=0.1, affine=True, track_running_stats=True)\n",
              "      )\n",
              "    )\n",
              "    (16): InvertedResidual(\n",
              "      (conv): Sequential(\n",
              "        (0): Conv2dNormActivation(\n",
              "          (0): Conv2d(160, 960, kernel_size=(1, 1), stride=(1, 1), bias=False)\n",
              "          (1): BatchNorm2d(960, eps=1e-05, momentum=0.1, affine=True, track_running_stats=True)\n",
              "          (2): ReLU6(inplace=True)\n",
              "        )\n",
              "        (1): Conv2dNormActivation(\n",
              "          (0): Conv2d(960, 960, kernel_size=(3, 3), stride=(1, 1), padding=(1, 1), groups=960, bias=False)\n",
              "          (1): BatchNorm2d(960, eps=1e-05, momentum=0.1, affine=True, track_running_stats=True)\n",
              "          (2): ReLU6(inplace=True)\n",
              "        )\n",
              "        (2): Conv2d(960, 160, kernel_size=(1, 1), stride=(1, 1), bias=False)\n",
              "        (3): BatchNorm2d(160, eps=1e-05, momentum=0.1, affine=True, track_running_stats=True)\n",
              "      )\n",
              "    )\n",
              "    (17): InvertedResidual(\n",
              "      (conv): Sequential(\n",
              "        (0): Conv2dNormActivation(\n",
              "          (0): Conv2d(160, 960, kernel_size=(1, 1), stride=(1, 1), bias=False)\n",
              "          (1): BatchNorm2d(960, eps=1e-05, momentum=0.1, affine=True, track_running_stats=True)\n",
              "          (2): ReLU6(inplace=True)\n",
              "        )\n",
              "        (1): Conv2dNormActivation(\n",
              "          (0): Conv2d(960, 960, kernel_size=(3, 3), stride=(1, 1), padding=(1, 1), groups=960, bias=False)\n",
              "          (1): BatchNorm2d(960, eps=1e-05, momentum=0.1, affine=True, track_running_stats=True)\n",
              "          (2): ReLU6(inplace=True)\n",
              "        )\n",
              "        (2): Conv2d(960, 320, kernel_size=(1, 1), stride=(1, 1), bias=False)\n",
              "        (3): BatchNorm2d(320, eps=1e-05, momentum=0.1, affine=True, track_running_stats=True)\n",
              "      )\n",
              "    )\n",
              "    (18): Conv2dNormActivation(\n",
              "      (0): Conv2d(320, 1280, kernel_size=(1, 1), stride=(1, 1), bias=False)\n",
              "      (1): BatchNorm2d(1280, eps=1e-05, momentum=0.1, affine=True, track_running_stats=True)\n",
              "      (2): ReLU6(inplace=True)\n",
              "    )\n",
              "  )\n",
              "  (classifier): Sequential(\n",
              "    (0): Dropout(p=0.2, inplace=False)\n",
              "    (1): DressedQuantumNet(\n",
              "      (pre_net): Linear(in_features=1280, out_features=6, bias=True)\n",
              "      (post_net): Linear(in_features=6, out_features=3, bias=True)\n",
              "    )\n",
              "  )\n",
              ")"
            ]
          },
          "metadata": {},
          "execution_count": 15
        }
      ]
    },
    {
      "cell_type": "code",
      "source": [
        "from prettytable import PrettyTable\n",
        "\n",
        "def count_parameters(model):\n",
        "    table = PrettyTable([\"Modules\", \"Parameters\"])\n",
        "    total_params = 0\n",
        "    for name, parameter in model.named_parameters():\n",
        "        if not parameter.requires_grad:\n",
        "            continue\n",
        "        params = parameter.numel()\n",
        "        table.add_row([name, params])\n",
        "        total_params += params\n",
        "    print(table)\n",
        "    print(f\"Total Trainable Params: {total_params}\")\n",
        "    return total_params\n",
        "\n",
        "count_parameters(model_hybrid)\n"
      ],
      "metadata": {
        "id": "U6Gb4pD5rJcM",
        "execution": {
          "iopub.status.busy": "2023-09-13T03:01:37.049048Z",
          "iopub.execute_input": "2023-09-13T03:01:37.050110Z",
          "iopub.status.idle": "2023-09-13T03:01:37.085174Z",
          "shell.execute_reply.started": "2023-09-13T03:01:37.050060Z",
          "shell.execute_reply": "2023-09-13T03:01:37.084004Z"
        },
        "trusted": true,
        "colab": {
          "base_uri": "https://localhost:8080/"
        },
        "outputId": "2cf2cbd1-4e70-4ccf-d067-8247d4b14e89"
      },
      "execution_count": 16,
      "outputs": [
        {
          "output_type": "stream",
          "name": "stdout",
          "text": [
            "+------------------------------+------------+\n",
            "|           Modules            | Parameters |\n",
            "+------------------------------+------------+\n",
            "|  features.17.conv.3.weight   |    320     |\n",
            "|   features.17.conv.3.bias    |    320     |\n",
            "|     features.18.0.weight     |   409600   |\n",
            "|     features.18.1.weight     |    1280    |\n",
            "|      features.18.1.bias      |    1280    |\n",
            "|    classifier.1.q_params     |     24     |\n",
            "| classifier.1.pre_net.weight  |    7680    |\n",
            "|  classifier.1.pre_net.bias   |     6      |\n",
            "| classifier.1.post_net.weight |     18     |\n",
            "|  classifier.1.post_net.bias  |     3      |\n",
            "+------------------------------+------------+\n",
            "Total Trainable Params: 420531\n"
          ]
        },
        {
          "output_type": "execute_result",
          "data": {
            "text/plain": [
              "420531"
            ]
          },
          "metadata": {},
          "execution_count": 16
        }
      ]
    },
    {
      "cell_type": "markdown",
      "source": [
        "# Vgg + Resnet 18"
      ],
      "metadata": {
        "id": "uLrra31GFV1L"
      }
    },
    {
      "cell_type": "markdown",
      "source": [
        "Training and results\n",
        "====================\n",
        "\n",
        "Before training the network we need to specify the *loss* function.\n",
        "\n",
        "We use, as usual in classification problem, the *cross-entropy* which is\n",
        "directly available within `torch.nn`.\n"
      ],
      "metadata": {
        "id": "uoIFmFTeezY-"
      }
    },
    {
      "cell_type": "code",
      "source": [
        "criterion = nn.CrossEntropyLoss()\n",
        "# criterion=nn.BCELoss()"
      ],
      "metadata": {
        "id": "1PKP7sCdezY-",
        "execution": {
          "iopub.status.busy": "2023-09-13T03:01:44.799076Z",
          "iopub.execute_input": "2023-09-13T03:01:44.799958Z",
          "iopub.status.idle": "2023-09-13T03:01:44.804596Z",
          "shell.execute_reply.started": "2023-09-13T03:01:44.799926Z",
          "shell.execute_reply": "2023-09-13T03:01:44.803458Z"
        },
        "trusted": true
      },
      "execution_count": 17,
      "outputs": []
    },
    {
      "cell_type": "markdown",
      "source": [
        "We also initialize the *Adam optimizer* which is called at each training\n",
        "step in order to update the weights of the model.\n"
      ],
      "metadata": {
        "id": "DQzIf3OzezY-"
      }
    },
    {
      "cell_type": "code",
      "source": [
        "optimizer_hybrid = optim.Adam(filter(lambda p: p.requires_grad, model_hybrid.parameters()), lr=step)"
      ],
      "metadata": {
        "id": "KC_Do5uYezY-",
        "execution": {
          "iopub.status.busy": "2023-09-13T03:01:48.469111Z",
          "iopub.execute_input": "2023-09-13T03:01:48.469671Z",
          "iopub.status.idle": "2023-09-13T03:01:48.476311Z",
          "shell.execute_reply.started": "2023-09-13T03:01:48.469633Z",
          "shell.execute_reply": "2023-09-13T03:01:48.475057Z"
        },
        "trusted": true
      },
      "execution_count": 18,
      "outputs": []
    },
    {
      "cell_type": "markdown",
      "source": [
        "We schedule to reduce the learning rate by a factor of\n",
        "`gamma_lr_scheduler` every 10 epochs.\n"
      ],
      "metadata": {
        "id": "D2TXENZNezY-"
      }
    },
    {
      "cell_type": "code",
      "source": [
        "exp_lr_scheduler = lr_scheduler.StepLR(\n",
        "    optimizer_hybrid, step_size=10, gamma=gamma_lr_scheduler\n",
        ")"
      ],
      "metadata": {
        "id": "_hzR1uldezY-",
        "execution": {
          "iopub.status.busy": "2023-09-13T03:01:56.318674Z",
          "iopub.execute_input": "2023-09-13T03:01:56.319077Z",
          "iopub.status.idle": "2023-09-13T03:01:56.323986Z",
          "shell.execute_reply.started": "2023-09-13T03:01:56.319046Z",
          "shell.execute_reply": "2023-09-13T03:01:56.322906Z"
        },
        "trusted": true
      },
      "execution_count": 19,
      "outputs": []
    },
    {
      "cell_type": "markdown",
      "source": [
        "What follows is a training function that will be called later. This\n",
        "function should return a trained model that can be used to make\n",
        "predictions (classifications).\n"
      ],
      "metadata": {
        "id": "-NbxzoP8ezY_"
      }
    },
    {
      "cell_type": "code",
      "source": [
        "num_epochs=25"
      ],
      "metadata": {
        "id": "BeerrQPEfxgo",
        "execution": {
          "iopub.status.busy": "2023-09-13T03:02:02.539251Z",
          "iopub.execute_input": "2023-09-13T03:02:02.539644Z",
          "iopub.status.idle": "2023-09-13T03:02:02.544661Z",
          "shell.execute_reply.started": "2023-09-13T03:02:02.539613Z",
          "shell.execute_reply": "2023-09-13T03:02:02.543298Z"
        },
        "trusted": true
      },
      "execution_count": 20,
      "outputs": []
    },
    {
      "cell_type": "markdown",
      "source": [
        "## Code for training the model"
      ],
      "metadata": {
        "id": "BhfKRxGfIqS3"
      }
    },
    {
      "cell_type": "code",
      "source": [
        "def train_model(model, criterion, optimizer, scheduler, num_epochs):\n",
        "    since = time.time()\n",
        "    best_model_wts = copy.deepcopy(model.state_dict())\n",
        "    best_acc = 0.0\n",
        "    best_loss = 10000.0  # Large arbitrary number\n",
        "    best_acc_train = 0.0\n",
        "    best_loss_train = 10000.0  # Large arbitrary number\n",
        "    print(\"Training started:\")\n",
        "\n",
        "    for epoch in range(num_epochs):\n",
        "\n",
        "        # Each epoch has a training and validation phase\n",
        "        for phase in [\"train\", \"valid\"]:\n",
        "            if phase == \"train\":\n",
        "                # Set model to training mode\n",
        "                model.train()\n",
        "            else:\n",
        "                # Set model to evaluate mode\n",
        "                model.eval()\n",
        "            running_loss = 0.0\n",
        "            running_corrects = 0\n",
        "\n",
        "            # Iterate over data.\n",
        "            n_batches = dataset_sizes[phase] // batch_size\n",
        "            it = 0\n",
        "            for inputs, labels in dataloaders[phase]:\n",
        "                since_batch = time.time()\n",
        "                batch_size_ = len(inputs)\n",
        "                inputs = inputs.to(device)\n",
        "                labels = labels.to(device)\n",
        "                optimizer.zero_grad()\n",
        "\n",
        "                # Track/compute gradient and make an optimization step only when training\n",
        "                with torch.set_grad_enabled(phase == \"train\"):\n",
        "                    outputs = model(inputs)\n",
        "                    _, preds = torch.max(outputs, 1)\n",
        "                    loss = criterion(outputs, labels)\n",
        "                    if phase == \"train\":\n",
        "                        loss.backward()\n",
        "                        optimizer.step()\n",
        "\n",
        "                # Print iteration results\n",
        "                running_loss += loss.item() * batch_size_\n",
        "                batch_corrects = torch.sum(preds == labels.data).item()\n",
        "                running_corrects += batch_corrects\n",
        "                print(\n",
        "                    \"Phase: {} Epoch: {}/{} Iter: {}/{} Batch time: {:.4f}\".format(\n",
        "                        phase,\n",
        "                        epoch + 1,\n",
        "                        num_epochs,\n",
        "                        it + 1,\n",
        "                        n_batches + 1,\n",
        "                        time.time() - since_batch,\n",
        "                    ),\n",
        "                    end=\"\\r\",\n",
        "                    flush=True,\n",
        "                )\n",
        "                it += 1\n",
        "\n",
        "            # Print epoch results\n",
        "            epoch_loss = running_loss / dataset_sizes[phase]\n",
        "            epoch_acc = running_corrects / dataset_sizes[phase]\n",
        "            print(\n",
        "                \"Phase: {} Epoch: {}/{} Loss: {:.4f} Acc: {:.4f}        \".format(\n",
        "                    \"train\" if phase == \"train\" else \"valid\",\n",
        "                    epoch + 1,\n",
        "                    num_epochs,\n",
        "                    epoch_loss,\n",
        "                    epoch_acc,\n",
        "                )\n",
        "            )\n",
        "\n",
        "            # Check if this is the best model wrt previous epochs\n",
        "            if phase == \"valid\" and epoch_acc > best_acc:\n",
        "                best_acc = epoch_acc\n",
        "                best_model_wts = copy.deepcopy(model.state_dict())\n",
        "            if phase == \"valid\" and epoch_loss < best_loss:\n",
        "                best_loss = epoch_loss\n",
        "            if phase == \"train\" and epoch_acc > best_acc_train:\n",
        "                best_acc_train = epoch_acc\n",
        "            if phase == \"train\" and epoch_loss < best_loss_train:\n",
        "                best_loss_train = epoch_loss\n",
        "\n",
        "            # Update learning rate\n",
        "            if phase == \"train\":\n",
        "                scheduler.step()\n",
        "\n",
        "    # Print final results\n",
        "    model.load_state_dict(best_model_wts)\n",
        "    time_elapsed = time.time() - since\n",
        "    print(\n",
        "        \"Training completed in {:.0f}m {:.0f}s\".format(time_elapsed // 60, time_elapsed % 60)\n",
        "    )\n",
        "    print(\"Best test loss: {:.4f} | Best test accuracy: {:.4f}\".format(best_loss, best_acc))\n",
        "    return model"
      ],
      "metadata": {
        "id": "n74oEQUGezY_",
        "execution": {
          "iopub.status.busy": "2023-09-13T03:02:57.916040Z",
          "iopub.execute_input": "2023-09-13T03:02:57.916486Z",
          "iopub.status.idle": "2023-09-13T03:02:57.932845Z",
          "shell.execute_reply.started": "2023-09-13T03:02:57.916453Z",
          "shell.execute_reply": "2023-09-13T03:02:57.931605Z"
        },
        "trusted": true
      },
      "execution_count": 21,
      "outputs": []
    },
    {
      "cell_type": "markdown",
      "source": [
        "We are ready to perform the actual training process.\n"
      ],
      "metadata": {
        "id": "phkFMRMAezY_"
      }
    },
    {
      "cell_type": "code",
      "source": [
        "model_hybrid = train_model(\n",
        "    model_hybrid, criterion, optimizer_hybrid, exp_lr_scheduler, num_epochs=num_epochs\n",
        ")\n",
        "'''\n",
        "Resnet18 10 ep -> 0.8636\n",
        "'''"
      ],
      "metadata": {
        "id": "caoJqL34ezY_",
        "execution": {
          "iopub.status.busy": "2023-09-13T03:03:02.065261Z",
          "iopub.execute_input": "2023-09-13T03:03:02.066201Z",
          "iopub.status.idle": "2023-09-13T03:06:12.602753Z",
          "shell.execute_reply.started": "2023-09-13T03:03:02.066162Z",
          "shell.execute_reply": "2023-09-13T03:06:12.600984Z"
        },
        "trusted": true
      },
      "execution_count": null,
      "outputs": []
    },
    {
      "cell_type": "markdown",
      "source": [
        "We first define a visualization function for a batch of test data.\n"
      ],
      "metadata": {
        "id": "Cl8BaJONezY_"
      }
    },
    {
      "cell_type": "code",
      "source": [
        "# !mv '/content/model_hybrid1.pth' '/content/drive/MyDrive/grid 5.0'\n",
        "# !mv '/content/model_hybrid2.pth' '/content/drive/MyDrive/DR grid'"
      ],
      "metadata": {
        "id": "KJ6mn4r06c0g"
      },
      "execution_count": null,
      "outputs": []
    },
    {
      "cell_type": "markdown",
      "source": [
        "Visualizing the model predictions\n",
        "=================================\n"
      ],
      "metadata": {
        "id": "Do9FWQV3ezY_"
      }
    },
    {
      "cell_type": "code",
      "source": [
        "# def visualize_model(model, num_images=6, fig_name=\"Predictions\"):\n",
        "#     images_so_far = 0\n",
        "#     _fig = plt.figure(fig_name)\n",
        "#     model.eval()\n",
        "#     with torch.no_grad():\n",
        "#         for _i, (inputs, labels) in enumerate(dataloaders[\"validation\"]):\n",
        "#             inputs = inputs.to(device)\n",
        "#             labels = labels.to(device)\n",
        "#             outputs = model(inputs)\n",
        "#             _, preds = torch.max(outputs, 1)\n",
        "#             for j in range(inputs.size()[0]):\n",
        "#                 images_so_far += 1\n",
        "#                 ax = plt.subplot(num_images // 2, 2, images_so_far)\n",
        "#                 ax.axis(\"off\")\n",
        "#                 ax.set_title(f\"A-> {labels[j]},P->{class_names[preds[j]]}\")\n",
        "#                 imshow(inputs.cpu().data[j])\n",
        "#                 if images_so_far == num_images:\n",
        "#                     return"
      ],
      "metadata": {
        "id": "hQq5dAU6ezY_"
      },
      "execution_count": null,
      "outputs": []
    },
    {
      "cell_type": "code",
      "source": [
        "# def visualize_model(model, num_images=6, fig_name=\"Predictions\"):\n",
        "#     images_so_far = 0\n",
        "#     _fig = plt.figure(fig_name)\n",
        "#     model.eval()\n",
        "#     with torch.no_grad():\n",
        "#         for _i, (inputs, labels) in enumerate(dataloaders[\"validation\"]):\n",
        "#             inputs = inputs.to(device)\n",
        "#             labels = labels.to(device)\n",
        "#             outputs = model(inputs)\n",
        "#             _, preds = torch.max(outputs, 1)\n",
        "#             for j in range(inputs.size()[0]):\n",
        "#                 images_so_far += 1\n",
        "#                 ax = plt.subplot(num_images // 2, 2, images_so_far)\n",
        "#                 ax.axis(\"off\")\n",
        "#                 ax.set_title(f\"A->{labels[j]},P->{(class_names[preds[j]])}\")\n",
        "#                 imshow(inputs.cpu().data[j])\n",
        "#                 if images_so_far == num_images:\n",
        "#                     return"
      ],
      "metadata": {
        "id": "cW68txPLJuZJ"
      },
      "execution_count": null,
      "outputs": []
    },
    {
      "cell_type": "code",
      "source": [
        "# # extracted all the loss and accuracy from above training\n",
        "# trainloss = [1.0512, 0.8716, 0.7390, 0.6440, 0.5588, 0.5173, 0.4571, 0.4095, 0.3784, 0.3593, 0.3475, 0.3482, 0.3459, 0.3428, 0.3449, 0.3417, 0.3406, 0.3427, 0.3379, 0.3367, 0.3354, 0.3349, 0.3389, 0.3383, 0.3372]\n",
        "\n",
        "# trainaccuracy = [0.3843, 0.6039, 0.8627, 0.8824, 0.9686, 0.9569, 0.9804, 0.9961, 0.9961, 0.9961, 1.0000, 1.0000, 1.0000, 1.0000, 0.9961, 1.0000, 1.0000, 1.0000, 1.0000, 1.0000, 1.0000, 1.0000, 1.0000, 0.9961, 0.9961]\n",
        "\n",
        "# validationloss= [0.9482, 0.9208, 0.8724, 0.7328, 0.5925, 0.4833, 0.4257, 0.3832, 0.3582, 0.3404, 0.3391, 0.3376, 0.3363, 0.3352, 0.3342, 0.3329, 0.3319, 0.3307, 0.3295, 0.3283, 0.3282, 0.3281, 0.3280, 0.3279, 0.3279]\n",
        "\n",
        "# validationaccuracy= [0.5152, 0.5455, 0.6212, 0.7879, 0.9394, 0.9848, 0.9848, 0.9848, 0.9848, 1.0000, 1.0000, 1.0000, 1.0000, 1.0000, 1.0000, 1.0000, 1.0000, 1.0000, 1.0000, 1.0000, 1.0000, 1.0000, 1.0000, 1.0000, 1.0000]\n"
      ],
      "metadata": {
        "id": "fWJ-t0ooKUAd"
      },
      "execution_count": null,
      "outputs": []
    },
    {
      "cell_type": "code",
      "source": [
        "# import matplotlib.pyplot as plt\n",
        "\n",
        "# # Data\n",
        "# epochs = list(range(1, 26))\n",
        "\n",
        "# # Plotting losses\n",
        "# plt.figure(figsize=(10, 5))\n",
        "# plt.plot(epochs, trainloss, marker='o', label='Training Loss')\n",
        "# plt.plot(epochs, validationloss, marker='o', label='Validation Loss')\n",
        "# plt.xlabel('Epoch')\n",
        "# plt.ylabel('Loss')\n",
        "# plt.title('Training and Validation Loss')\n",
        "# plt.legend()\n",
        "# plt.grid()\n",
        "# plt.show()\n",
        "\n",
        "# # Plotting accuracies\n",
        "# plt.figure(figsize=(10, 5))\n",
        "# plt.plot(epochs, trainaccuracy, marker='o', label='Training Accuracy')\n",
        "# plt.plot(epochs, validationaccuracy, marker='o', label='Validation Accuracy')\n",
        "# plt.xlabel('Epoch')\n",
        "# plt.ylabel('Accuracy')\n",
        "# plt.title('Training and Validation Accuracy')\n",
        "# plt.legend()\n",
        "# plt.grid()\n",
        "# plt.show()\n"
      ],
      "metadata": {
        "id": "2Hp59LKdKlqv"
      },
      "execution_count": null,
      "outputs": []
    },
    {
      "cell_type": "markdown",
      "source": [
        "Finally, we can run the previous function to see a batch of images with\n",
        "the corresponding predictions.\n"
      ],
      "metadata": {
        "id": "l8wcx_UtezY_"
      }
    },
    {
      "cell_type": "code",
      "source": [
        "# visualize_model(model_hybrid, num_images=16)\n",
        "# plt.show()"
      ],
      "metadata": {
        "id": "_6SHsmH-ezY_"
      },
      "execution_count": null,
      "outputs": []
    },
    {
      "cell_type": "markdown",
      "source": [
        "References\n",
        "==========\n",
        "\n",
        "\\[1\\] Andrea Mari, Thomas R. Bromley, Josh Izaac, Maria Schuld, and\n",
        "Nathan Killoran. *Transfer learning in hybrid classical-quantum neural\n",
        "networks*. arXiv:1912.08278 (2019).\n",
        "\n",
        "\\[2\\] Rajat Raina, Alexis Battle, Honglak Lee, Benjamin Packer, and\n",
        "Andrew Y Ng. *Self-taught learning: transfer learning from unlabeled\n",
        "data*. Proceedings of the 24th International Conference on Machine\n",
        "Learning\\*, 759--766 (2007).\n",
        "\n",
        "\\[3\\] Kaiming He, Xiangyu Zhang, Shaoqing ren and Jian Sun. *Deep\n",
        "residual learning for image recognition*. Proceedings of the IEEE\n",
        "Conference on Computer Vision and Pattern Recognition, 770-778 (2016).\n",
        "\n",
        "\\[4\\] Ville Bergholm, Josh Izaac, Maria Schuld, Christian Gogolin,\n",
        "Carsten Blank, Keri McKiernan, and Nathan Killoran. *PennyLane:\n",
        "Automatic differentiation of hybrid quantum-classical computations*.\n",
        "arXiv:1811.04968 (2018).\n",
        "\n",
        "About the author\n",
        "\n",
        "AstroHackers Team\n",
        "\n",
        "\n",
        "================\n"
      ],
      "metadata": {
        "id": "DdyviHXUezY_"
      }
    },
    {
      "cell_type": "code",
      "source": [
        "def test_model(model, criterion, dataloader, phase):\n",
        "    model.eval()  # Set the model to evaluation mode\n",
        "    running_loss = 0.0\n",
        "    running_corrects = 0\n",
        "\n",
        "    # Iterate over data.\n",
        "    n_batches = len(dataloader)\n",
        "    it = 0\n",
        "    for inputs, labels in dataloader:\n",
        "        inputs = inputs.to(device)\n",
        "        labels = labels.to(device)\n",
        "\n",
        "        # Forward pass\n",
        "        with torch.no_grad():  # Disable gradient calculation during inference\n",
        "            outputs = model(inputs)\n",
        "            _, preds = torch.max(outputs, 1)\n",
        "            loss = criterion(outputs, labels)\n",
        "\n",
        "        # Print iteration results\n",
        "        running_loss += loss.item() * inputs.size(0)\n",
        "        batch_corrects = torch.sum(preds == labels.data).item()\n",
        "        running_corrects += batch_corrects\n",
        "        print(\n",
        "            \"Phase: {} Iter: {}/{} Batch Loss: {:.4f}\".format(\n",
        "                phase, it + 1, n_batches, loss.item()\n",
        "            ),\n",
        "            end=\"\\r\",\n",
        "            flush=True,\n",
        "        )\n",
        "        it += 1\n",
        "\n",
        "    # Print results for the entire phase (validation or test)\n",
        "    phase_loss = running_loss / len(dataloader.dataset)\n",
        "    phase_acc = running_corrects / len(dataloader.dataset)\n",
        "    print(\n",
        "        \"Phase: {} Loss: {:.4f} Acc: {:.4f}        \".format(\n",
        "            phase, phase_loss, phase_acc\n",
        "        )\n",
        "    )\n",
        "    return phase_loss, phase_acc\n",
        "\n",
        "# Example usage:\n",
        "# For validation data\n",
        "val_loss, val_acc = test_model(model_hybrid, criterion, dataloaders[\"valid\"], \"valid\")\n",
        "\n",
        "# For test data\n",
        "test_loss, test_acc = test_model(model_hybrid, criterion, dataloaders[\"test\"], \"test\")\n",
        "# model_hybrid1 details:-"
      ],
      "metadata": {
        "id": "C5cYhlPrKcMB"
      },
      "execution_count": null,
      "outputs": []
    },
    {
      "cell_type": "code",
      "source": [
        "torch.save(model_hybrid,\"model_hybrid.pth\")"
      ],
      "metadata": {
        "id": "O4Os7Kdz6U5P"
      },
      "execution_count": null,
      "outputs": []
    },
    {
      "cell_type": "code",
      "source": [
        "import pickle\n",
        "# Save the model\n",
        "pickle.dump(model_hybrid, open('final_model_hybrid.pkl', 'wb'))\n"
      ],
      "metadata": {
        "id": "CyiWEQqmI05n"
      },
      "execution_count": null,
      "outputs": []
    },
    {
      "cell_type": "code",
      "source": [
        "Testing and evaluation\n",
        "model_hybrid.eval()\n",
        "correct = 0\n",
        "total = 0\n",
        "y_pred_list=[]\n",
        "y_true_list=[]\n",
        "with torch.no_grad():\n",
        "    for inputs, labels in dataloaders[\"test\"]:\n",
        "        inputs, labels = inputs.to(device), labels.to(device)\n",
        "        outputs = model_hybrid(inputs)\n",
        "        _, predicted = torch.max(outputs, 1)\n",
        "        # Convert tensor to list and extend the lists\n",
        "        y_pred_list.extend(predicted.cpu().numpy().tolist())\n",
        "        y_true_list.extend(labels.cpu().numpy().tolist())\n",
        "        total += labels.size(0)\n",
        "        correct += (predicted == labels).sum().item()\n",
        "\n",
        "test_accuracy = correct / total\n",
        "print(f\"Test Accuracy: {test_accuracy * 100:.2f}%\")"
      ],
      "metadata": {
        "colab": {
          "base_uri": "https://localhost:8080/"
        },
        "id": "lbFu8XHYtPRL",
        "outputId": "6d9b2f0d-7d26-4e63-b4f2-544cff41e7ce"
      },
      "execution_count": 27,
      "outputs": [
        {
          "output_type": "stream",
          "name": "stdout",
          "text": [
            "Test Accuracy: 98.75%\n"
          ]
        }
      ]
    },
    {
      "cell_type": "code",
      "source": [
        "from sklearn.metrics import classification_report\n",
        "rep=classification_report(y_true_list,y_pred_list)"
      ],
      "metadata": {
        "id": "dWE9BZfmuACl"
      },
      "execution_count": 25,
      "outputs": []
    },
    {
      "cell_type": "code",
      "source": [
        "print(rep)"
      ],
      "metadata": {
        "colab": {
          "base_uri": "https://localhost:8080/"
        },
        "id": "WP82EIVduMXM",
        "outputId": "6ab9769f-b925-4e64-a790-183167c2e0a4"
      },
      "execution_count": 28,
      "outputs": [
        {
          "output_type": "stream",
          "name": "stdout",
          "text": [
            "      precision    recall  f1-score   support\n",
            "\n",
            "           0       1.00      1.00      1.00       198\n",
            "           1       0.99      0.97      0.98        40\n",
            "           2       0.98      0.96      0.97        37\n",
            "\n",
            "    accuracy                           0.99       275\n",
            "   macro avg       0.99      0.98      0.98       275\n",
            "weighted avg       0.99      0.99      0.99       275\n",
            "\n",
            "\n"
          ]
        }
      ]
    },
    {
      "cell_type": "code",
      "source": [],
      "metadata": {
        "id": "VdtT7nFeuNbZ"
      },
      "execution_count": null,
      "outputs": []
    }
  ]
}