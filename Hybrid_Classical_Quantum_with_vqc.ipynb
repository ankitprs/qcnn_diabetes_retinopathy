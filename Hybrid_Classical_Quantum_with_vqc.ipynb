{
  "cells": [
    {
      "cell_type": "markdown",
      "source": [
        "## Image preprocessing code (we have already preprocessed and hosted the dataset on roboflow) so you do not need to run this code explicitly"
      ],
      "metadata": {
        "id": "klZbtDiSJVD5"
      }
    },
    {
      "cell_type": "code",
      "source": [
        "from google.colab import drive\n",
        "drive.mount('/content/drive')"
      ],
      "metadata": {
        "colab": {
          "base_uri": "https://localhost:8080/"
        },
        "id": "iJ_m83153vU4",
        "outputId": "2c2e64f9-db8c-495b-cced-c0dddaf525a0"
      },
      "execution_count": null,
      "outputs": [
        {
          "output_type": "stream",
          "name": "stdout",
          "text": [
            "Mounted at /content/drive\n"
          ]
        }
      ]
    },
    {
      "cell_type": "code",
      "execution_count": null,
      "metadata": {
        "colab": {
          "background_save": true
        },
        "id": "VVD5YZ9vHWaO"
      },
      "outputs": [],
      "source": [
        "\n",
        "class ImageProcessing:\n",
        "    def __init__(self, img_height, img_width, no_channels, tol=10, sigmaX=10):\n",
        "\n",
        "        ''' Initialzation of variables'''\n",
        "\n",
        "        self.img_height = img_height\n",
        "        self.img_width = img_width\n",
        "        self.no_channels = no_channels\n",
        "        self.tol = tol\n",
        "        self.sigmaX = sigmaX\n",
        "\n",
        "    def cropping_2D(self, img, is_cropping = False):\n",
        "\n",
        "        '''This function is used for Cropping the extra dark part of the GRAY images'''\n",
        "\n",
        "        mask = img>self.tol\n",
        "        return img[np.ix_(mask.any(1),mask.any(0))]\n",
        "\n",
        "    def cropping_3D(self, img, is_cropping = False):\n",
        "\n",
        "        '''This function is used for Cropping the extra dark part of the RGB images'''\n",
        "\n",
        "        gray_img = cv2.cvtColor(img, cv2.COLOR_RGB2GRAY)\n",
        "        mask = gray_img>self.tol\n",
        "\n",
        "        check_shape = img[:,:,0][np.ix_(mask.any(1),mask.any(0))].shape[0]\n",
        "        if (check_shape == 0): # if image is too dark we return the image\n",
        "            return img\n",
        "        else:\n",
        "            img1 = img[:,:,0][np.ix_(mask.any(1),mask.any(0))]  #for channel_1 (R)\n",
        "            img2 = img[:,:,1][np.ix_(mask.any(1),mask.any(0))]  #for channel_2 (G)\n",
        "            img3 = img[:,:,2][np.ix_(mask.any(1),mask.any(0))]  #for channel_3 (B)\n",
        "            img = np.stack([img1,img2,img3],axis=-1)\n",
        "        return img\n",
        "\n",
        "    def Gaussian_blur(self, img, is_gaussianblur = False):\n",
        "\n",
        "        '''This function is used for adding Gaussian blur (image smoothing technique) which helps in reducing noise in the image.'''\n",
        "\n",
        "        img = cv2.addWeighted(img,4,cv2.GaussianBlur(img,(0,0),self.sigmaX),-4,128)\n",
        "        return img\n",
        "\n",
        "    def draw_circle(self,img, is_drawcircle = True):\n",
        "\n",
        "        '''This function is used for drawing a circle from the center of the image.'''\n",
        "\n",
        "        x = int(self.img_width/2)\n",
        "        y = int(self.img_height/2)\n",
        "        r = np.amin((x,y))     # finding radius to draw a circle from the center of the image\n",
        "        circle_img = np.zeros((self.img_height, self.img_width), np.uint8)\n",
        "        cv2.circle(circle_img, (x,y), int(r), 1, thickness=-1)\n",
        "        img = cv2.bitwise_and(img, img, mask=circle_img)\n",
        "        return img\n",
        "\n",
        "    def image_preprocessing(self, img, is_cropping = True, is_gaussianblur = True):\n",
        "\n",
        "        \"\"\"\n",
        "        This function takes an image -> crops the extra dark part, resizes, draw a circle on it, and finally adds a gaussian blur to the images\n",
        "        Args : image - (numpy.ndarray) an image which we need to process\n",
        "           cropping - (boolean) whether to perform cropping of extra part(True by Default) or not(False)\n",
        "           gaussian_blur - (boolean) whether to apply gaussian blur to an image(True by Default) or not(False)\n",
        "        Output : (numpy.ndarray) preprocessed image\n",
        "        \"\"\"\n",
        "\n",
        "        if img.ndim == 2:\n",
        "            img = self.cropping_2D(img, is_cropping)  #calling cropping_2D for a GRAY image\n",
        "        else:\n",
        "            img = self.cropping_3D(img, is_cropping)  #calling cropping_3D for a RGB image\n",
        "        img = cv2.resize(img, (self.img_height, self.img_width))  # resizing the image with specified values\n",
        "        # img=cv2.cvtColor(img, cv2.COLOR_BGR2GRAY)\n",
        "        img = self.draw_circle(img)  #calling draw_circle\n",
        "        img = self.Gaussian_blur(img, is_gaussianblur) #calling Gaussian_blur\n",
        "        return img"
      ]
    },
    {
      "cell_type": "code",
      "execution_count": null,
      "metadata": {
        "id": "xeF1ew_5Hjy3"
      },
      "outputs": [],
      "source": [
        "import cv2\n",
        "import numpy as np\n",
        "from PIL import Image\n",
        "\n",
        "\n",
        "def preprocess_pil_image(input_image_pil,imgh=224,imgw=224,channels=3):\n",
        "    # Convert PIL image to numpy array\n",
        "    input_image_np = np.array(input_image_pil)\n",
        "\n",
        "    # Initialize the ImageProcessing class\n",
        "    img_processor = ImageProcessing(imgh,imgw,channels)\n",
        "\n",
        "    # Perform image preprocessing using the ImageProcessing class\n",
        "    preprocessed_image_np = img_processor.image_preprocessing(input_image_np)\n",
        "\n",
        "    # Convert preprocessed numpy array back to PIL image\n",
        "    preprocessed_image_pil = Image.fromarray(preprocessed_image_np)\n",
        "\n",
        "    return preprocessed_image_pil\n"
      ]
    },
    {
      "cell_type": "code",
      "execution_count": null,
      "metadata": {
        "id": "Zv_-jjnHLCd6"
      },
      "outputs": [],
      "source": [
        "from PIL import Image\n",
        "\n",
        "# Load your input PIL image\n",
        "input_image_pil = Image.open(\"/content/hello.img\")\n",
        "\n",
        "# Preprocess the image using the function\n",
        "preprocessed_image_pil = preprocess_pil_image(input_image_pil)\n",
        "\n",
        "# You can save or display the preprocessed image as needed\n",
        "preprocessed_image_pil.save(\"preprocessed_image.jpg\")\n",
        "# preprocessed_image_pil.show()\n"
      ]
    },
    {
      "cell_type": "code",
      "execution_count": null,
      "metadata": {
        "id": "Wjb_iw5lMbDT"
      },
      "outputs": [],
      "source": [
        "single_image_transform = transforms.Compose([\n",
        "    transforms.ToTensor(),\n",
        "])"
      ]
    },
    {
      "cell_type": "code",
      "execution_count": null,
      "metadata": {
        "id": "DfrZianJMiSl"
      },
      "outputs": [],
      "source": [
        "img_tensor=single_image_transform(preprocessed_image_pil)"
      ]
    },
    {
      "cell_type": "code",
      "execution_count": null,
      "metadata": {
        "id": "FkXbiBaXNcjz"
      },
      "outputs": [],
      "source": [
        "def run_inference(model,img_tensor):"
      ]
    },
    {
      "cell_type": "code",
      "execution_count": null,
      "metadata": {
        "colab": {
          "base_uri": "https://localhost:8080/"
        },
        "id": "pketrCWoNUpw",
        "outputId": "b41778c6-a7c1-4b88-ddc3-50438a90072a"
      },
      "outputs": [
        {
          "data": {
            "text/plain": [
              "torch.Size([3, 224, 224])"
            ]
          },
          "execution_count": 33,
          "metadata": {},
          "output_type": "execute_result"
        }
      ],
      "source": [
        "img_tensor.shape"
      ]
    },
    {
      "cell_type": "code",
      "execution_count": null,
      "metadata": {
        "id": "ch8LmEAdezY5"
      },
      "outputs": [],
      "source": [
        "# This cell is added by sphinx-gallery\n",
        "# It can be customized to whatever you like\n",
        "%matplotlib inline"
      ]
    },
    {
      "cell_type": "markdown",
      "metadata": {
        "id": "U9BmpM5hezY6"
      },
      "source": [
        "Quantum transfer learning {#quantum_transfer_learning}\n",
        "=========================\n",
        "\n",
        "::: {.meta}\n",
        ":property=\\\"og:description\\\": Combine PyTorch and PennyLane to train a\n",
        "hybrid quantum-classical image classifier using transfer learning.\n",
        ":property=\\\"og:image\\\":\n",
        "<https://pennylane.ai/qml/_images/transfer_images.png>\n",
        ":::\n",
        "\n",
        "*Author: Andrea Mari --- Posted: 19 December 2019. Last updated: 28\n",
        "January 2021.*\n",
        "\n",
        "In this tutorial we apply a machine learning method, known as *transfer\n",
        "learning*, to an image classifier based on a hybrid classical-quantum\n",
        "network.\n",
        "\n",
        "This example follows the general structure of the PyTorch [tutorial on\n",
        "transfer\n",
        "learning](https://pytorch.org/tutorials/beginner/transfer_learning_tutorial.html)\n",
        "by Sasank Chilamkurthy, with the crucial difference of using a quantum\n",
        "circuit to perform the final classification task.\n",
        "\n",
        "More details on this topic can be found in the research paper \\[1\\]\n",
        "([Mari et al. (2019)](https://arxiv.org/abs/1912.08278)).\n",
        "\n",
        "Introduction\n",
        "------------\n",
        "\n",
        "Transfer learning is a well-established technique for training\n",
        "artificial neural networks (see e.g., Ref. \\[2\\]), which is based on the\n",
        "general intuition that if a pre-trained network is good at solving a\n",
        "given problem, then, with just a bit of additional training, it can be\n",
        "used to also solve a different but related problem.\n",
        "\n",
        "As discussed in Ref. \\[1\\], this idea can be formalized in terms of two\n",
        "abstract networks $A$ and $B$, independently from their quantum or\n",
        "classical physical nature.\n",
        "\n",
        "|\n",
        "\n",
        "![](../demonstrations/quantum_transfer_learning/transfer_learning_general.png){.align-center}\n",
        "\n",
        "|\n",
        "\n",
        "As sketched in the above figure, one can give the following **general\n",
        "definition of the transfer learning method**:\n",
        "\n",
        "1.  Take a network $A$ that has been pre-trained on a dataset $D_A$ and\n",
        "    for a given task $T_A$.\n",
        "2.  Remove some of the final layers. In this way, the resulting\n",
        "    truncated network $A'$ can be used as a feature extractor.\n",
        "3.  Connect a new trainable network $B$ at the end of the pre-trained\n",
        "    network $A'$.\n",
        "4.  Keep the weights of $A'$ constant, and train the final block $B$\n",
        "    with a new dataset $D_B$ and/or for a new task of interest $T_B$.\n",
        "\n",
        "When dealing with hybrid systems, depending on the physical nature\n",
        "(classical or quantum) of the networks $A$ and $B$, one can have\n",
        "different implementations of transfer learning as\n",
        "\n",
        "summarized in following table:\n",
        "\n",
        "|\n",
        "\n",
        "::: {.rst-class}\n",
        "docstable\n",
        ":::\n",
        "\n",
        "  -------------------------------------------------------------------------\n",
        "  Network A   Network B   Transfer learning scheme\n",
        "  ----------- ----------- -------------------------------------------------\n",
        "  Classical   Classical   CC - Standard classical method. See e.g., Ref.\n",
        "                          \\[2\\].\n",
        "\n",
        "  Classical   Quantum     CQ - **Hybrid model presented in this tutorial.**\n",
        "\n",
        "  Quantum     Classical   QC - Model studied in Ref. \\[1\\].\n",
        "\n",
        "  Quantum     Quantum     QQ - Model studied in Ref. \\[1\\].\n",
        "  -------------------------------------------------------------------------\n",
        "\n",
        "Classical-to-quantum transfer learning\n",
        "--------------------------------------\n",
        "\n",
        "We focus on the CQ transfer learning scheme discussed in the previous\n",
        "section and we give a specific example.\n",
        "\n",
        "1.  As pre-trained network $A$ we use **ResNet18**, a deep residual\n",
        "    neural network introduced by Microsoft in Ref. \\[3\\], which is\n",
        "    pre-trained on the *ImageNet* dataset.\n",
        "2.  After removing its final layer we obtain $A'$, a pre-processing\n",
        "    block which maps any input high-resolution image into 512 abstract\n",
        "    features.\n",
        "3.  Such features are classified by a 4-qubit \\\"dressed quantum\n",
        "    circuit\\\" $B$, i.e., a variational quantum circuit sandwiched\n",
        "    between two classical layers.\n",
        "4.  The hybrid model is trained, keeping $A'$ constant, on the\n",
        "    *Hymenoptera* dataset (a small subclass of ImageNet) containing\n",
        "    images of *ants* and *bees*.\n",
        "\n",
        "A graphical representation of the full data processing pipeline is given\n",
        "in the figure below.\n",
        "\n",
        "![](../demonstrations/quantum_transfer_learning/transfer_learning_c2q.png){.align-center}\n"
      ]
    },
    {
      "cell_type": "markdown",
      "metadata": {
        "id": "0P2rfi2fezY7"
      },
      "source": [
        "General setup\n",
        "=============\n",
        "\n",
        "::: {.note}\n",
        "::: {.title}\n",
        "Note\n",
        ":::\n",
        "\n",
        "To use the PyTorch interface in PennyLane, you must first [install\n",
        "PyTorch](https://pytorch.org/get-started/locally/#start-locally).\n",
        ":::\n",
        "\n",
        "In addition to *PennyLane*, we will also need some standard *PyTorch*\n",
        "libraries and the plotting library *matplotlib*.\n"
      ]
    },
    {
      "cell_type": "code",
      "execution_count": null,
      "metadata": {
        "colab": {
          "base_uri": "https://localhost:8080/"
        },
        "id": "JNJgHYYge8G5",
        "outputId": "c557874a-5849-4107-9d00-f76d84fc069f"
      },
      "outputs": [
        {
          "output_type": "stream",
          "name": "stdout",
          "text": [
            "Collecting pennylane\n",
            "  Downloading PennyLane-0.32.0-py3-none-any.whl (1.5 MB)\n",
            "\u001b[2K     \u001b[90m━━━━━━━━━━━━━━━━━━━━━━━━━━━━━━━━━━━━━━━━\u001b[0m \u001b[32m1.5/1.5 MB\u001b[0m \u001b[31m18.3 MB/s\u001b[0m eta \u001b[36m0:00:00\u001b[0m\n",
            "\u001b[?25hRequirement already satisfied: numpy<1.24 in /usr/local/lib/python3.10/dist-packages (from pennylane) (1.23.5)\n",
            "Requirement already satisfied: scipy in /usr/local/lib/python3.10/dist-packages (from pennylane) (1.11.2)\n",
            "Requirement already satisfied: networkx in /usr/local/lib/python3.10/dist-packages (from pennylane) (3.1)\n",
            "Collecting rustworkx (from pennylane)\n",
            "  Downloading rustworkx-0.13.1-cp310-cp310-manylinux_2_17_x86_64.manylinux2014_x86_64.whl (2.0 MB)\n",
            "\u001b[2K     \u001b[90m━━━━━━━━━━━━━━━━━━━━━━━━━━━━━━━━━━━━━━━━\u001b[0m \u001b[32m2.0/2.0 MB\u001b[0m \u001b[31m85.8 MB/s\u001b[0m eta \u001b[36m0:00:00\u001b[0m\n",
            "\u001b[?25hCollecting autograd<=1.5 (from pennylane)\n",
            "  Downloading autograd-1.5-py3-none-any.whl (48 kB)\n",
            "\u001b[2K     \u001b[90m━━━━━━━━━━━━━━━━━━━━━━━━━━━━━━━━━━━━━━━━\u001b[0m \u001b[32m48.9/48.9 kB\u001b[0m \u001b[31m6.9 MB/s\u001b[0m eta \u001b[36m0:00:00\u001b[0m\n",
            "\u001b[?25hRequirement already satisfied: toml in /usr/local/lib/python3.10/dist-packages (from pennylane) (0.10.2)\n",
            "Requirement already satisfied: appdirs in /usr/local/lib/python3.10/dist-packages (from pennylane) (1.4.4)\n",
            "Collecting semantic-version>=2.7 (from pennylane)\n",
            "  Downloading semantic_version-2.10.0-py2.py3-none-any.whl (15 kB)\n",
            "Collecting autoray>=0.3.1 (from pennylane)\n",
            "  Downloading autoray-0.6.6-py3-none-any.whl (54 kB)\n",
            "\u001b[2K     \u001b[90m━━━━━━━━━━━━━━━━━━━━━━━━━━━━━━━━━━━━━━━━\u001b[0m \u001b[32m54.7/54.7 kB\u001b[0m \u001b[31m6.9 MB/s\u001b[0m eta \u001b[36m0:00:00\u001b[0m\n",
            "\u001b[?25hRequirement already satisfied: cachetools in /usr/local/lib/python3.10/dist-packages (from pennylane) (5.3.1)\n",
            "Collecting pennylane-lightning>=0.32 (from pennylane)\n",
            "  Downloading PennyLane_Lightning-0.32.0-cp310-cp310-manylinux_2_17_x86_64.manylinux2014_x86_64.whl (13.6 MB)\n",
            "\u001b[2K     \u001b[90m━━━━━━━━━━━━━━━━━━━━━━━━━━━━━━━━━━━━━━━━\u001b[0m \u001b[32m13.6/13.6 MB\u001b[0m \u001b[31m46.0 MB/s\u001b[0m eta \u001b[36m0:00:00\u001b[0m\n",
            "\u001b[?25hRequirement already satisfied: requests in /usr/local/lib/python3.10/dist-packages (from pennylane) (2.31.0)\n",
            "Requirement already satisfied: typing-extensions in /usr/local/lib/python3.10/dist-packages (from pennylane) (4.5.0)\n",
            "Requirement already satisfied: future>=0.15.2 in /usr/local/lib/python3.10/dist-packages (from autograd<=1.5->pennylane) (0.18.3)\n",
            "Requirement already satisfied: charset-normalizer<4,>=2 in /usr/local/lib/python3.10/dist-packages (from requests->pennylane) (3.2.0)\n",
            "Requirement already satisfied: idna<4,>=2.5 in /usr/local/lib/python3.10/dist-packages (from requests->pennylane) (3.4)\n",
            "Requirement already satisfied: urllib3<3,>=1.21.1 in /usr/local/lib/python3.10/dist-packages (from requests->pennylane) (2.0.4)\n",
            "Requirement already satisfied: certifi>=2017.4.17 in /usr/local/lib/python3.10/dist-packages (from requests->pennylane) (2023.7.22)\n",
            "Installing collected packages: semantic-version, rustworkx, autoray, autograd, pennylane-lightning, pennylane\n",
            "  Attempting uninstall: autograd\n",
            "    Found existing installation: autograd 1.6.2\n",
            "    Uninstalling autograd-1.6.2:\n",
            "      Successfully uninstalled autograd-1.6.2\n",
            "Successfully installed autograd-1.5 autoray-0.6.6 pennylane-0.32.0 pennylane-lightning-0.32.0 rustworkx-0.13.1 semantic-version-2.10.0\n"
          ]
        }
      ],
      "source": [
        "!pip install pennylane"
      ]
    },
    {
      "cell_type": "code",
      "execution_count": null,
      "metadata": {
        "id": "PIxuOH_hezY7"
      },
      "outputs": [],
      "source": [
        "# Some parts of this code are based on the Python script:\n",
        "# https://github.com/pytorch/tutorials/blob/master/beginner_source/transfer_learning_tutorial.py\n",
        "# License: BSD\n",
        "\n",
        "import time\n",
        "import os\n",
        "import copy\n",
        "\n",
        "# PyTorch\n",
        "import torch\n",
        "import torch.nn as nn\n",
        "import torch.optim as optim\n",
        "from torch.optim import lr_scheduler\n",
        "import torchvision\n",
        "from torchvision import datasets, transforms\n",
        "\n",
        "# Pennylane\n",
        "import pennylane as qml\n",
        "from pennylane import numpy as np\n",
        "\n",
        "torch.manual_seed(42)\n",
        "np.random.seed(42)\n",
        "\n",
        "# Plotting\n",
        "import matplotlib.pyplot as plt\n",
        "\n",
        "# OpenMP: number of parallel threads.\n",
        "# os.environ[\"OMP_NUM_THREADS\"] = \"1\""
      ]
    },
    {
      "cell_type": "markdown",
      "metadata": {
        "id": "vm6OOlX6ezY8"
      },
      "source": [
        "Setting of the main hyper-parameters of the model\n",
        "=================================================\n",
        "\n",
        "::: {.note}\n",
        "::: {.title}\n",
        "Note\n",
        ":::\n",
        "\n",
        "To reproduce the results of Ref. \\[1\\], `num_epochs` should be set to\n",
        "`30` which may take a long time. We suggest to first try with\n",
        "`num_epochs=1` and, if everything runs smoothly, increase it to a larger\n",
        "value.\n",
        ":::\n"
      ]
    },
    {
      "cell_type": "code",
      "execution_count": null,
      "metadata": {
        "id": "sHRTDdrKezY8"
      },
      "outputs": [],
      "source": [
        "n_qubits = 8                # Number of qubits\n",
        "step = 0.0008               # Learning rate\n",
        "batch_size = 16             # Number of samples for each training step\n",
        "num_epochs = 10              # Number of training epochs\n",
        "q_depth = 4                 # Depth of the quantum circuit (number of variational layers)\n",
        "gamma_lr_scheduler = 0.1    # Learning rate reduction applied every 10 epochs.\n",
        "q_delta = 0.01              # Initial spread of random quantum weights\n",
        "start_time = time.time()    # Start of the computation timer\n",
        "step_size=10  # given in lr_scheduler"
      ]
    },
    {
      "cell_type": "code",
      "execution_count": null,
      "metadata": {
        "id": "wj2evWTU2Qk9"
      },
      "outputs": [],
      "source": [
        "n_qubits = 4             # Number of qubits\n",
        "step = 0.001               # Learning rate\n",
        "batch_size = 32             # Number of samples for each training step\n",
        "num_epochs = 10              # Number of training epochs\n",
        "q_depth = 6                # Depth of the quantum circuit (number of variational layers)\n",
        "gamma_lr_scheduler = 0.1    # Learning rate reduction applied every 10 epochs.\n",
        "q_delta = 0.05              # Initial spread of random quantum weights\n",
        "start_time = time.time()    # Start of the computation timer"
      ]
    },
    {
      "cell_type": "markdown",
      "metadata": {
        "id": "pD-QSo-TezY8"
      },
      "source": [
        "We initialize a PennyLane device with a `default.qubit` backend.\n"
      ]
    },
    {
      "cell_type": "code",
      "execution_count": null,
      "metadata": {
        "id": "97Hs4c3KezY8"
      },
      "outputs": [],
      "source": [
        "dev = qml.device(\"lightning.qubit\", wires=n_qubits)"
      ]
    },
    {
      "cell_type": "markdown",
      "metadata": {
        "id": "GUev99CVezY8"
      },
      "source": [
        "We configure PyTorch to use CUDA only if available. Otherwise the CPU is\n",
        "used.\n"
      ]
    },
    {
      "cell_type": "code",
      "execution_count": null,
      "metadata": {
        "id": "LnYVcH7BezY8"
      },
      "outputs": [],
      "source": [
        "device = torch.device(\"cuda:0\" if torch.cuda.is_available() else \"cpu\")"
      ]
    },
    {
      "cell_type": "markdown",
      "metadata": {
        "id": "nkUhNPHFezY8"
      },
      "source": [
        "Dataset loading\n",
        "===============\n",
        "\n",
        "::: {.note}\n",
        "::: {.title}\n",
        "Note\n",
        ":::\n",
        "\n",
        "The dataset containing images of *ants* and *bees* can be downloaded\n",
        "[here](https://download.pytorch.org/tutorial/hymenoptera_data.zip) and\n",
        "should be extracted in the subfolder `../_data/hymenoptera_data`.\n",
        ":::\n",
        "\n",
        "This is a very small dataset (roughly 250 images), too small for\n",
        "training from scratch a classical or quantum model, however it is enough\n",
        "when using *transfer learning* approach.\n",
        "\n",
        "The PyTorch packages `torchvision` and `torch.utils.data` are used for\n",
        "loading the dataset and performing standard preliminary image\n",
        "operations: resize, center, crop, normalize, *etc.*\n"
      ]
    },
    {
      "cell_type": "markdown",
      "source": [
        "## Downloading our idrid dataset hosted on Roboflow"
      ],
      "metadata": {
        "id": "R_Ao6MO3IDTO"
      }
    },
    {
      "cell_type": "code",
      "execution_count": null,
      "metadata": {
        "id": "_bsZq-0oe6dR"
      },
      "outputs": [],
      "source": [
        "# !wget 'https://app.roboflow.com/ds/7fCe8COjHA?key=u6dgB5TFOp'\n",
        "# !unzip '/content/7fCe8COjHA?key=u6dgB5TFOp' -d '/content/idrid'\n",
        "# !wget 'https://app.roboflow.com/ds/2cMzmTSbxt?key=wZqVOncNpp'\n",
        "!unzip '/content/drive/MyDrive/grid finale/full_final_dataset.zip' -d '/content/idrid'\n",
        "\n",
        "# !unzip '/content/drive/MyDrive/grid 5.0 aj/idrid_all_aug.zip' -d '/content/idrid'"
      ]
    },
    {
      "cell_type": "markdown",
      "metadata": {
        "id": "Megj_6gLOlOr"
      },
      "source": [
        "## image preprocessing"
      ]
    },
    {
      "cell_type": "markdown",
      "metadata": {
        "id": "JdMFczvCOzw9"
      },
      "source": [
        "## preprocessing Test"
      ]
    },
    {
      "cell_type": "markdown",
      "metadata": {
        "id": "rzunb9Lcc5Gt"
      },
      "source": [
        "## Creating dataloader"
      ]
    },
    {
      "cell_type": "code",
      "execution_count": null,
      "metadata": {
        "id": "KzcRAURvezY9"
      },
      "outputs": [],
      "source": [
        "\n",
        "from torch.utils.data import DataLoader\n",
        "data_transforms = {\n",
        "    \"train\": transforms.Compose(\n",
        "        [\n",
        "            # transforms.RandomResizedCrop(224),     # uncomment for data augmentation\n",
        "            # transforms.RandomHorizontalFlip(),     # uncomment for data augmentation\n",
        "            # transforms.Lambda(load_ben_color_transform_pil),\n",
        "            # transforms.Resize(224),\n",
        "            # transforms.CenterCrop(224),\n",
        "            # transforms.Grayscale(num_output_channels=3),\n",
        "            transforms.ToTensor(),\n",
        "            # transforms.Normalize([0.64917645 ,0.53531784, 0.49883134],[0.37539118 ,0.31598417 ,0.19043433])\n",
        "            # Mean: [0.64917645 0.53531784 0.49883134]\n",
        "# Standard Deviation: [0.37539118 0.31598417 0.19043433]\n",
        "            # Normalize input channels using mean values and standard deviations of ImageNet.\n",
        "            # transforms.Normalize([0.485, 0.456, 0.406], [0.229, 0.224, 0.225]),\n",
        "        ]\n",
        "    ),\n",
        "    \"val\": transforms.Compose(\n",
        "        [\n",
        "            # transforms.RandomResizedCrop(224),     # uncomment for data augmentation\n",
        "            # transforms.RandomHorizontalFlip(),     # uncomment for data augmentation\n",
        "            # transforms.Lambda(load_ben_color_transform_pil),\n",
        "            # transforms.Resize(224),\n",
        "            # transforms.CenterCrop(224),\n",
        "            # transforms.Grayscale(num_output_channels=3),\n",
        "            transforms.ToTensor(),\n",
        "            # transforms.Normalize([0.64917645 ,0.53531784, 0.49883134],[0.37539118 ,0.31598417 ,0.19043433])\n",
        "            # transforms.Normalize([0.62922242, 0.5377338,  0.49774495],[0.36688716, 0.30804136, 0.18360957])\n",
        "            # transforms.Normalize([0.485, 0.456, 0.406], [0.229, 0.224, 0.225]),\n",
        "        ]\n",
        "    ),\n",
        "    \"test\": transforms.Compose(\n",
        "        [\n",
        "            # transforms.RandomResizedCrop(224),     # uncomment for data augmentation\n",
        "            # transforms.RandomHorizontalFlip(),     # uncomment for data augmentation\n",
        "            # transforms.Lambda(load_ben_color_transform_pil),\n",
        "            # transforms.Resize(224),\n",
        "            # transforms.CenterCrop(224),\n",
        "            # transforms.Grayscale(num_output_channels=3),\n",
        "            transforms.ToTensor(),\n",
        "            # transforms.Normalize([0.64917645 ,0.53531784, 0.49883134],[0.37539118 ,0.31598417 ,0.19043433])\n",
        "            # transforms.Normalize([0.62922242, 0.5377338,  0.49774495],[0.36688716, 0.30804136, 0.18360957])\n",
        "            # transforms.Normalize([0.485, 0.456, 0.406], [0.229, 0.224, 0.225]),\n",
        "        ]\n",
        "    ),\n",
        "}\n",
        "\n",
        "data_dir = \"/content/idrid\"\n",
        "sample_fraction = 1\n",
        "\n",
        "image_datasets = {\n",
        "    x: datasets.ImageFolder(\n",
        "        os.path.join(data_dir, x),\n",
        "        data_transforms[x]\n",
        "    )\n",
        "    for x in [\"train\", \"val\", \"test\"]\n",
        "}\n",
        "\n",
        "# Adjust the dataset sizes to use only 10% of the data\n",
        "for x in [\"train\", \"val\", \"test\"]:\n",
        "    image_datasets[x].samples = [\n",
        "        image_datasets[x].samples[i] for i in range(0, len(image_datasets[x]), int(1 / sample_fraction))\n",
        "    ]\n",
        "\n",
        "# Get the sizes of each dataset\n",
        "dataset_sizes = {x: len(image_datasets[x]) for x in [\"train\", \"val\", \"test\"]}\n",
        "\n",
        "# Get the class names\n",
        "class_names = image_datasets[\"train\"].classes\n",
        "\n",
        "# Initialize dataloaders\n",
        "batch_size = 16  # You can adjust the batch size\n",
        "\n",
        "dataloaders = {\n",
        "    x: DataLoader(\n",
        "        image_datasets[x],\n",
        "        batch_size=batch_size,\n",
        "        shuffle=True if x == \"train\" else False  # Shuffle only for training data\n",
        "    )\n",
        "    for x in [\"train\", \"val\", \"test\"]\n",
        "}\n",
        "\n",
        "# function to plot images\n",
        "def imshow(inp, title=None):\n",
        "    \"\"\"Display image from tensor.\"\"\"\n",
        "    inp = inp.numpy().transpose((1, 2, 0))\n",
        "    # Inverse of the initial normalization operation.\n",
        "    # mean = np.array([0.62922242, 0.5377338,  0.49774495])\n",
        "    # std = np.array([0.36688716, 0.30804136, 0.18360957])\n",
        "    # mean=[0.64917645 ,0.53531784, 0.49883134]\n",
        "    # std=[0.37539118 ,0.31598417 ,0.19043433]\n",
        "    # inp = std * inp + mean\n",
        "    inp = np.clip(inp, 0, 1)\n",
        "    plt.imshow(inp)\n",
        "    if title is not None:\n",
        "        plt.title(title)"
      ]
    },
    {
      "cell_type": "markdown",
      "metadata": {
        "id": "Wsd1fshhezY9"
      },
      "source": [
        "Let us show a batch of the test data, just to have an idea of the\n",
        "classification problem.\n"
      ]
    },
    {
      "cell_type": "code",
      "execution_count": null,
      "metadata": {
        "colab": {
          "base_uri": "https://localhost:8080/",
          "height": 207
        },
        "id": "21Q5ntU9ezY9",
        "outputId": "b70c9497-23eb-40c2-afac-3297f2c72273"
      },
      "outputs": [
        {
          "output_type": "display_data",
          "data": {
            "text/plain": [
              "<Figure size 640x480 with 1 Axes>"
            ],
            "image/png": "[encoded data removed]"
          },
          "metadata": {}
        }
      ],
      "source": [
        "# Get a batch of training data\n",
        "inputs, classes = next(iter(dataloaders[\"val\"]))\n",
        "\n",
        "# Make a grid from batch\n",
        "out = torchvision.utils.make_grid(inputs)\n",
        "\n",
        "imshow(out, title=[class_names[x] for x in classes])\n",
        "\n",
        "dataloaders = {\n",
        "    x: torch.utils.data.DataLoader(image_datasets[x], batch_size=batch_size, shuffle=True)\n",
        "    for x in [\"train\", \"val\",\"test\"]\n",
        "}"
      ]
    },
    {
      "cell_type": "code",
      "execution_count": null,
      "metadata": {
        "colab": {
          "base_uri": "https://localhost:8080/"
        },
        "id": "LszstYVOuF2q",
        "outputId": "cb138828-db1c-425a-e38b-87cef0a83d68"
      },
      "outputs": [
        {
          "output_type": "execute_result",
          "data": {
            "text/plain": [
              "161"
            ]
          },
          "metadata": {},
          "execution_count": 13
        }
      ],
      "source": [
        "len(dataloaders['train'])"
      ]
    },
    {
      "cell_type": "markdown",
      "metadata": {
        "id": "yGQy6YbKezY9"
      },
      "source": [
        "Variational quantum circuit\n",
        "===========================\n",
        "\n",
        "We first define some quantum layers that will compose the quantum\n",
        "circuit.\n"
      ]
    },
    {
      "cell_type": "code",
      "execution_count": null,
      "metadata": {
        "id": "UvVML6ELezY9"
      },
      "outputs": [],
      "source": [
        "def H_layer(nqubits):\n",
        "    \"\"\"Layer of single-qubit Hadamard gates.\n",
        "    \"\"\"\n",
        "    for idx in range(nqubits):\n",
        "        qml.Hadamard(wires=idx)\n",
        "\n",
        "\n",
        "def RY_layer(w):\n",
        "    \"\"\"Layer of parametrized qubit rotations around the y axis.\n",
        "    \"\"\"\n",
        "    for idx, element in enumerate(w):\n",
        "        qml.RY(element, wires=idx)\n",
        "\n",
        "\n",
        "def entangling_layer(nqubits):\n",
        "    \"\"\"Layer of CNOTs followed by another shifted layer of CNOT.\n",
        "    \"\"\"\n",
        "    # In other words it should apply something like :\n",
        "    # CNOT  CNOT  CNOT  CNOT...  CNOT\n",
        "    #   CNOT  CNOT  CNOT...  CNOT\n",
        "    for i in range(0, nqubits - 1, 2):  # Loop over even indices: i=0,2,...N-2\n",
        "        qml.CNOT(wires=[i, i + 1])\n",
        "    for i in range(1, nqubits - 1, 2):  # Loop over odd indices:  i=1,3,...N-3\n",
        "        qml.CNOT(wires=[i, i + 1])"
      ]
    },
    {
      "cell_type": "markdown",
      "metadata": {
        "id": "nc_LtQWLezY9"
      },
      "source": [
        "Now we define the quantum circuit through the PennyLane\n",
        "[qnode]{.title-ref} decorator .\n",
        "\n",
        "The structure is that of a typical variational quantum circuit:\n",
        "\n",
        "-   **Embedding layer:** All qubits are first initialized in a balanced\n",
        "    superposition of *up* and *down* states, then they are rotated\n",
        "    according to the input parameters (local embedding).\n",
        "-   **Variational layers:** A sequence of trainable rotation layers and\n",
        "    constant entangling layers is applied.\n",
        "-   **Measurement layer:** For each qubit, the local expectation value\n",
        "    of the $Z$ operator is measured. This produces a classical output\n",
        "    vector, suitable for additional post-processing.\n"
      ]
    },
    {
      "cell_type": "code",
      "execution_count": null,
      "metadata": {
        "id": "gdCF04tVezY9"
      },
      "outputs": [],
      "source": [
        "@qml.qnode(dev, interface=\"torch\")\n",
        "def quantum_net(q_input_features, q_weights_flat):\n",
        "    \"\"\"\n",
        "    The variational quantum circuit.\n",
        "    \"\"\"\n",
        "\n",
        "    # Reshape weights\n",
        "    q_weights = q_weights_flat.reshape(q_depth, n_qubits)\n",
        "\n",
        "    # Start from state |+> , unbiased w.r.t. |0> and |1>\n",
        "    H_layer(n_qubits)\n",
        "\n",
        "    # Embed features in the quantum node\n",
        "    RY_layer(q_input_features)\n",
        "\n",
        "    # Sequence of trainable variational layers\n",
        "    for k in range(q_depth):\n",
        "        entangling_layer(n_qubits)\n",
        "        RY_layer(q_weights[k])\n",
        "\n",
        "    # Expectation values in the Z basis\n",
        "    exp_vals = [qml.expval(qml.PauliZ(position)) for position in range(n_qubits)]\n",
        "    return tuple(exp_vals)"
      ]
    },
    {
      "cell_type": "markdown",
      "metadata": {
        "id": "adA2H5pUezY9"
      },
      "source": [
        "Dressed quantum circuit\n",
        "=======================\n",
        "\n",
        "We can now define a custom `torch.nn.Module` representing a *dressed*\n",
        "quantum circuit.\n",
        "\n",
        "This is a concatenation of:\n",
        "\n",
        "-   A classical pre-processing layer (`nn.Linear`).\n",
        "-   A classical activation function (`torch.tanh`).\n",
        "-   A constant `np.pi/2.0` scaling.\n",
        "-   The previously defined quantum circuit (`quantum_net`).\n",
        "-   A classical post-processing layer (`nn.Linear`).\n",
        "\n",
        "The input of the module is a batch of vectors with 512 real parameters\n",
        "(features) and the output is a batch of vectors with two real outputs\n",
        "(associated with the two classes of images: *ants* and *bees*).\n"
      ]
    },
    {
      "cell_type": "code",
      "execution_count": null,
      "metadata": {
        "id": "fO2bxqpyezY-"
      },
      "outputs": [],
      "source": [
        "class DressedQuantumNet(nn.Module):\n",
        "    \"\"\"\n",
        "    Torch module implementing the *dressed* quantum net.\n",
        "    \"\"\"\n",
        "\n",
        "    def __init__(self):\n",
        "        \"\"\"\n",
        "        Definition of the *dressed* layout.\n",
        "        \"\"\"\n",
        "\n",
        "        super().__init__()\n",
        "        self.pre_net = nn.Linear(2048, n_qubits)\n",
        "        self.q_params = nn.Parameter(q_delta * torch.randn(q_depth * n_qubits))\n",
        "        self.post_net = nn.Linear(n_qubits, 3)\n",
        "\n",
        "    def forward(self, input_features):\n",
        "        \"\"\"\n",
        "        Defining how tensors are supposed to move through the *dressed* quantum\n",
        "        net.\n",
        "        \"\"\"\n",
        "\n",
        "        # obtain the input features for the quantum circuit\n",
        "        # by reducing the feature dimension from 512 to 4\n",
        "        pre_out = self.pre_net(input_features)\n",
        "        q_in = torch.tanh(pre_out) * np.pi / 2.0\n",
        "\n",
        "        # Apply the quantum circuit to each element of the batch and append to q_out\n",
        "        q_out = torch.Tensor(0, n_qubits)\n",
        "        q_out = q_out.to(device)\n",
        "        for elem in q_in:\n",
        "            q_out_elem = torch.hstack(quantum_net(elem, self.q_params)).float().unsqueeze(0)\n",
        "            q_out = torch.cat((q_out, q_out_elem))\n",
        "\n",
        "        # return the two-dimensional prediction from the postprocessing layer\n",
        "        return self.post_net(q_out)"
      ]
    },
    {
      "cell_type": "markdown",
      "metadata": {
        "id": "WeD4AhXTgDID"
      },
      "source": [
        "## DressedQunatumNet with softmax layer"
      ]
    },
    {
      "cell_type": "markdown",
      "metadata": {
        "id": "2FLKTm6uezY-"
      },
      "source": [
        "Hybrid classical-quantum model\n",
        "==============================\n",
        "\n",
        "We are finally ready to build our full hybrid classical-quantum network.\n",
        "We follow the *transfer learning* approach:\n",
        "\n",
        "1.  First load the classical pre-trained network *ResNet18* from the\n",
        "    `torchvision.models` zoo.\n",
        "2.  Freeze all the weights since they should not be trained.\n",
        "3.  Replace the last fully connected layer with our trainable dressed\n",
        "    quantum circuit (`DressedQuantumNet`).\n",
        "\n",
        "::: {.note}\n",
        "::: {.title}\n",
        "Note\n",
        ":::\n",
        "\n",
        "The *ResNet18* model is automatically downloaded by PyTorch and it may\n",
        "take several minutes (only the first time).\n",
        ":::\n"
      ]
    },
    {
      "cell_type": "code",
      "execution_count": null,
      "metadata": {
        "colab": {
          "base_uri": "https://localhost:8080/"
        },
        "id": "7QqMmtDEezY-",
        "outputId": "123175a2-4455-4716-fa59-b09706442861"
      },
      "outputs": [
        {
          "output_type": "stream",
          "name": "stderr",
          "text": [
            "/usr/local/lib/python3.10/dist-packages/torchvision/models/_utils.py:208: UserWarning: The parameter 'pretrained' is deprecated since 0.13 and may be removed in the future, please use 'weights' instead.\n",
            "  warnings.warn(\n",
            "/usr/local/lib/python3.10/dist-packages/torchvision/models/_utils.py:223: UserWarning: Arguments other than a weight enum or `None` for 'weights' are deprecated since 0.13 and may be removed in the future. The current behavior is equivalent to passing `weights=None`.\n",
            "  warnings.warn(msg)\n"
          ]
        }
      ],
      "source": [
        "# model_hybrid = torchvision.models.resnet50()\n",
        "# Load the pretrained model\n",
        "model_hybrid = torchvision.models.resnet18(pretrained=False)\n",
        "# Get the input dimension of last layer\n",
        "\n",
        "# Replace the last layer with a new one with 3 outputs\n",
        "model_hybrid.fc = torch.nn.Linear(model_hybrid.fc.in_features, 3)\n",
        "# Load the state dict from the .pth file\n",
        "state_dict = torch.load('/content/drive/MyDrive/grid finale/final_dataset_manual_manip_even.pth')\n",
        "\n",
        "# Load the state dict into the model\n",
        "model_hybrid.load_state_dict(state_dict)\n",
        "\n",
        "# Move the model to the device\n",
        "# model = model.to(device)\n",
        "'''\n",
        "# feature_size=512\n",
        "for param in model_hybrid.parameters():\n",
        "    param.requires_grad = False\n",
        "\n",
        "\n",
        "# Notice that model_hybrid.fc is the last layer of ResNet18\n",
        "\n",
        "model_hybrid.fc = DressedQuantumNet()\n",
        "\n",
        "for param in model_hybrid.fc.parameters():\n",
        "    param.requires_grad = True\n",
        "# model_hybrid.classifier = DressedQuantumNet()\n",
        "\n",
        "# Then, unfreeze the last 10 layers\n",
        "# for param in list(model_hybrid.parameters())[-10:]:\n",
        "#     param.requires_grad = True\n",
        "'''\n",
        "# Use CUDA or CPU according to the \"device\" object.\n",
        "model_hybrid = model_hybrid.to(device)\n"
      ]
    },
    {
      "cell_type": "code",
      "execution_count": null,
      "metadata": {
        "colab": {
          "base_uri": "https://localhost:8080/"
        },
        "id": "u-jRKJ7LnsMF",
        "outputId": "7d58c5f1-5541-4ed9-e9e9-0015faeb336c"
      },
      "outputs": [
        {
          "output_type": "execute_result",
          "data": {
            "text/plain": [
              "ResNet(\n",
              "  (conv1): Conv2d(3, 64, kernel_size=(7, 7), stride=(2, 2), padding=(3, 3), bias=False)\n",
              "  (bn1): BatchNorm2d(64, eps=1e-05, momentum=0.1, affine=True, track_running_stats=True)\n",
              "  (relu): ReLU(inplace=True)\n",
              "  (maxpool): MaxPool2d(kernel_size=3, stride=2, padding=1, dilation=1, ceil_mode=False)\n",
              "  (layer1): Sequential(\n",
              "    (0): BasicBlock(\n",
              "      (conv1): Conv2d(64, 64, kernel_size=(3, 3), stride=(1, 1), padding=(1, 1), bias=False)\n",
              "      (bn1): BatchNorm2d(64, eps=1e-05, momentum=0.1, affine=True, track_running_stats=True)\n",
              "      (relu): ReLU(inplace=True)\n",
              "      (conv2): Conv2d(64, 64, kernel_size=(3, 3), stride=(1, 1), padding=(1, 1), bias=False)\n",
              "      (bn2): BatchNorm2d(64, eps=1e-05, momentum=0.1, affine=True, track_running_stats=True)\n",
              "    )\n",
              "    (1): BasicBlock(\n",
              "      (conv1): Conv2d(64, 64, kernel_size=(3, 3), stride=(1, 1), padding=(1, 1), bias=False)\n",
              "      (bn1): BatchNorm2d(64, eps=1e-05, momentum=0.1, affine=True, track_running_stats=True)\n",
              "      (relu): ReLU(inplace=True)\n",
              "      (conv2): Conv2d(64, 64, kernel_size=(3, 3), stride=(1, 1), padding=(1, 1), bias=False)\n",
              "      (bn2): BatchNorm2d(64, eps=1e-05, momentum=0.1, affine=True, track_running_stats=True)\n",
              "    )\n",
              "  )\n",
              "  (layer2): Sequential(\n",
              "    (0): BasicBlock(\n",
              "      (conv1): Conv2d(64, 128, kernel_size=(3, 3), stride=(2, 2), padding=(1, 1), bias=False)\n",
              "      (bn1): BatchNorm2d(128, eps=1e-05, momentum=0.1, affine=True, track_running_stats=True)\n",
              "      (relu): ReLU(inplace=True)\n",
              "      (conv2): Conv2d(128, 128, kernel_size=(3, 3), stride=(1, 1), padding=(1, 1), bias=False)\n",
              "      (bn2): BatchNorm2d(128, eps=1e-05, momentum=0.1, affine=True, track_running_stats=True)\n",
              "      (downsample): Sequential(\n",
              "        (0): Conv2d(64, 128, kernel_size=(1, 1), stride=(2, 2), bias=False)\n",
              "        (1): BatchNorm2d(128, eps=1e-05, momentum=0.1, affine=True, track_running_stats=True)\n",
              "      )\n",
              "    )\n",
              "    (1): BasicBlock(\n",
              "      (conv1): Conv2d(128, 128, kernel_size=(3, 3), stride=(1, 1), padding=(1, 1), bias=False)\n",
              "      (bn1): BatchNorm2d(128, eps=1e-05, momentum=0.1, affine=True, track_running_stats=True)\n",
              "      (relu): ReLU(inplace=True)\n",
              "      (conv2): Conv2d(128, 128, kernel_size=(3, 3), stride=(1, 1), padding=(1, 1), bias=False)\n",
              "      (bn2): BatchNorm2d(128, eps=1e-05, momentum=0.1, affine=True, track_running_stats=True)\n",
              "    )\n",
              "  )\n",
              "  (layer3): Sequential(\n",
              "    (0): BasicBlock(\n",
              "      (conv1): Conv2d(128, 256, kernel_size=(3, 3), stride=(2, 2), padding=(1, 1), bias=False)\n",
              "      (bn1): BatchNorm2d(256, eps=1e-05, momentum=0.1, affine=True, track_running_stats=True)\n",
              "      (relu): ReLU(inplace=True)\n",
              "      (conv2): Conv2d(256, 256, kernel_size=(3, 3), stride=(1, 1), padding=(1, 1), bias=False)\n",
              "      (bn2): BatchNorm2d(256, eps=1e-05, momentum=0.1, affine=True, track_running_stats=True)\n",
              "      (downsample): Sequential(\n",
              "        (0): Conv2d(128, 256, kernel_size=(1, 1), stride=(2, 2), bias=False)\n",
              "        (1): BatchNorm2d(256, eps=1e-05, momentum=0.1, affine=True, track_running_stats=True)\n",
              "      )\n",
              "    )\n",
              "    (1): BasicBlock(\n",
              "      (conv1): Conv2d(256, 256, kernel_size=(3, 3), stride=(1, 1), padding=(1, 1), bias=False)\n",
              "      (bn1): BatchNorm2d(256, eps=1e-05, momentum=0.1, affine=True, track_running_stats=True)\n",
              "      (relu): ReLU(inplace=True)\n",
              "      (conv2): Conv2d(256, 256, kernel_size=(3, 3), stride=(1, 1), padding=(1, 1), bias=False)\n",
              "      (bn2): BatchNorm2d(256, eps=1e-05, momentum=0.1, affine=True, track_running_stats=True)\n",
              "    )\n",
              "  )\n",
              "  (layer4): Sequential(\n",
              "    (0): BasicBlock(\n",
              "      (conv1): Conv2d(256, 512, kernel_size=(3, 3), stride=(2, 2), padding=(1, 1), bias=False)\n",
              "      (bn1): BatchNorm2d(512, eps=1e-05, momentum=0.1, affine=True, track_running_stats=True)\n",
              "      (relu): ReLU(inplace=True)\n",
              "      (conv2): Conv2d(512, 512, kernel_size=(3, 3), stride=(1, 1), padding=(1, 1), bias=False)\n",
              "      (bn2): BatchNorm2d(512, eps=1e-05, momentum=0.1, affine=True, track_running_stats=True)\n",
              "      (downsample): Sequential(\n",
              "        (0): Conv2d(256, 512, kernel_size=(1, 1), stride=(2, 2), bias=False)\n",
              "        (1): BatchNorm2d(512, eps=1e-05, momentum=0.1, affine=True, track_running_stats=True)\n",
              "      )\n",
              "    )\n",
              "    (1): BasicBlock(\n",
              "      (conv1): Conv2d(512, 512, kernel_size=(3, 3), stride=(1, 1), padding=(1, 1), bias=False)\n",
              "      (bn1): BatchNorm2d(512, eps=1e-05, momentum=0.1, affine=True, track_running_stats=True)\n",
              "      (relu): ReLU(inplace=True)\n",
              "      (conv2): Conv2d(512, 512, kernel_size=(3, 3), stride=(1, 1), padding=(1, 1), bias=False)\n",
              "      (bn2): BatchNorm2d(512, eps=1e-05, momentum=0.1, affine=True, track_running_stats=True)\n",
              "    )\n",
              "  )\n",
              "  (avgpool): AdaptiveAvgPool2d(output_size=(1, 1))\n",
              "  (fc): Linear(in_features=512, out_features=3, bias=True)\n",
              ")"
            ]
          },
          "metadata": {},
          "execution_count": 15
        }
      ],
      "source": [
        "model_hybrid"
      ]
    },
    {
      "cell_type": "code",
      "execution_count": null,
      "metadata": {
        "colab": {
          "base_uri": "https://localhost:8080/"
        },
        "id": "U6Gb4pD5rJcM",
        "outputId": "559e2ac8-cf50-4654-c9fd-218a41bb4b9d"
      },
      "outputs": [
        {
          "output_type": "stream",
          "name": "stdout",
          "text": [
            "+------------------------------+------------+\n",
            "|           Modules            | Parameters |\n",
            "+------------------------------+------------+\n",
            "|         conv1.weight         |    9408    |\n",
            "|          bn1.weight          |     64     |\n",
            "|           bn1.bias           |     64     |\n",
            "|    layer1.0.conv1.weight     |   36864    |\n",
            "|     layer1.0.bn1.weight      |     64     |\n",
            "|      layer1.0.bn1.bias       |     64     |\n",
            "|    layer1.0.conv2.weight     |   36864    |\n",
            "|     layer1.0.bn2.weight      |     64     |\n",
            "|      layer1.0.bn2.bias       |     64     |\n",
            "|    layer1.1.conv1.weight     |   36864    |\n",
            "|     layer1.1.bn1.weight      |     64     |\n",
            "|      layer1.1.bn1.bias       |     64     |\n",
            "|    layer1.1.conv2.weight     |   36864    |\n",
            "|     layer1.1.bn2.weight      |     64     |\n",
            "|      layer1.1.bn2.bias       |     64     |\n",
            "|    layer2.0.conv1.weight     |   73728    |\n",
            "|     layer2.0.bn1.weight      |    128     |\n",
            "|      layer2.0.bn1.bias       |    128     |\n",
            "|    layer2.0.conv2.weight     |   147456   |\n",
            "|     layer2.0.bn2.weight      |    128     |\n",
            "|      layer2.0.bn2.bias       |    128     |\n",
            "| layer2.0.downsample.0.weight |    8192    |\n",
            "| layer2.0.downsample.1.weight |    128     |\n",
            "|  layer2.0.downsample.1.bias  |    128     |\n",
            "|    layer2.1.conv1.weight     |   147456   |\n",
            "|     layer2.1.bn1.weight      |    128     |\n",
            "|      layer2.1.bn1.bias       |    128     |\n",
            "|    layer2.1.conv2.weight     |   147456   |\n",
            "|     layer2.1.bn2.weight      |    128     |\n",
            "|      layer2.1.bn2.bias       |    128     |\n",
            "|    layer3.0.conv1.weight     |   294912   |\n",
            "|     layer3.0.bn1.weight      |    256     |\n",
            "|      layer3.0.bn1.bias       |    256     |\n",
            "|    layer3.0.conv2.weight     |   589824   |\n",
            "|     layer3.0.bn2.weight      |    256     |\n",
            "|      layer3.0.bn2.bias       |    256     |\n",
            "| layer3.0.downsample.0.weight |   32768    |\n",
            "| layer3.0.downsample.1.weight |    256     |\n",
            "|  layer3.0.downsample.1.bias  |    256     |\n",
            "|    layer3.1.conv1.weight     |   589824   |\n",
            "|     layer3.1.bn1.weight      |    256     |\n",
            "|      layer3.1.bn1.bias       |    256     |\n",
            "|    layer3.1.conv2.weight     |   589824   |\n",
            "|     layer3.1.bn2.weight      |    256     |\n",
            "|      layer3.1.bn2.bias       |    256     |\n",
            "|    layer4.0.conv1.weight     |  1179648   |\n",
            "|     layer4.0.bn1.weight      |    512     |\n",
            "|      layer4.0.bn1.bias       |    512     |\n",
            "|    layer4.0.conv2.weight     |  2359296   |\n",
            "|     layer4.0.bn2.weight      |    512     |\n",
            "|      layer4.0.bn2.bias       |    512     |\n",
            "| layer4.0.downsample.0.weight |   131072   |\n",
            "| layer4.0.downsample.1.weight |    512     |\n",
            "|  layer4.0.downsample.1.bias  |    512     |\n",
            "|    layer4.1.conv1.weight     |  2359296   |\n",
            "|     layer4.1.bn1.weight      |    512     |\n",
            "|      layer4.1.bn1.bias       |    512     |\n",
            "|    layer4.1.conv2.weight     |  2359296   |\n",
            "|     layer4.1.bn2.weight      |    512     |\n",
            "|      layer4.1.bn2.bias       |    512     |\n",
            "|          fc.weight           |    1536    |\n",
            "|           fc.bias            |     3      |\n",
            "+------------------------------+------------+\n",
            "Total Trainable Params: 11178051\n"
          ]
        },
        {
          "output_type": "execute_result",
          "data": {
            "text/plain": [
              "11178051"
            ]
          },
          "metadata": {},
          "execution_count": 16
        }
      ],
      "source": [
        "from prettytable import PrettyTable\n",
        "\n",
        "def count_parameters(model):\n",
        "    table = PrettyTable([\"Modules\", \"Parameters\"])\n",
        "    total_params = 0\n",
        "    for name, parameter in model.named_parameters():\n",
        "        if not parameter.requires_grad:\n",
        "            continue\n",
        "        params = parameter.numel()\n",
        "        table.add_row([name, params])\n",
        "        total_params += params\n",
        "    print(table)\n",
        "    print(f\"Total Trainable Params: {total_params}\")\n",
        "    return total_params\n",
        "\n",
        "count_parameters(model_hybrid)\n"
      ]
    },
    {
      "cell_type": "markdown",
      "metadata": {
        "id": "uLrra31GFV1L"
      },
      "source": [
        "# Vgg + Resnet 18"
      ]
    },
    {
      "cell_type": "markdown",
      "metadata": {
        "id": "uoIFmFTeezY-"
      },
      "source": [
        "Training and results\n",
        "====================\n",
        "\n",
        "Before training the network we need to specify the *loss* function.\n",
        "\n",
        "We use, as usual in classification problem, the *cross-entropy* which is\n",
        "directly available within `torch.nn`.\n"
      ]
    },
    {
      "cell_type": "code",
      "execution_count": null,
      "metadata": {
        "id": "1PKP7sCdezY-"
      },
      "outputs": [],
      "source": [
        "criterion = nn.CrossEntropyLoss()\n",
        "# criterion=nn.BCELoss()"
      ]
    },
    {
      "cell_type": "markdown",
      "metadata": {
        "id": "DQzIf3OzezY-"
      },
      "source": [
        "We also initialize the *Adam optimizer* which is called at each training\n",
        "step in order to update the weights of the model.\n"
      ]
    },
    {
      "cell_type": "code",
      "execution_count": null,
      "metadata": {
        "id": "KC_Do5uYezY-"
      },
      "outputs": [],
      "source": [
        "optimizer_hybrid = optim.Adam(filter(lambda p: p.requires_grad, model_hybrid.parameters()), lr=step)"
      ]
    },
    {
      "cell_type": "markdown",
      "metadata": {
        "id": "D2TXENZNezY-"
      },
      "source": [
        "We schedule to reduce the learning rate by a factor of\n",
        "`gamma_lr_scheduler` every 10 epochs.\n"
      ]
    },
    {
      "cell_type": "code",
      "execution_count": null,
      "metadata": {
        "id": "_hzR1uldezY-"
      },
      "outputs": [],
      "source": [
        "exp_lr_scheduler = lr_scheduler.StepLR(\n",
        "    optimizer_hybrid, step_size=10, gamma=gamma_lr_scheduler\n",
        ")"
      ]
    },
    {
      "cell_type": "markdown",
      "metadata": {
        "id": "-NbxzoP8ezY_"
      },
      "source": [
        "What follows is a training function that will be called later. This\n",
        "function should return a trained model that can be used to make\n",
        "predictions (classifications).\n"
      ]
    },
    {
      "cell_type": "code",
      "execution_count": null,
      "metadata": {
        "id": "BeerrQPEfxgo"
      },
      "outputs": [],
      "source": [
        "num_epochs=25"
      ]
    },
    {
      "cell_type": "code",
      "execution_count": null,
      "metadata": {
        "id": "w3v5E-oAT-1W"
      },
      "outputs": [],
      "source": [
        "# just for trying and testing\n",
        "images_lis=[]\n",
        "labels_lis=[]\n",
        "for inputs, labels in dataloaders['train']:\n",
        "  images_lis.append(inputs)\n",
        "  labels_lis.append(labels)\n",
        "  break\n",
        "image_tensor=images_lis[0][0]\n",
        "print(image_tensor.shape)"
      ]
    },
    {
      "cell_type": "markdown",
      "source": [
        "## Code for training the model"
      ],
      "metadata": {
        "id": "BhfKRxGfIqS3"
      }
    },
    {
      "cell_type": "code",
      "execution_count": null,
      "metadata": {
        "id": "n74oEQUGezY_"
      },
      "outputs": [],
      "source": [
        "def train_model(model, criterion, optimizer, scheduler, num_epochs):\n",
        "    since = time.time()\n",
        "    best_model_wts = copy.deepcopy(model.state_dict())\n",
        "    best_acc = 0.0\n",
        "    best_loss = 10000.0  # Large arbitrary number\n",
        "    best_acc_train = 0.0\n",
        "    best_loss_train = 10000.0  # Large arbitrary number\n",
        "    print(\"Training started:\")\n",
        "\n",
        "    for epoch in range(num_epochs):\n",
        "\n",
        "        # Each epoch has a training and validation phase\n",
        "        for phase in [\"train\", \"val\"]:\n",
        "            if phase == \"train\":\n",
        "                # Set model to training mode\n",
        "                model.train()\n",
        "            else:\n",
        "                # Set model to evaluate mode\n",
        "                model.eval()\n",
        "            running_loss = 0.0\n",
        "            running_corrects = 0\n",
        "\n",
        "            # Iterate over data.\n",
        "            n_batches = dataset_sizes[phase] // batch_size\n",
        "            it = 0\n",
        "            for inputs, labels in dataloaders[phase]:\n",
        "                since_batch = time.time()\n",
        "                batch_size_ = len(inputs)\n",
        "                inputs = inputs.to(device)\n",
        "                labels = labels.to(device)\n",
        "                optimizer.zero_grad()\n",
        "\n",
        "                # Track/compute gradient and make an optimization step only when training\n",
        "                with torch.set_grad_enabled(phase == \"train\"):\n",
        "                    outputs = model(inputs)\n",
        "                    _, preds = torch.max(outputs, 1)\n",
        "                    loss = criterion(outputs, labels)\n",
        "                    if phase == \"train\":\n",
        "                        loss.backward()\n",
        "                        optimizer.step()\n",
        "\n",
        "                # Print iteration results\n",
        "                running_loss += loss.item() * batch_size_\n",
        "                batch_corrects = torch.sum(preds == labels.data).item()\n",
        "                running_corrects += batch_corrects\n",
        "                print(\n",
        "                    \"Phase: {} Epoch: {}/{} Iter: {}/{} Batch time: {:.4f}\".format(\n",
        "                        phase,\n",
        "                        epoch + 1,\n",
        "                        num_epochs,\n",
        "                        it + 1,\n",
        "                        n_batches + 1,\n",
        "                        time.time() - since_batch,\n",
        "                    ),\n",
        "                    end=\"\\r\",\n",
        "                    flush=True,\n",
        "                )\n",
        "                it += 1\n",
        "\n",
        "            # Print epoch results\n",
        "            epoch_loss = running_loss / dataset_sizes[phase]\n",
        "            epoch_acc = running_corrects / dataset_sizes[phase]\n",
        "            print(\n",
        "                \"Phase: {} Epoch: {}/{} Loss: {:.4f} Acc: {:.4f}        \".format(\n",
        "                    \"train\" if phase == \"train\" else \"validation  \",\n",
        "                    epoch + 1,\n",
        "                    num_epochs,\n",
        "                    epoch_loss,\n",
        "                    epoch_acc,\n",
        "                )\n",
        "            )\n",
        "\n",
        "            # Check if this is the best model wrt previous epochs\n",
        "            if phase == \"val\" and epoch_acc > best_acc:\n",
        "                best_acc = epoch_acc\n",
        "                best_model_wts = copy.deepcopy(model.state_dict())\n",
        "            if phase == \"val\" and epoch_loss < best_loss:\n",
        "                best_loss = epoch_loss\n",
        "            if phase == \"train\" and epoch_acc > best_acc_train:\n",
        "                best_acc_train = epoch_acc\n",
        "            if phase == \"train\" and epoch_loss < best_loss_train:\n",
        "                best_loss_train = epoch_loss\n",
        "\n",
        "            # Update learning rate\n",
        "            if phase == \"train\":\n",
        "                scheduler.step()\n",
        "\n",
        "    # Print final results\n",
        "    model.load_state_dict(best_model_wts)\n",
        "    time_elapsed = time.time() - since\n",
        "    print(\n",
        "        \"Training completed in {:.0f}m {:.0f}s\".format(time_elapsed // 60, time_elapsed % 60)\n",
        "    )\n",
        "    print(\"Best test loss: {:.4f} | Best test accuracy: {:.4f}\".format(best_loss, best_acc))\n",
        "    return model"
      ]
    },
    {
      "cell_type": "markdown",
      "metadata": {
        "id": "phkFMRMAezY_"
      },
      "source": [
        "We are ready to perform the actual training process.\n"
      ]
    },
    {
      "cell_type": "code",
      "execution_count": null,
      "metadata": {
        "colab": {
          "base_uri": "https://localhost:8080/"
        },
        "id": "caoJqL34ezY_",
        "outputId": "df9a558a-85df-4799-d8fe-ea29f666db16"
      },
      "outputs": [
        {
          "output_type": "stream",
          "name": "stdout",
          "text": [
            "Training started:\n",
            "Phase: train Epoch: 1/25 Loss: 0.7101 Acc: 0.7646        \n",
            "Phase: validation   Epoch: 1/25 Loss: 0.6919 Acc: 0.7025        \n",
            "Phase: train Epoch: 2/25 Loss: 0.4957 Acc: 0.8771        \n",
            "Phase: validation   Epoch: 2/25 Loss: 0.6284 Acc: 0.7025        \n",
            "Phase: train Epoch: 3/25 Loss: 0.4028 Acc: 0.9052        \n",
            "Phase: validation   Epoch: 3/25 Loss: 0.5575 Acc: 0.7934        \n",
            "Phase: train Epoch: 4/25 Loss: 0.3443 Acc: 0.9083        \n",
            "Phase: validation   Epoch: 4/25 Loss: 0.5509 Acc: 0.7769        \n"
          ]
        }
      ],
      "source": [
        "model_hybrid = train_model(\n",
        "    model_hybrid, criterion, optimizer_hybrid, exp_lr_scheduler, num_epochs=num_epochs\n",
        ")\n",
        "'''\n",
        "Resnet18 10 ep -> 0.8636\n",
        "'''"
      ]
    },
    {
      "cell_type": "markdown",
      "metadata": {
        "id": "Cl8BaJONezY_"
      },
      "source": [
        "We first define a visualization function for a batch of test data.\n"
      ]
    },
    {
      "cell_type": "code",
      "execution_count": null,
      "metadata": {
        "id": "O4Os7Kdz6U5P"
      },
      "outputs": [],
      "source": [
        "torch.save(model_hybrid,\"final_model.pth\")"
      ]
    },
    {
      "cell_type": "code",
      "source": [
        "def test_model(model, criterion, dataloader, phase):\n",
        "    model.eval()  # Set the model to evaluation mode\n",
        "    running_loss = 0.0\n",
        "    running_corrects = 0\n",
        "\n",
        "    # Iterate over data.\n",
        "    n_batches = len(dataloader)\n",
        "    it = 0\n",
        "    for inputs, labels in dataloader:\n",
        "        inputs = inputs.to(device)\n",
        "        labels = labels.to(device)\n",
        "\n",
        "        # Forward pass\n",
        "        with torch.no_grad():  # Disable gradient calculation during inference\n",
        "            outputs = model(inputs)\n",
        "            _, preds = torch.max(outputs, 1)\n",
        "            loss = criterion(outputs, labels)\n",
        "\n",
        "        # Print iteration results\n",
        "        running_loss += loss.item() * inputs.size(0)\n",
        "        batch_corrects = torch.sum(preds == labels.data).item()\n",
        "        running_corrects += batch_corrects\n",
        "        print(\n",
        "            \"Phase: {} Iter: {}/{} Batch Loss: {:.4f}\".format(\n",
        "                phase, it + 1, n_batches, loss.item()\n",
        "            ),\n",
        "            end=\"\\r\",\n",
        "            flush=True,\n",
        "        )\n",
        "        it += 1\n",
        "\n",
        "    # Print results for the entire phase (validation or test)\n",
        "    phase_loss = running_loss / len(dataloader.dataset)\n",
        "    phase_acc = running_corrects / len(dataloader.dataset)\n",
        "    print(\n",
        "        \"Phase: {} Loss: {:.4f} Acc: {:.4f}        \".format(\n",
        "            phase, phase_loss, phase_acc\n",
        "        )\n",
        "    )\n",
        "    return phase_loss, phase_acc\n",
        "\n",
        "# Example usage:\n",
        "# For validation data\n",
        "val_loss, val_acc = test_model(model_hybrid, criterion, dataloaders[\"val\"], \"val\")\n",
        "\n",
        "# For test data\n",
        "test_loss, test_acc = test_model(model_hybrid, criterion, dataloaders[\"test\"], \"test\")\n",
        "# model_hybrid1 details:-\n",
        "# Phase: val Loss: 0.2376 Acc: 0.9071\n",
        "# Phase: test Loss: 0.2604 Acc: 0.8761"
      ],
      "metadata": {
        "id": "acbZ_T5Clfwr",
        "colab": {
          "base_uri": "https://localhost:8080/"
        },
        "outputId": "20c2733c-f03b-4409-f98f-776d6d1fcb72"
      },
      "execution_count": null,
      "outputs": [
        {
          "output_type": "stream",
          "name": "stdout",
          "text": [
            "Phase: val Loss: 0.0717 Acc: 0.9906        \n",
            "Phase: test Loss: 0.0813 Acc: 0.9781        \n"
          ]
        }
      ]
    },
    {
      "cell_type": "code",
      "source": [],
      "metadata": {
        "id": "cwfmiS4X7yhH"
      },
      "execution_count": null,
      "outputs": []
    },
    {
      "cell_type": "code",
      "source": [],
      "metadata": {
        "id": "HL2ByGa07yW3"
      },
      "execution_count": null,
      "outputs": []
    },
    {
      "cell_type": "code",
      "source": [],
      "metadata": {
        "id": "meuTqTqy7yOr"
      },
      "execution_count": null,
      "outputs": []
    },
    {
      "cell_type": "code",
      "source": [],
      "metadata": {
        "id": "F90BMGYq7yD1"
      },
      "execution_count": null,
      "outputs": []
    },
    {
      "cell_type": "markdown",
      "source": [
        "Hello border"
      ],
      "metadata": {
        "id": "lIsFFW8I7znE"
      }
    },
    {
      "cell_type": "code",
      "source": [],
      "metadata": {
        "id": "QJFHmiXw71AB"
      },
      "execution_count": null,
      "outputs": []
    },
    {
      "cell_type": "code",
      "execution_count": null,
      "metadata": {
        "id": "JLWv0db530Q5",
        "colab": {
          "base_uri": "https://localhost:8080/"
        },
        "outputId": "830faaa5-6e08-4b0a-b8a8-82be23b8ba26"
      },
      "outputs": [
        {
          "output_type": "stream",
          "name": "stdout",
          "text": [
            "Collecting qiskit\n",
            "  Downloading qiskit-0.44.1-py3-none-any.whl (8.2 kB)\n",
            "Collecting qiskit-terra==0.25.1 (from qiskit)\n",
            "  Downloading qiskit_terra-0.25.1-cp38-abi3-manylinux_2_17_x86_64.manylinux2014_x86_64.whl (6.1 MB)\n",
            "\u001b[2K     \u001b[90m━━━━━━━━━━━━━━━━━━━━━━━━━━━━━━━━━━━━━━━━\u001b[0m \u001b[32m6.1/6.1 MB\u001b[0m \u001b[31m16.1 MB/s\u001b[0m eta \u001b[36m0:00:00\u001b[0m\n",
            "\u001b[?25hRequirement already satisfied: rustworkx>=0.13.0 in /usr/local/lib/python3.10/dist-packages (from qiskit-terra==0.25.1->qiskit) (0.13.1)\n",
            "Requirement already satisfied: numpy>=1.17 in /usr/local/lib/python3.10/dist-packages (from qiskit-terra==0.25.1->qiskit) (1.23.5)\n",
            "Collecting ply>=3.10 (from qiskit-terra==0.25.1->qiskit)\n",
            "  Downloading ply-3.11-py2.py3-none-any.whl (49 kB)\n",
            "\u001b[2K     \u001b[90m━━━━━━━━━━━━━━━━━━━━━━━━━━━━━━━━━━━━━━━━\u001b[0m \u001b[32m49.6/49.6 kB\u001b[0m \u001b[31m6.1 MB/s\u001b[0m eta \u001b[36m0:00:00\u001b[0m\n",
            "\u001b[?25hRequirement already satisfied: psutil>=5 in /usr/local/lib/python3.10/dist-packages (from qiskit-terra==0.25.1->qiskit) (5.9.5)\n",
            "Requirement already satisfied: scipy>=1.5 in /usr/local/lib/python3.10/dist-packages (from qiskit-terra==0.25.1->qiskit) (1.11.2)\n",
            "Requirement already satisfied: sympy>=1.3 in /usr/local/lib/python3.10/dist-packages (from qiskit-terra==0.25.1->qiskit) (1.12)\n",
            "Collecting dill>=0.3 (from qiskit-terra==0.25.1->qiskit)\n",
            "  Downloading dill-0.3.7-py3-none-any.whl (115 kB)\n",
            "\u001b[2K     \u001b[90m━━━━━━━━━━━━━━━━━━━━━━━━━━━━━━━━━━━━━━\u001b[0m \u001b[32m115.3/115.3 kB\u001b[0m \u001b[31m14.2 MB/s\u001b[0m eta \u001b[36m0:00:00\u001b[0m\n",
            "\u001b[?25hRequirement already satisfied: python-dateutil>=2.8.0 in /usr/local/lib/python3.10/dist-packages (from qiskit-terra==0.25.1->qiskit) (2.8.2)\n",
            "Collecting stevedore>=3.0.0 (from qiskit-terra==0.25.1->qiskit)\n",
            "  Downloading stevedore-5.1.0-py3-none-any.whl (49 kB)\n",
            "\u001b[2K     \u001b[90m━━━━━━━━━━━━━━━━━━━━━━━━━━━━━━━━━━━━━━━━\u001b[0m \u001b[32m49.6/49.6 kB\u001b[0m \u001b[31m6.6 MB/s\u001b[0m eta \u001b[36m0:00:00\u001b[0m\n",
            "\u001b[?25hCollecting symengine<0.10,>=0.9 (from qiskit-terra==0.25.1->qiskit)\n",
            "  Downloading symengine-0.9.2-cp310-cp310-manylinux2010_x86_64.whl (37.5 MB)\n",
            "\u001b[2K     \u001b[90m━━━━━━━━━━━━━━━━━━━━━━━━━━━━━━━━━━━━━━━━\u001b[0m \u001b[32m37.5/37.5 MB\u001b[0m \u001b[31m16.6 MB/s\u001b[0m eta \u001b[36m0:00:00\u001b[0m\n",
            "\u001b[?25hRequirement already satisfied: typing-extensions in /usr/local/lib/python3.10/dist-packages (from qiskit-terra==0.25.1->qiskit) (4.5.0)\n",
            "Requirement already satisfied: six>=1.5 in /usr/local/lib/python3.10/dist-packages (from python-dateutil>=2.8.0->qiskit-terra==0.25.1->qiskit) (1.16.0)\n",
            "Collecting pbr!=2.1.0,>=2.0.0 (from stevedore>=3.0.0->qiskit-terra==0.25.1->qiskit)\n",
            "  Downloading pbr-5.11.1-py2.py3-none-any.whl (112 kB)\n",
            "\u001b[2K     \u001b[90m━━━━━━━━━━━━━━━━━━━━━━━━━━━━━━━━━━━━━━\u001b[0m \u001b[32m112.7/112.7 kB\u001b[0m \u001b[31m13.6 MB/s\u001b[0m eta \u001b[36m0:00:00\u001b[0m\n",
            "\u001b[?25hRequirement already satisfied: mpmath>=0.19 in /usr/local/lib/python3.10/dist-packages (from sympy>=1.3->qiskit-terra==0.25.1->qiskit) (1.3.0)\n",
            "Installing collected packages: ply, symengine, pbr, dill, stevedore, qiskit-terra, qiskit\n",
            "Successfully installed dill-0.3.7 pbr-5.11.1 ply-3.11 qiskit-0.44.1 qiskit-terra-0.25.1 stevedore-5.1.0 symengine-0.9.2\n"
          ]
        }
      ],
      "source": [
        "!pip install qiskit"
      ]
    },
    {
      "cell_type": "code",
      "source": [
        "!pip install qiskit-aer"
      ],
      "metadata": {
        "colab": {
          "base_uri": "https://localhost:8080/"
        },
        "id": "fyTCCKAxLqcr",
        "outputId": "538f16ef-f17e-4747-f78b-47edc6c8ed82"
      },
      "execution_count": null,
      "outputs": [
        {
          "output_type": "stream",
          "name": "stdout",
          "text": [
            "Collecting qiskit-aer\n",
            "  Downloading qiskit_aer-0.12.2-cp310-cp310-manylinux_2_17_x86_64.manylinux2014_x86_64.whl (12.8 MB)\n",
            "\u001b[2K     \u001b[90m━━━━━━━━━━━━━━━━━━━━━━━━━━━━━━━━━━━━━━━━\u001b[0m \u001b[32m12.8/12.8 MB\u001b[0m \u001b[31m30.7 MB/s\u001b[0m eta \u001b[36m0:00:00\u001b[0m\n",
            "\u001b[?25hRequirement already satisfied: qiskit-terra>=0.21.0 in /usr/local/lib/python3.10/dist-packages (from qiskit-aer) (0.25.1)\n",
            "Requirement already satisfied: numpy>=1.16.3 in /usr/local/lib/python3.10/dist-packages (from qiskit-aer) (1.23.5)\n",
            "Requirement already satisfied: scipy>=1.0 in /usr/local/lib/python3.10/dist-packages (from qiskit-aer) (1.11.2)\n",
            "Requirement already satisfied: rustworkx>=0.13.0 in /usr/local/lib/python3.10/dist-packages (from qiskit-terra>=0.21.0->qiskit-aer) (0.13.1)\n",
            "Requirement already satisfied: ply>=3.10 in /usr/local/lib/python3.10/dist-packages (from qiskit-terra>=0.21.0->qiskit-aer) (3.11)\n",
            "Requirement already satisfied: psutil>=5 in /usr/local/lib/python3.10/dist-packages (from qiskit-terra>=0.21.0->qiskit-aer) (5.9.5)\n",
            "Requirement already satisfied: sympy>=1.3 in /usr/local/lib/python3.10/dist-packages (from qiskit-terra>=0.21.0->qiskit-aer) (1.12)\n",
            "Requirement already satisfied: dill>=0.3 in /usr/local/lib/python3.10/dist-packages (from qiskit-terra>=0.21.0->qiskit-aer) (0.3.7)\n",
            "Requirement already satisfied: python-dateutil>=2.8.0 in /usr/local/lib/python3.10/dist-packages (from qiskit-terra>=0.21.0->qiskit-aer) (2.8.2)\n",
            "Requirement already satisfied: stevedore>=3.0.0 in /usr/local/lib/python3.10/dist-packages (from qiskit-terra>=0.21.0->qiskit-aer) (5.1.0)\n",
            "Requirement already satisfied: symengine<0.10,>=0.9 in /usr/local/lib/python3.10/dist-packages (from qiskit-terra>=0.21.0->qiskit-aer) (0.9.2)\n",
            "Requirement already satisfied: typing-extensions in /usr/local/lib/python3.10/dist-packages (from qiskit-terra>=0.21.0->qiskit-aer) (4.5.0)\n",
            "Requirement already satisfied: six>=1.5 in /usr/local/lib/python3.10/dist-packages (from python-dateutil>=2.8.0->qiskit-terra>=0.21.0->qiskit-aer) (1.16.0)\n",
            "Requirement already satisfied: pbr!=2.1.0,>=2.0.0 in /usr/local/lib/python3.10/dist-packages (from stevedore>=3.0.0->qiskit-terra>=0.21.0->qiskit-aer) (5.11.1)\n",
            "Requirement already satisfied: mpmath>=0.19 in /usr/local/lib/python3.10/dist-packages (from sympy>=1.3->qiskit-terra>=0.21.0->qiskit-aer) (1.3.0)\n",
            "Installing collected packages: qiskit-aer\n",
            "Successfully installed qiskit-aer-0.12.2\n"
          ]
        }
      ]
    },
    {
      "cell_type": "code",
      "source": [
        "import sklearn\n",
        "import numpy as np"
      ],
      "metadata": {
        "id": "HmSiKfxz2t8w"
      },
      "execution_count": null,
      "outputs": []
    },
    {
      "cell_type": "code",
      "source": [
        "from sklearn.datasets import make_classification\n",
        "# set the model to evaluation mode\n",
        "model_hybrid.eval()\n",
        "\n",
        "# initialize lists to store the features and labels\n",
        "features = []\n",
        "labels = []\n",
        "\n",
        "# iterate over the trainloader\n",
        "for data, label in dataloaders[\"train\"]:\n",
        "    # get the features from the model\n",
        "    with torch.no_grad():\n",
        "        data,label=data.to(device), label.to(device)\n",
        "        output = model_hybrid(data)\n",
        "        output = output.view(output.size(0), -1)\n",
        "        features.append(output.cpu().numpy())\n",
        "        labels.append(label.cpu().numpy())\n",
        "\n",
        "# convert the lists to numpy arrays\n",
        "features = np.concatenate(features, axis=0)\n",
        "labels = np.concatenate(labels, axis=0)\n",
        "\n",
        "# create the scikit-learn classification dataset\n",
        "X_train = features\n",
        "y_train = labels\n",
        "# <------------------------------------------------------->\n",
        "# getting test data\n",
        "features = []\n",
        "labels = []\n",
        "\n",
        "# iterate over the trainloader\n",
        "for data, label in dataloaders[\"test\"]:\n",
        "    # get the features from the model\n",
        "    with torch.no_grad():\n",
        "        data,label=data.to(device), label.to(device)\n",
        "        output = model_hybrid(data)\n",
        "        output = output.view(output.size(0), -1)\n",
        "        features.append(output.cpu().numpy())\n",
        "        labels.append(label.cpu().numpy())\n",
        "\n",
        "# convert the lists to numpy arrays\n",
        "features = np.concatenate(features, axis=0)\n",
        "labels = np.concatenate(labels, axis=0)\n",
        "\n",
        "# create the scikit-learn classification dataset\n",
        "# X_test, y_test = make_classification(n_features=2048, n_classes=3)\n",
        "X_test = features\n",
        "y_test = labels\n",
        "# similarly do for valid and test."
      ],
      "metadata": {
        "id": "lXvk__hZ-B73"
      },
      "execution_count": null,
      "outputs": []
    },
    {
      "cell_type": "code",
      "source": [
        "X_train.shape"
      ],
      "metadata": {
        "colab": {
          "base_uri": "https://localhost:8080/"
        },
        "id": "Sye62-1P5BR0",
        "outputId": "dc9e7df7-90e7-4d46-a164-2b4b02d739d2"
      },
      "execution_count": null,
      "outputs": [
        {
          "output_type": "execute_result",
          "data": {
            "text/plain": [
              "(2562, 3)"
            ]
          },
          "metadata": {},
          "execution_count": 26
        }
      ]
    },
    {
      "cell_type": "markdown",
      "source": [
        "## Visualize the 3 fetures\n"
      ],
      "metadata": {
        "id": "pF0RRhWg-k8I"
      }
    },
    {
      "cell_type": "code",
      "source": [
        "import matplotlib.pyplot as plt\n",
        "from mpl_toolkits.mplot3d import Axes3D\n",
        "\n",
        "# Assuming you have a NumPy array for X_train and y_train\n",
        "# Replace X_train and y_train with your actual data\n",
        "\n",
        "# Create a 3D scatter plot\n",
        "fig = plt.figure(figsize=(8, 6))\n",
        "ax = fig.add_subplot(111)\n",
        "\n",
        "# Scatter points for each class\n",
        "ax.scatter(X_train[y_train == 0][:, 0], X_train[y_train == 0][:, 1], label='Class 0', c='red', marker='o')\n",
        "ax.scatter(X_train[y_train == 1][:, 0], X_train[y_train == 1][:, 1], label='Class 1', c='blue', marker='x')\n",
        "ax.scatter(X_train[y_train == 2][:, 0], X_train[y_train == 2][:, 1], label='Class 2', c='green', marker='s')\n",
        "\n",
        "ax.set_xlabel('Feature 0')\n",
        "ax.set_ylabel('Feature 1')\n",
        "\n",
        "plt.legend()\n",
        "plt.title('3D Scatter Plot of Data')\n",
        "plt.show()\n"
      ],
      "metadata": {
        "id": "KmtESyoP-kH6",
        "colab": {
          "base_uri": "https://localhost:8080/",
          "height": 564
        },
        "outputId": "89914bf8-4bd4-438f-bd4e-b36defd78046"
      },
      "execution_count": null,
      "outputs": [
        {
          "output_type": "display_data",
          "data": {
            "text/plain": [
              "<Figure size 800x600 with 1 Axes>"
            ],
            "image/png": "[encoded data removed]"
          },
          "metadata": {}
        }
      ]
    },
    {
      "cell_type": "code",
      "source": [
        "import matplotlib.pyplot as plt\n",
        "from mpl_toolkits.mplot3d import Axes3D\n",
        "\n",
        "# Assuming you have a NumPy array for X_train and y_train\n",
        "# Replace X_train and y_train with your actual data\n",
        "\n",
        "# Create a 3D scatter plot\n",
        "fig = plt.figure(figsize=(8, 6))\n",
        "ax = fig.add_subplot(111)\n",
        "\n",
        "# Scatter points for each class\n",
        "ax.scatter(X_test[y_test == 0][:, 0], X_test[y_test == 0][:, 1], label='Class 0', c='red', marker='o')\n",
        "ax.scatter(X_test[y_test == 1][:, 0], X_test[y_test == 1][:, 1], label='Class 1', c='blue', marker='x')\n",
        "ax.scatter(X_train[y_train == 2][:, 0], X_train[y_train == 2][:, 1], label='Class 2', c='green', marker='s')\n",
        "\n",
        "ax.set_xlabel('Feature 0')\n",
        "ax.set_ylabel('Feature 1')\n",
        "\n",
        "plt.legend()\n",
        "plt.title('3D Scatter Plot of Data')\n",
        "plt.show()"
      ],
      "metadata": {
        "colab": {
          "base_uri": "https://localhost:8080/",
          "height": 564
        },
        "id": "1E3zpA48PPS4",
        "outputId": "5d746968-6563-4aac-95dc-689ced146f85"
      },
      "execution_count": null,
      "outputs": [
        {
          "output_type": "display_data",
          "data": {
            "text/plain": [
              "<Figure size 800x600 with 1 Axes>"
            ],
            "image/png": "[encoded data removed]"
          },
          "metadata": {}
        }
      ]
    },
    {
      "cell_type": "code",
      "source": [
        "!pip install plotly"
      ],
      "metadata": {
        "colab": {
          "base_uri": "https://localhost:8080/"
        },
        "id": "BF6OFPm5_g8Z",
        "outputId": "33d41136-e412-4a4b-a8d7-3b86373743f7"
      },
      "execution_count": null,
      "outputs": [
        {
          "output_type": "stream",
          "name": "stdout",
          "text": [
            "Requirement already satisfied: plotly in /usr/local/lib/python3.10/dist-packages (5.15.0)\n",
            "Requirement already satisfied: tenacity>=6.2.0 in /usr/local/lib/python3.10/dist-packages (from plotly) (8.2.3)\n",
            "Requirement already satisfied: packaging in /usr/local/lib/python3.10/dist-packages (from plotly) (23.1)\n"
          ]
        }
      ]
    },
    {
      "cell_type": "code",
      "source": [
        "from sklearn.preprocessing import MinMaxScaler"
      ],
      "metadata": {
        "id": "jT3BeWx8AqpA"
      },
      "execution_count": null,
      "outputs": []
    },
    {
      "cell_type": "code",
      "source": [
        "X_train = MinMaxScaler().fit_transform(X_train)\n",
        "X_test = MinMaxScaler().fit_transform(X_test)"
      ],
      "metadata": {
        "id": "2LrHHdEB_g2i"
      },
      "execution_count": null,
      "outputs": []
    },
    {
      "cell_type": "code",
      "source": [
        "import plotly.express as px\n",
        "\n",
        "# Assuming you have a pandas DataFrame for X_train and a NumPy array for y_train\n",
        "# Replace X_train and y_train with your actual data\n",
        "\n",
        "# Create a DataFrame with the features and labels\n",
        "import pandas as pd\n",
        "df = pd.DataFrame({'Feature0': X_test[:, 0], 'Feature1': X_test[:, 1], 'Feature2': X_test[:, 2], 'Class': y_test})\n",
        "\n",
        "# Create an interactive 3D scatter plot\n",
        "fig = px.scatter_3d(df, x='Feature0', y='Feature1', z='Feature2', color='Class',\n",
        "                     color_continuous_scale='Viridis', title='Interactive 3D Scatter Plot')\n",
        "fig.show()\n",
        "fig.write_html('test_plot_3d.html')\n"
      ],
      "metadata": {
        "id": "Zp7YsRl4_fQw",
        "colab": {
          "base_uri": "https://localhost:8080/",
          "height": 542
        },
        "outputId": "9f0afc47-26f6-4303-c463-fa70f109e199"
      },
      "execution_count": null,
      "outputs": [
        {
          "output_type": "display_data",
          "data": {
            "text/html": [
              "<html>\n",
              "<head><meta charset=\"utf-8\" /></head>\n",
              "<body>\n",
              "    <div>            <script src=\"https://cdnjs.cloudflare.com/ajax/libs/mathjax/2.7.5/MathJax.js?config=TeX-AMS-MML_SVG\"></script><script type=\"text/javascript\">if (window.MathJax && window.MathJax.Hub && window.MathJax.Hub.Config) {window.MathJax.Hub.Config({SVG: {font: \"STIX-Web\"}});}</script>                <script type=\"text/javascript\">window.PlotlyConfig = {MathJaxConfig: 'local'};</script>\n",
              "        <script charset=\"utf-8\" src=\"https://cdn.plot.ly/plotly-2.24.1.min.js\"></script>                <div id=\"ef5a2b61-686b-4400-9b10-d7075e781866\" class=\"plotly-graph-div\" style=\"height:525px; width:100%;\"></div>            <script type=\"text/javascript\">                                    window.PLOTLYENV=window.PLOTLYENV || {};                                    if (document.getElementById(\"ef5a2b61-686b-4400-9b10-d7075e781866\")) {                    Plotly.newPlot(                        \"ef5a2b61-686b-4400-9b10-d7075e781866\",                        [{\"hovertemplate\":\"Feature0=%{x}\\u003cbr\\u003eFeature1=%{y}\\u003cbr\\u003eFeature2=%{z}\\u003cbr\\u003eClass=%{marker.color}\\u003cextra\\u003e\\u003c\\u002fextra\\u003e\",\"legendgroup\":\"\",\"marker\":{\"color\":[0,0,0,0,1,2,2,0,0,2,2,1,0,0,0,2,2,0,0,1,0,0,0,2,0,0,0,2,2,0,0,0,2,1,1,0,1,0,1,0,0,0,0,0,0,0,0,1,0,2,0,2,0,0,1,2,0,0,2,0,0,1,0,1,2,1,0,1,0,0,0,1,0,0,0,1,1,0,1,0,0,0,0,2,1,0,1,0,0,0,0,1,0,0,0,2,0,0,0,0,2,0,0,0,1,0,0,1,0,2,0,0,0,0,1,0,0,0,0,0,1,2,0,0,0,0,0,1,0,0,1,0,0,0,0,2,2,0,1,0,2,2,0,0,0,0,2,0,0,1,1,0,0,1,2,1,0,1,0,2,0,0,0,1,0,2,0,1,0,0,1,0,0,0,0,0,0,0,2,0,0,2,2,0,2,0,1,0,0,0,0,0,2,2,0,0,0,0,0,1,1,2,0,1,0,0,2,0,0,1,0,2,1,0,0,2,1,0,0,0,0,2,0,1,0,0,0,1,0,1,1,0,0,2,0,0,2,0,0,0,0,0,0,2,0,1,0,0,0,0,2,0,0,1,0,0,0,1,0,0,0,2,0,0,0,2,0,1,0,0,0,0,0,1,2,0,0,0,0,0,0,0,2,0,0,0,0,0,0,0,0,2,0,2,1,0,0,0,0,0,2,2,0,0,0,0,0,1,0,0,1,0,0,2,0,0,0,0,1,0],\"coloraxis\":\"coloraxis\",\"symbol\":\"circle\"},\"mode\":\"markers\",\"name\":\"\",\"scene\":\"scene\",\"showlegend\":false,\"x\":[4.7980241775512695,4.722244739532471,5.643707275390625,6.2293009757995605,-1.627685546875,-5.390108108520508,-5.666984558105469,7.533718585968018,2.8321425914764404,-4.274539470672607,-5.222211837768555,-2.8177382946014404,5.885402679443359,2.4110002517700195,4.649831295013428,-4.274539470672607,-5.9266676902771,5.744177341461182,5.025010585784912,-3.313992738723755,5.821486473083496,5.773688316345215,3.8021492958068848,-1.957824468612671,3.3324193954467773,5.1217498779296875,5.0457634925842285,-3.5828661918640137,-3.159262180328369,7.09314489364624,6.0779128074646,12.02902603149414,-4.612920761108398,-0.9667088985443115,0.9472987651824951,6.251996994018555,-3.3418126106262207,5.5750956535339355,-3.5984134674072266,6.526844024658203,6.349076271057129,6.313420295715332,4.787561893463135,3.935614824295044,5.213205814361572,4.90871000289917,6.089105129241943,-2.2663214206695557,5.277171611785889,-1.8289884328842163,7.205800533294678,-5.9266676902771,3.000325918197632,8.682347297668457,-1.7719453573226929,-6.03074312210083,3.6808080673217773,7.862560749053955,-3.2302427291870117,8.814447402954102,6.102962493896484,-2.737011432647705,4.497100353240967,-2.692856550216675,-1.7693160772323608,-3.5362956523895264,1.71153724193573,-1.685642123222351,8.144058227539062,4.719802379608154,3.9195680618286133,-4.2017412185668945,4.630922317504883,4.402648448944092,2.525621175765991,-1.8262437582015991,-2.4200329780578613,5.007832050323486,-2.8412184715270996,2.9626522064208984,6.750250339508057,3.139944553375244,6.237057209014893,-4.887110710144043,-1.3913456201553345,0.7009527683258057,-1.627685546875,9.611763954162598,5.157379150390625,3.8124196529388428,4.913793563842773,-3.117518663406372,6.458049774169922,2.50256609916687,5.38693904876709,-4.564937591552734,2.402832269668579,3.852363348007202,5.639974117279053,2.3388514518737793,-4.420899391174316,3.0202834606170654,8.842761993408203,6.526844024658203,-1.7719453573226929,8.458647727966309,2.217939853668213,-1.9123629331588745,5.0539984703063965,-4.021080493927002,5.215734004974365,8.489216804504395,5.815369606018066,4.211828231811523,-2.2663214206695557,2.386624336242676,6.524875640869141,5.393847465515137,7.362937927246094,3.374605417251587,-3.7121644020080566,-1.957824468612671,6.909843921661377,8.964508056640625,2.3242034912109375,11.38768482208252,3.592045783996582,-0.868008017539978,3.315995693206787,6.252493381500244,-1.8262437582015991,0.1530017852783203,4.991236209869385,7.191953659057617,9.259298324584961,-7.983299732208252,-7.004824638366699,5.876481533050537,-2.4200329780578613,4.123218536376953,-6.792627334594727,-6.67685604095459,2.5497078895568848,5.1217498779296875,5.244907855987549,5.244907855987549,-3.219916343688965,4.916558742523193,5.447044372558594,-2.144939422607422,-2.346269369125366,9.10663890838623,9.412014961242676,-3.113271474838257,-4.021080493927002,-3.0319581031799316,7.99852180480957,-3.313992738723755,3.289682388305664,-3.219916343688965,4.211300849914551,4.747958183288574,7.623115062713623,-2.0025768280029297,7.880310535430908,-1.7693160772323608,10.952654838562012,-1.3913456201553345,7.657208442687988,3.9021127223968506,-4.135119915008545,3.0202834606170654,12.563226699829102,4.64092493057251,6.451501846313477,11.59375286102295,6.3215651512146,4.128599643707275,-5.5905656814575195,8.657031059265137,2.834975004196167,-4.612920761108398,-3.152297019958496,3.8021492958068848,-6.648931980133057,7.157010078430176,-4.2017412185668945,1.71153724193573,6.657948017120361,8.40916633605957,2.4110002517700195,4.9014892578125,-3.219916343688965,-3.219916343688965,6.001073360443115,6.524875640869141,2.099623441696167,9.25944995880127,3.666658639907837,-0.8606659173965454,0.9853968620300293,-3.3340258598327637,2.7941854000091553,-3.1791069507598877,4.611195087432861,5.661313533782959,-5.9632391929626465,4.2678351402282715,6.713579177856445,-0.9533807039260864,6.18860387802124,-4.564937591552734,-0.868008017539978,5.277171611785889,5.309324264526367,-6.03074312210083,-4.135119915008545,6.249650001525879,-2.2086079120635986,4.643889427185059,3.714010000228882,-1.806092381477356,10.44063949584961,0.0009671151638031006,3.242330551147461,8.076176643371582,3.3875205516815186,0.9853968620300293,4.774083614349365,-2.692856550216675,-2.737011432647705,8.229921340942383,4.015458583831787,-4.7913713455200195,-0.26111677289009094,4.100316524505615,-4.842050075531006,5.333337306976318,4.235352993011475,7.6738505363464355,2.1806764602661133,3.5510950088500977,5.3215413093566895,-7.983299732208252,9.361339569091797,-1.930980920791626,3.175906181335449,7.107695579528809,6.327277660369873,7.517506122589111,-3.5828661918640137,9.679059028625488,9.823246002197266,-0.456809401512146,8.972943305969238,9.216500282287598,7.879067897796631,-3.817091226577759,5.9423394203186035,4.839510440826416,2.7628703117370605,-5.390108108520508,3.797659397125244,5.844627380371094,4.5791335105896,-5.929718494415283,6.065375328063965,-1.9347590208053589,3.139944553375244,3.8142335414886475,3.554323196411133,7.261910915374756,6.46818208694458,-3.728269338607788,-3.159262180328369,5.821465015411377,10.756708145141602,5.393847465515137,1.1706427335739136,4.061188697814941,6.074034214019775,2.8152501583099365,-4.174756050109863,6.218411922454834,3.007305860519409,11.59375286102295,5.401228427886963,3.9020800590515137,6.270287990570068,8.425350189208984,2.3242034912109375,-4.420899391174316,6.648571491241455,-4.380824089050293,-0.8105491399765015,10.787230491638184,6.951959133148193,9.0599946975708,5.0842437744140625,7.322721004486084,-3.265666961669922,-4.719390869140625,6.1596245765686035,3.137712240219116,2.960202693939209,2.1806764602661133,7.614331245422363,-0.9533807039260864,6.80785608291626,4.588810920715332,-0.20004767179489136,5.864428997039795,6.229570388793945,-5.786473274230957,6.107977390289307,5.384426116943359,7.107695579528809,8.351752281188965,-2.346269369125366,1.428758978843689],\"y\":[-1.7733087539672852,-3.4091413021087646,-2.5818700790405273,-3.189570665359497,2.716982364654541,-1.2615550756454468,-2.612271547317505,-4.511743068695068,-0.943231463432312,-3.3812294006347656,-2.3629393577575684,0.7232566475868225,-1.2523411512374878,-2.8150601387023926,-2.4005565643310547,-3.3812294006347656,-1.1234632730484009,-3.4284563064575195,-1.0709786415100098,2.079984188079834,-2.7180967330932617,-1.6327123641967773,-2.770686388015747,-0.4099227786064148,-2.302421808242798,-1.4887055158615112,2.3373448848724365,-1.1902507543563843,0.4158089756965637,-2.7058932781219482,-3.473505973815918,-1.9509830474853516,-1.4801816940307617,3.822967290878296,2.0331716537475586,-1.8679927587509155,0.6272748112678528,-3.7042627334594727,-0.1672859638929367,-4.247615337371826,-2.7303802967071533,-1.8422733545303345,-2.1022536754608154,-2.3640379905700684,-1.4879637956619263,-1.8254222869873047,-3.2377655506134033,3.249706983566284,-2.120185136795044,-5.099067211151123,-2.669118642807007,-1.1234632730484009,-1.680458903312683,-3.956573486328125,1.000519871711731,-1.679230809211731,-2.6509671211242676,-0.021826978772878647,-2.8600950241088867,-1.808458924293518,-1.1029247045516968,3.185978651046753,-2.629689931869507,2.3284709453582764,-4.4506025314331055,2.8226633071899414,-3.676105499267578,2.7587366104125977,-3.4167466163635254,-1.5820142030715942,-0.9384186267852783,1.5413649082183838,-1.1636320352554321,-1.6551741361618042,-1.7704010009765625,1.7047687768936157,1.8384915590286255,-6.23288106918335,0.934124231338501,-0.49511998891830444,-4.866586685180664,-1.3972245454788208,-4.31765079498291,1.3747639656066895,1.6197314262390137,-1.9831336736679077,2.716982364654541,-3.06903076171875,-0.3551943898200989,-2.553723096847534,-1.5787153244018555,2.4970250129699707,-1.5213322639465332,-1.9224989414215088,0.5716889500617981,-2.1313323974609375,-2.0068798065185547,-4.849298477172852,-1.3036421537399292,-1.2903143167495728,-4.512475490570068,-3.1040711402893066,-3.90932559967041,-4.247615337371826,1.000519871711731,-2.074547290802002,0.01007803250104189,0.631966769695282,-3.4514577388763428,-3.6804442405700684,-3.7432570457458496,-3.967555284500122,-2.226854085922241,-4.048290252685547,3.249706983566284,-1.311950922012329,-4.048368453979492,0.3636555075645447,-2.9220094680786133,-2.2551000118255615,4.13145637512207,-0.4099227786064148,-0.051884736865758896,-2.4505534172058105,-4.257552623748779,-3.431056499481201,-1.5307815074920654,2.299269676208496,-0.9765051007270813,-2.216500759124756,1.7047687768936157,-2.4699020385742188,-1.5599160194396973,-3.0651233196258545,-3.8320164680480957,-1.0971664190292358,-1.152574896812439,-3.1181793212890625,1.8384915590286255,-6.0647735595703125,-1.0469691753387451,0.9590469598770142,-2.453969717025757,-1.4887055158615112,-0.25690987706184387,-0.25690987706184387,-2.9974565505981445,-4.453835487365723,-1.0911210775375366,1.5996712446212769,2.033259630203247,-2.853748321533203,-0.7368837594985962,-0.2484963983297348,-3.6804442405700684,2.4278647899627686,-1.5057531595230103,2.079984188079834,-0.035136979073286057,-2.9974565505981445,-3.4867947101593018,-1.8800373077392578,-4.567246437072754,1.6494836807250977,-3.0980958938598633,-4.4506025314331055,-2.614163875579834,1.6197314262390137,-0.9701783061027527,-0.5632843971252441,2.365621566772461,-3.1040711402893066,-2.865920305252075,0.4825759828090668,-4.2846832275390625,-4.168797969818115,-1.9047373533248901,-0.8676068186759949,-1.7577425241470337,-3.4391326904296875,0.6105198264122009,-1.4801816940307617,-1.9212759733200073,-2.770686388015747,-3.3556454181671143,-3.162099599838257,1.5413649082183838,-3.676105499267578,-0.5533866882324219,-1.2246699333190918,-2.8150601387023926,-1.1908015012741089,-2.9974565505981445,-2.9974565505981445,-2.9386019706726074,-4.048368453979492,-1.8507602214813232,-3.2607173919677734,-0.6375481486320496,1.0278795957565308,1.267667531967163,-1.5180226564407349,-0.9986132383346558,2.597869873046875,-1.788693904876709,0.44631752371788025,-3.046022891998291,0.41714176535606384,-1.0464047193527222,1.1461901664733887,-0.8090854287147522,-2.1313323974609375,2.299269676208496,-2.120185136795044,-2.1881937980651855,-1.679230809211731,2.365621566772461,-3.730691432952881,0.18807505071163177,-0.5827831029891968,-3.3745532035827637,-1.6540273427963257,-0.43079039454460144,3.0377891063690186,-2.124293327331543,-4.529447078704834,-1.6515110731124878,1.267667531967163,-4.519220352172852,2.3284709453582764,3.185978651046753,-4.307260990142822,-2.101027011871338,-1.6234325170516968,1.394953727722168,-1.3856600522994995,1.7229583263397217,-1.8757222890853882,-4.570376396179199,-3.714843273162842,-0.14844249188899994,-2.264706611633301,0.454864501953125,-1.0971664190292358,-1.7110694646835327,1.4140006303787231,-2.0080411434173584,-2.4599859714508057,-0.8271519541740417,-0.9159985780715942,-1.1902507543563843,-4.61773157119751,-4.602386474609375,3.6129350662231445,-1.5329493284225464,-4.798956394195557,-5.857110023498535,1.0979549884796143,-3.1624557971954346,-2.456202745437622,-0.1252007931470871,-1.2615550756454468,-2.3661134243011475,-1.0266491174697876,-2.3404436111450195,-3.3494181632995605,-3.58012056350708,2.895329475402832,-1.3972245454788208,-1.585768699645996,-2.1413064002990723,-2.6512374877929688,-2.798692226409912,-0.6089215278625488,0.4158089756965637,0.30293482542037964,-3.148686408996582,0.3636555075645447,-0.7251847982406616,-3.578605890274048,-1.1319483518600464,0.5524452328681946,-1.781663417816162,-1.7222076654434204,-1.9088451862335205,-4.168797969818115,-1.1652714014053345,0.9079074859619141,-0.8309066295623779,-0.20686852931976318,-4.257552623748779,-4.512475490570068,-1.4243196249008179,-2.6301417350769043,1.2294436693191528,-5.020994186401367,-5.435582160949707,-1.9291430711746216,-5.74377965927124,-1.9313313961029053,-4.472949981689453,-1.0404890775680542,-2.0386240482330322,-3.403972864151001,-0.5244975090026855,-0.14844249188899994,-6.470972061157227,1.1461901664733887,-1.3777575492858887,-4.191078186035156,2.616694688796997,-3.146141290664673,-2.52927565574646,-0.5841771364212036,-2.265974998474121,-0.9797527194023132,-2.4599859714508057,-1.5287538766860962,2.033259630203247,-3.2654435634613037],\"z\":[-6.711816310882568,-4.404687404632568,-6.628196716308594,-7.011697769165039,-3.3704521656036377,5.440390586853027,6.79612398147583,-7.4000091552734375,-4.563124179840088,5.389644145965576,5.622559547424316,-0.049055542796850204,-9.026285171508789,-1.4611434936523438,-5.167023181915283,5.389644145965576,4.94583797454834,-4.667232513427734,-5.660744667053223,-0.6339123249053955,-5.284332275390625,-7.661619186401367,-4.6604437828063965,0.0485922209918499,-4.493685245513916,-6.844259738922119,-11.73314094543457,3.197525978088379,1.8177934885025024,-7.889770030975342,-7.176251411437988,-15.579171180725098,4.803103446960449,-5.931865692138672,-6.4271321296691895,-8.207476615905762,0.2599062919616699,-5.4861345291137695,2.398576498031616,-5.940349102020264,-7.08750581741333,-9.004015922546387,-6.533923149108887,-4.798177719116211,-6.717226982116699,-7.111530780792236,-6.907837867736816,-4.076940059661865,-6.464201927185059,5.0822882652282715,-9.508357048034668,4.94583797454834,-3.919398307800293,-8.930673599243164,-0.44052648544311523,5.838897228240967,-6.274594306945801,-12.610591888427734,4.553415298461914,-10.568036079406738,-8.726635932922363,-2.904022455215454,-5.238277435302734,-2.0894370079040527,3.630375385284424,-0.869054913520813,-1.4036874771118164,-3.268366575241089,-9.419189453125,-5.4032087326049805,-6.631910800933838,0.8272830247879028,-7.619614601135254,-6.684224605560303,-4.140295505523682,-2.273322582244873,-1.2559667825698853,-2.4298641681671143,-0.9650874137878418,-5.6206183433532715,-5.326775550842285,-4.321177959442139,-4.686182022094727,1.0869463682174683,-2.3864593505859375,-0.025773916393518448,-3.3704521656036377,-10.619964599609375,-8.67404556274414,-4.8577775955200195,-7.6938581466674805,-0.9139336943626404,-7.990248203277588,-3.9407198429107666,-10.568607330322266,5.827314853668213,-4.39960241317749,-1.5427016019821167,-7.978646755218506,-5.34747314453125,7.462223052978516,-4.604373931884766,-8.964241981506348,-5.940349102020264,-0.44052648544311523,-10.59974193572998,-4.890072345733643,-0.32580748200416565,-4.9443769454956055,7.207945346832275,-4.79374885559082,-8.528905868530273,-6.78019380569458,-3.1328418254852295,-4.076940059661865,-4.352024078369141,-6.024288654327393,-10.105487823486328,-8.455438613891602,-4.891445636749268,-3.4412035942077637,0.0485922209918499,-11.937688827514648,-11.379416465759277,-0.3866116404533386,-12.68303394317627,-5.88447380065918,-4.298427581787109,-5.3917155265808105,-6.89094352722168,-2.273322582244873,-0.6762123703956604,-6.211794853210449,-7.624630451202393,-9.654669761657715,6.8888092041015625,7.433886528015137,-6.323042869567871,-1.2559667825698853,-1.3114302158355713,5.959081649780273,3.9733848571777344,-2.248737335205078,-6.844259738922119,-8.8264799118042,-8.8264799118042,4.726062774658203,-3.7279841899871826,-7.982588768005371,-1.4898591041564941,-3.1512694358825684,-10.252622604370117,-13.257474899291992,1.8182283639907837,7.207945346832275,-1.5647753477096558,-10.48233699798584,-0.6339123249053955,-6.019464015960693,4.726062774658203,-3.7525908946990967,-6.312288761138916,-6.96660852432251,-1.3132215738296509,-8.360189437866211,3.630375385284424,-12.698853492736816,-2.3864593505859375,-11.273358345031738,-7.576733112335205,0.3053666949272156,-4.604373931884766,-15.027948379516602,-9.577106475830078,-5.908756732940674,-11.545517921447754,-7.721947193145752,-6.975502967834473,5.708303928375244,-9.590049743652344,-7.497559547424316,4.803103446960449,3.3995790481567383,-4.6604437828063965,7.8987345695495605,-7.567628383636475,0.8272830247879028,-1.4036874771118164,-9.307106971740723,-11.653514862060547,-1.4611434936523438,-7.447678089141846,4.726062774658203,4.726062774658203,-6.751021862030029,-6.024288654327393,-4.92010498046875,-10.563996315002441,-6.348702907562256,-2.42352557182312,-4.946549892425537,3.1242592334747314,-4.083340167999268,-2.3045003414154053,-4.994406223297119,-11.218745231628418,7.378709316253662,-7.779261112213135,-9.2291841506958,-3.6120083332061768,-9.593310356140137,5.827314853668213,-4.298427581787109,-6.464201927185059,-5.895933151245117,5.838897228240967,0.3053666949272156,-6.6804890632629395,0.2772185206413269,-8.338129043579102,-4.281299591064453,1.9250080585479736,-15.572306632995605,-5.946621894836426,-5.135396480560303,-7.747278213500977,-4.449192047119141,-4.946549892425537,-4.011552333831787,-2.0894370079040527,-2.904022455215454,-8.093605995178223,-5.184511661529541,3.8855583667755127,-2.819489002227783,-6.264484882354736,0.73252272605896,-7.845242977142334,-2.994852066040039,-8.683762550354004,-6.147889614105225,-3.5043089389801025,-9.792987823486328,6.8888092041015625,-11.598031044006348,-1.2264310121536255,-4.003781795501709,-9.117945671081543,-9.989049911499023,-11.403489112854004,3.197525978088379,-8.814382553100586,-9.873446464538574,-6.807227611541748,-12.585746765136719,-8.924293518066406,-4.796730041503906,0.1405656784772873,-6.215022563934326,-6.142269611358643,-5.850150108337402,5.440390586853027,-4.807540416717529,-9.348674774169922,-5.398592472076416,7.638218402862549,-5.577329635620117,-3.3900678157806396,-4.321177959442139,-5.848329544067383,-4.432847499847412,-8.700441360473633,-6.790956974029541,2.464613676071167,1.8177934885025024,-10.4403715133667,-11.964424133300781,-10.105487823486328,-4.718380451202393,-4.482688903808594,-8.687345504760742,-6.502045154571533,3.509953260421753,-9.76028823852539,-3.0973923206329346,-11.545517921447754,-7.230860233306885,-8.85895824432373,-9.815436363220215,-12.185975074768066,-0.3866116404533386,7.462223052978516,-9.396442413330078,5.740194797515869,-2.7090647220611572,-10.523298263549805,-5.195777416229248,-11.040460586547852,-2.318106174468994,-9.675259590148926,5.411492824554443,4.494859218597412,-7.424843788146973,-2.8028149604797363,-6.128035068511963,-6.147889614105225,-4.151266574859619,-3.6120083332061768,-8.826424598693848,-3.5933914184570312,-6.166903972625732,-7.351491928100586,-7.236312389373779,4.7541279792785645,-7.183552265167236,-8.600552558898926,-9.117945671081543,-12.081298828125,-3.1512694358825684,-2.2730631828308105],\"type\":\"scatter3d\"}],                        {\"template\":{\"data\":{\"histogram2dcontour\":[{\"type\":\"histogram2dcontour\",\"colorbar\":{\"outlinewidth\":0,\"ticks\":\"\"},\"colorscale\":[[0.0,\"#0d0887\"],[0.1111111111111111,\"#46039f\"],[0.2222222222222222,\"#7201a8\"],[0.3333333333333333,\"#9c179e\"],[0.4444444444444444,\"#bd3786\"],[0.5555555555555556,\"#d8576b\"],[0.6666666666666666,\"#ed7953\"],[0.7777777777777778,\"#fb9f3a\"],[0.8888888888888888,\"#fdca26\"],[1.0,\"#f0f921\"]]}],\"choropleth\":[{\"type\":\"choropleth\",\"colorbar\":{\"outlinewidth\":0,\"ticks\":\"\"}}],\"histogram2d\":[{\"type\":\"histogram2d\",\"colorbar\":{\"outlinewidth\":0,\"ticks\":\"\"},\"colorscale\":[[0.0,\"#0d0887\"],[0.1111111111111111,\"#46039f\"],[0.2222222222222222,\"#7201a8\"],[0.3333333333333333,\"#9c179e\"],[0.4444444444444444,\"#bd3786\"],[0.5555555555555556,\"#d8576b\"],[0.6666666666666666,\"#ed7953\"],[0.7777777777777778,\"#fb9f3a\"],[0.8888888888888888,\"#fdca26\"],[1.0,\"#f0f921\"]]}],\"heatmap\":[{\"type\":\"heatmap\",\"colorbar\":{\"outlinewidth\":0,\"ticks\":\"\"},\"colorscale\":[[0.0,\"#0d0887\"],[0.1111111111111111,\"#46039f\"],[0.2222222222222222,\"#7201a8\"],[0.3333333333333333,\"#9c179e\"],[0.4444444444444444,\"#bd3786\"],[0.5555555555555556,\"#d8576b\"],[0.6666666666666666,\"#ed7953\"],[0.7777777777777778,\"#fb9f3a\"],[0.8888888888888888,\"#fdca26\"],[1.0,\"#f0f921\"]]}],\"heatmapgl\":[{\"type\":\"heatmapgl\",\"colorbar\":{\"outlinewidth\":0,\"ticks\":\"\"},\"colorscale\":[[0.0,\"#0d0887\"],[0.1111111111111111,\"#46039f\"],[0.2222222222222222,\"#7201a8\"],[0.3333333333333333,\"#9c179e\"],[0.4444444444444444,\"#bd3786\"],[0.5555555555555556,\"#d8576b\"],[0.6666666666666666,\"#ed7953\"],[0.7777777777777778,\"#fb9f3a\"],[0.8888888888888888,\"#fdca26\"],[1.0,\"#f0f921\"]]}],\"contourcarpet\":[{\"type\":\"contourcarpet\",\"colorbar\":{\"outlinewidth\":0,\"ticks\":\"\"}}],\"contour\":[{\"type\":\"contour\",\"colorbar\":{\"outlinewidth\":0,\"ticks\":\"\"},\"colorscale\":[[0.0,\"#0d0887\"],[0.1111111111111111,\"#46039f\"],[0.2222222222222222,\"#7201a8\"],[0.3333333333333333,\"#9c179e\"],[0.4444444444444444,\"#bd3786\"],[0.5555555555555556,\"#d8576b\"],[0.6666666666666666,\"#ed7953\"],[0.7777777777777778,\"#fb9f3a\"],[0.8888888888888888,\"#fdca26\"],[1.0,\"#f0f921\"]]}],\"surface\":[{\"type\":\"surface\",\"colorbar\":{\"outlinewidth\":0,\"ticks\":\"\"},\"colorscale\":[[0.0,\"#0d0887\"],[0.1111111111111111,\"#46039f\"],[0.2222222222222222,\"#7201a8\"],[0.3333333333333333,\"#9c179e\"],[0.4444444444444444,\"#bd3786\"],[0.5555555555555556,\"#d8576b\"],[0.6666666666666666,\"#ed7953\"],[0.7777777777777778,\"#fb9f3a\"],[0.8888888888888888,\"#fdca26\"],[1.0,\"#f0f921\"]]}],\"mesh3d\":[{\"type\":\"mesh3d\",\"colorbar\":{\"outlinewidth\":0,\"ticks\":\"\"}}],\"scatter\":[{\"fillpattern\":{\"fillmode\":\"overlay\",\"size\":10,\"solidity\":0.2},\"type\":\"scatter\"}],\"parcoords\":[{\"type\":\"parcoords\",\"line\":{\"colorbar\":{\"outlinewidth\":0,\"ticks\":\"\"}}}],\"scatterpolargl\":[{\"type\":\"scatterpolargl\",\"marker\":{\"colorbar\":{\"outlinewidth\":0,\"ticks\":\"\"}}}],\"bar\":[{\"error_x\":{\"color\":\"#2a3f5f\"},\"error_y\":{\"color\":\"#2a3f5f\"},\"marker\":{\"line\":{\"color\":\"#E5ECF6\",\"width\":0.5},\"pattern\":{\"fillmode\":\"overlay\",\"size\":10,\"solidity\":0.2}},\"type\":\"bar\"}],\"scattergeo\":[{\"type\":\"scattergeo\",\"marker\":{\"colorbar\":{\"outlinewidth\":0,\"ticks\":\"\"}}}],\"scatterpolar\":[{\"type\":\"scatterpolar\",\"marker\":{\"colorbar\":{\"outlinewidth\":0,\"ticks\":\"\"}}}],\"histogram\":[{\"marker\":{\"pattern\":{\"fillmode\":\"overlay\",\"size\":10,\"solidity\":0.2}},\"type\":\"histogram\"}],\"scattergl\":[{\"type\":\"scattergl\",\"marker\":{\"colorbar\":{\"outlinewidth\":0,\"ticks\":\"\"}}}],\"scatter3d\":[{\"type\":\"scatter3d\",\"line\":{\"colorbar\":{\"outlinewidth\":0,\"ticks\":\"\"}},\"marker\":{\"colorbar\":{\"outlinewidth\":0,\"ticks\":\"\"}}}],\"scattermapbox\":[{\"type\":\"scattermapbox\",\"marker\":{\"colorbar\":{\"outlinewidth\":0,\"ticks\":\"\"}}}],\"scatterternary\":[{\"type\":\"scatterternary\",\"marker\":{\"colorbar\":{\"outlinewidth\":0,\"ticks\":\"\"}}}],\"scattercarpet\":[{\"type\":\"scattercarpet\",\"marker\":{\"colorbar\":{\"outlinewidth\":0,\"ticks\":\"\"}}}],\"carpet\":[{\"aaxis\":{\"endlinecolor\":\"#2a3f5f\",\"gridcolor\":\"white\",\"linecolor\":\"white\",\"minorgridcolor\":\"white\",\"startlinecolor\":\"#2a3f5f\"},\"baxis\":{\"endlinecolor\":\"#2a3f5f\",\"gridcolor\":\"white\",\"linecolor\":\"white\",\"minorgridcolor\":\"white\",\"startlinecolor\":\"#2a3f5f\"},\"type\":\"carpet\"}],\"table\":[{\"cells\":{\"fill\":{\"color\":\"#EBF0F8\"},\"line\":{\"color\":\"white\"}},\"header\":{\"fill\":{\"color\":\"#C8D4E3\"},\"line\":{\"color\":\"white\"}},\"type\":\"table\"}],\"barpolar\":[{\"marker\":{\"line\":{\"color\":\"#E5ECF6\",\"width\":0.5},\"pattern\":{\"fillmode\":\"overlay\",\"size\":10,\"solidity\":0.2}},\"type\":\"barpolar\"}],\"pie\":[{\"automargin\":true,\"type\":\"pie\"}]},\"layout\":{\"autotypenumbers\":\"strict\",\"colorway\":[\"#636efa\",\"#EF553B\",\"#00cc96\",\"#ab63fa\",\"#FFA15A\",\"#19d3f3\",\"#FF6692\",\"#B6E880\",\"#FF97FF\",\"#FECB52\"],\"font\":{\"color\":\"#2a3f5f\"},\"hovermode\":\"closest\",\"hoverlabel\":{\"align\":\"left\"},\"paper_bgcolor\":\"white\",\"plot_bgcolor\":\"#E5ECF6\",\"polar\":{\"bgcolor\":\"#E5ECF6\",\"angularaxis\":{\"gridcolor\":\"white\",\"linecolor\":\"white\",\"ticks\":\"\"},\"radialaxis\":{\"gridcolor\":\"white\",\"linecolor\":\"white\",\"ticks\":\"\"}},\"ternary\":{\"bgcolor\":\"#E5ECF6\",\"aaxis\":{\"gridcolor\":\"white\",\"linecolor\":\"white\",\"ticks\":\"\"},\"baxis\":{\"gridcolor\":\"white\",\"linecolor\":\"white\",\"ticks\":\"\"},\"caxis\":{\"gridcolor\":\"white\",\"linecolor\":\"white\",\"ticks\":\"\"}},\"coloraxis\":{\"colorbar\":{\"outlinewidth\":0,\"ticks\":\"\"}},\"colorscale\":{\"sequential\":[[0.0,\"#0d0887\"],[0.1111111111111111,\"#46039f\"],[0.2222222222222222,\"#7201a8\"],[0.3333333333333333,\"#9c179e\"],[0.4444444444444444,\"#bd3786\"],[0.5555555555555556,\"#d8576b\"],[0.6666666666666666,\"#ed7953\"],[0.7777777777777778,\"#fb9f3a\"],[0.8888888888888888,\"#fdca26\"],[1.0,\"#f0f921\"]],\"sequentialminus\":[[0.0,\"#0d0887\"],[0.1111111111111111,\"#46039f\"],[0.2222222222222222,\"#7201a8\"],[0.3333333333333333,\"#9c179e\"],[0.4444444444444444,\"#bd3786\"],[0.5555555555555556,\"#d8576b\"],[0.6666666666666666,\"#ed7953\"],[0.7777777777777778,\"#fb9f3a\"],[0.8888888888888888,\"#fdca26\"],[1.0,\"#f0f921\"]],\"diverging\":[[0,\"#8e0152\"],[0.1,\"#c51b7d\"],[0.2,\"#de77ae\"],[0.3,\"#f1b6da\"],[0.4,\"#fde0ef\"],[0.5,\"#f7f7f7\"],[0.6,\"#e6f5d0\"],[0.7,\"#b8e186\"],[0.8,\"#7fbc41\"],[0.9,\"#4d9221\"],[1,\"#276419\"]]},\"xaxis\":{\"gridcolor\":\"white\",\"linecolor\":\"white\",\"ticks\":\"\",\"title\":{\"standoff\":15},\"zerolinecolor\":\"white\",\"automargin\":true,\"zerolinewidth\":2},\"yaxis\":{\"gridcolor\":\"white\",\"linecolor\":\"white\",\"ticks\":\"\",\"title\":{\"standoff\":15},\"zerolinecolor\":\"white\",\"automargin\":true,\"zerolinewidth\":2},\"scene\":{\"xaxis\":{\"backgroundcolor\":\"#E5ECF6\",\"gridcolor\":\"white\",\"linecolor\":\"white\",\"showbackground\":true,\"ticks\":\"\",\"zerolinecolor\":\"white\",\"gridwidth\":2},\"yaxis\":{\"backgroundcolor\":\"#E5ECF6\",\"gridcolor\":\"white\",\"linecolor\":\"white\",\"showbackground\":true,\"ticks\":\"\",\"zerolinecolor\":\"white\",\"gridwidth\":2},\"zaxis\":{\"backgroundcolor\":\"#E5ECF6\",\"gridcolor\":\"white\",\"linecolor\":\"white\",\"showbackground\":true,\"ticks\":\"\",\"zerolinecolor\":\"white\",\"gridwidth\":2}},\"shapedefaults\":{\"line\":{\"color\":\"#2a3f5f\"}},\"annotationdefaults\":{\"arrowcolor\":\"#2a3f5f\",\"arrowhead\":0,\"arrowwidth\":1},\"geo\":{\"bgcolor\":\"white\",\"landcolor\":\"#E5ECF6\",\"subunitcolor\":\"white\",\"showland\":true,\"showlakes\":true,\"lakecolor\":\"white\"},\"title\":{\"x\":0.05},\"mapbox\":{\"style\":\"light\"}}},\"scene\":{\"domain\":{\"x\":[0.0,1.0],\"y\":[0.0,1.0]},\"xaxis\":{\"title\":{\"text\":\"Feature0\"}},\"yaxis\":{\"title\":{\"text\":\"Feature1\"}},\"zaxis\":{\"title\":{\"text\":\"Feature2\"}}},\"coloraxis\":{\"colorbar\":{\"title\":{\"text\":\"Class\"}},\"colorscale\":[[0.0,\"#440154\"],[0.1111111111111111,\"#482878\"],[0.2222222222222222,\"#3e4989\"],[0.3333333333333333,\"#31688e\"],[0.4444444444444444,\"#26828e\"],[0.5555555555555556,\"#1f9e89\"],[0.6666666666666666,\"#35b779\"],[0.7777777777777778,\"#6ece58\"],[0.8888888888888888,\"#b5de2b\"],[1.0,\"#fde725\"]]},\"legend\":{\"tracegroupgap\":0},\"title\":{\"text\":\"Interactive 3D Scatter Plot\"}},                        {\"responsive\": true}                    ).then(function(){\n",
              "                            \n",
              "var gd = document.getElementById('ef5a2b61-686b-4400-9b10-d7075e781866');\n",
              "var x = new MutationObserver(function (mutations, observer) {{\n",
              "        var display = window.getComputedStyle(gd).display;\n",
              "        if (!display || display === 'none') {{\n",
              "            console.log([gd, 'removed!']);\n",
              "            Plotly.purge(gd);\n",
              "            observer.disconnect();\n",
              "        }}\n",
              "}});\n",
              "\n",
              "// Listen for the removal of the full notebook cells\n",
              "var notebookContainer = gd.closest('#notebook-container');\n",
              "if (notebookContainer) {{\n",
              "    x.observe(notebookContainer, {childList: true});\n",
              "}}\n",
              "\n",
              "// Listen for the clearing of the current output cell\n",
              "var outputEl = gd.closest('.output');\n",
              "if (outputEl) {{\n",
              "    x.observe(outputEl, {childList: true});\n",
              "}}\n",
              "\n",
              "                        })                };                            </script>        </div>\n",
              "</body>\n",
              "</html>"
            ]
          },
          "metadata": {}
        }
      ]
    },
    {
      "cell_type": "code",
      "source": [
        "# visualize training and testing together\n",
        "import plotly.express as px\n",
        "\n",
        "# Assuming you have pandas DataFrames for X_train, X_test, and NumPy arrays for y_train, y_test\n",
        "# Replace X_train, X_test, y_train, and y_test with your actual data\n",
        "\n",
        "# Create DataFrames for training and testing data with labels\n",
        "import pandas as pd\n",
        "df_train = pd.DataFrame({'Feature0': X_train[:, 0], 'Feature1': X_train[:, 1], 'Feature2': X_train[:, 2], 'Class': y_train, 'Dataset': 'Training'})\n",
        "df_test = pd.DataFrame({'Feature0': X_test[:, 0], 'Feature1': X_test[:, 1], 'Feature2': X_test[:, 2], 'Class': y_test, 'Dataset': 'Testing'})\n",
        "\n",
        "# Concatenate the training and testing DataFrames\n",
        "df_combined = pd.concat([df_train, df_test], ignore_index=True)\n",
        "\n",
        "# Create an interactive 3D scatter plot with both training and testing data\n",
        "fig = px.scatter_3d(df_combined, x='Feature0', y='Feature1', z='Feature2', color='Class', symbol='Dataset',\n",
        "                     color_continuous_scale='Viridis', title='Interactive 3D Scatter Plot (Training and Testing Data)')\n",
        "fig.show()\n"
      ],
      "metadata": {
        "colab": {
          "base_uri": "https://localhost:8080/",
          "height": 246
        },
        "id": "Fv4CbKoFA5Ve",
        "outputId": "c96bef4c-df01-40bb-f969-1ec26907d815"
      },
      "execution_count": null,
      "outputs": [
        {
          "output_type": "error",
          "ename": "IndexError",
          "evalue": "ignored",
          "traceback": [
            "\u001b[0;31m---------------------------------------------------------------------------\u001b[0m",
            "\u001b[0;31mIndexError\u001b[0m                                Traceback (most recent call last)",
            "\u001b[0;32m<ipython-input-155-f4df55a5b327>\u001b[0m in \u001b[0;36m<cell line: 9>\u001b[0;34m()\u001b[0m\n\u001b[1;32m      7\u001b[0m \u001b[0;31m# Create DataFrames for training and testing data with labels\u001b[0m\u001b[0;34m\u001b[0m\u001b[0;34m\u001b[0m\u001b[0m\n\u001b[1;32m      8\u001b[0m \u001b[0;32mimport\u001b[0m \u001b[0mpandas\u001b[0m \u001b[0;32mas\u001b[0m \u001b[0mpd\u001b[0m\u001b[0;34m\u001b[0m\u001b[0;34m\u001b[0m\u001b[0m\n\u001b[0;32m----> 9\u001b[0;31m \u001b[0mdf_train\u001b[0m \u001b[0;34m=\u001b[0m \u001b[0mpd\u001b[0m\u001b[0;34m.\u001b[0m\u001b[0mDataFrame\u001b[0m\u001b[0;34m(\u001b[0m\u001b[0;34m{\u001b[0m\u001b[0;34m'Feature0'\u001b[0m\u001b[0;34m:\u001b[0m \u001b[0mX_train\u001b[0m\u001b[0;34m[\u001b[0m\u001b[0;34m:\u001b[0m\u001b[0;34m,\u001b[0m \u001b[0;36m0\u001b[0m\u001b[0;34m]\u001b[0m\u001b[0;34m,\u001b[0m \u001b[0;34m'Feature1'\u001b[0m\u001b[0;34m:\u001b[0m \u001b[0mX_train\u001b[0m\u001b[0;34m[\u001b[0m\u001b[0;34m:\u001b[0m\u001b[0;34m,\u001b[0m \u001b[0;36m1\u001b[0m\u001b[0;34m]\u001b[0m\u001b[0;34m,\u001b[0m \u001b[0;34m'Feature2'\u001b[0m\u001b[0;34m:\u001b[0m \u001b[0mX_train\u001b[0m\u001b[0;34m[\u001b[0m\u001b[0;34m:\u001b[0m\u001b[0;34m,\u001b[0m \u001b[0;36m2\u001b[0m\u001b[0;34m]\u001b[0m\u001b[0;34m,\u001b[0m \u001b[0;34m'Class'\u001b[0m\u001b[0;34m:\u001b[0m \u001b[0my_train\u001b[0m\u001b[0;34m,\u001b[0m \u001b[0;34m'Dataset'\u001b[0m\u001b[0;34m:\u001b[0m \u001b[0;34m'Training'\u001b[0m\u001b[0;34m}\u001b[0m\u001b[0;34m)\u001b[0m\u001b[0;34m\u001b[0m\u001b[0;34m\u001b[0m\u001b[0m\n\u001b[0m\u001b[1;32m     10\u001b[0m \u001b[0mdf_test\u001b[0m \u001b[0;34m=\u001b[0m \u001b[0mpd\u001b[0m\u001b[0;34m.\u001b[0m\u001b[0mDataFrame\u001b[0m\u001b[0;34m(\u001b[0m\u001b[0;34m{\u001b[0m\u001b[0;34m'Feature0'\u001b[0m\u001b[0;34m:\u001b[0m \u001b[0mX_test\u001b[0m\u001b[0;34m[\u001b[0m\u001b[0;34m:\u001b[0m\u001b[0;34m,\u001b[0m \u001b[0;36m0\u001b[0m\u001b[0;34m]\u001b[0m\u001b[0;34m,\u001b[0m \u001b[0;34m'Feature1'\u001b[0m\u001b[0;34m:\u001b[0m \u001b[0mX_test\u001b[0m\u001b[0;34m[\u001b[0m\u001b[0;34m:\u001b[0m\u001b[0;34m,\u001b[0m \u001b[0;36m1\u001b[0m\u001b[0;34m]\u001b[0m\u001b[0;34m,\u001b[0m \u001b[0;34m'Feature2'\u001b[0m\u001b[0;34m:\u001b[0m \u001b[0mX_test\u001b[0m\u001b[0;34m[\u001b[0m\u001b[0;34m:\u001b[0m\u001b[0;34m,\u001b[0m \u001b[0;36m2\u001b[0m\u001b[0;34m]\u001b[0m\u001b[0;34m,\u001b[0m \u001b[0;34m'Class'\u001b[0m\u001b[0;34m:\u001b[0m \u001b[0my_test\u001b[0m\u001b[0;34m,\u001b[0m \u001b[0;34m'Dataset'\u001b[0m\u001b[0;34m:\u001b[0m \u001b[0;34m'Testing'\u001b[0m\u001b[0;34m}\u001b[0m\u001b[0;34m)\u001b[0m\u001b[0;34m\u001b[0m\u001b[0;34m\u001b[0m\u001b[0m\n\u001b[1;32m     11\u001b[0m \u001b[0;34m\u001b[0m\u001b[0m\n",
            "\u001b[0;31mIndexError\u001b[0m: index 2 is out of bounds for axis 1 with size 2"
          ]
        }
      ]
    },
    {
      "cell_type": "code",
      "source": [
        "from sklearn.decomposition import PCA\n",
        "\n",
        "# initialize PCA\n",
        "pca = PCA(n_components=160)\n",
        "\n",
        "# fit and transform the data\n",
        "X_train = pca.fit_transform(X_train)\n",
        "\n",
        "# initialize PCA\n",
        "pca = PCA(n_components=160)\n",
        "\n",
        "# fit and transform the data\n",
        "X_test = pca.fit_transform(X_test)\n"
      ],
      "metadata": {
        "id": "_liQ3TuQ-0Nb",
        "colab": {
          "base_uri": "https://localhost:8080/",
          "height": 356
        },
        "outputId": "83af9ce8-86c5-4dc3-e245-9af8488cc60b"
      },
      "execution_count": null,
      "outputs": [
        {
          "output_type": "error",
          "ename": "ValueError",
          "evalue": "ignored",
          "traceback": [
            "\u001b[0;31m---------------------------------------------------------------------------\u001b[0m",
            "\u001b[0;31mValueError\u001b[0m                                Traceback (most recent call last)",
            "\u001b[0;32m<ipython-input-191-aba5687dac45>\u001b[0m in \u001b[0;36m<cell line: 13>\u001b[0;34m()\u001b[0m\n\u001b[1;32m     11\u001b[0m \u001b[0;34m\u001b[0m\u001b[0m\n\u001b[1;32m     12\u001b[0m \u001b[0;31m# fit and transform the data\u001b[0m\u001b[0;34m\u001b[0m\u001b[0;34m\u001b[0m\u001b[0m\n\u001b[0;32m---> 13\u001b[0;31m \u001b[0mX_test\u001b[0m \u001b[0;34m=\u001b[0m \u001b[0mpca\u001b[0m\u001b[0;34m.\u001b[0m\u001b[0mfit_transform\u001b[0m\u001b[0;34m(\u001b[0m\u001b[0mX_test\u001b[0m\u001b[0;34m)\u001b[0m\u001b[0;34m\u001b[0m\u001b[0;34m\u001b[0m\u001b[0m\n\u001b[0m",
            "\u001b[0;32m/usr/local/lib/python3.10/dist-packages/sklearn/utils/_set_output.py\u001b[0m in \u001b[0;36mwrapped\u001b[0;34m(self, X, *args, **kwargs)\u001b[0m\n\u001b[1;32m    138\u001b[0m     \u001b[0;34m@\u001b[0m\u001b[0mwraps\u001b[0m\u001b[0;34m(\u001b[0m\u001b[0mf\u001b[0m\u001b[0;34m)\u001b[0m\u001b[0;34m\u001b[0m\u001b[0;34m\u001b[0m\u001b[0m\n\u001b[1;32m    139\u001b[0m     \u001b[0;32mdef\u001b[0m \u001b[0mwrapped\u001b[0m\u001b[0;34m(\u001b[0m\u001b[0mself\u001b[0m\u001b[0;34m,\u001b[0m \u001b[0mX\u001b[0m\u001b[0;34m,\u001b[0m \u001b[0;34m*\u001b[0m\u001b[0margs\u001b[0m\u001b[0;34m,\u001b[0m \u001b[0;34m**\u001b[0m\u001b[0mkwargs\u001b[0m\u001b[0;34m)\u001b[0m\u001b[0;34m:\u001b[0m\u001b[0;34m\u001b[0m\u001b[0;34m\u001b[0m\u001b[0m\n\u001b[0;32m--> 140\u001b[0;31m         \u001b[0mdata_to_wrap\u001b[0m \u001b[0;34m=\u001b[0m \u001b[0mf\u001b[0m\u001b[0;34m(\u001b[0m\u001b[0mself\u001b[0m\u001b[0;34m,\u001b[0m \u001b[0mX\u001b[0m\u001b[0;34m,\u001b[0m \u001b[0;34m*\u001b[0m\u001b[0margs\u001b[0m\u001b[0;34m,\u001b[0m \u001b[0;34m**\u001b[0m\u001b[0mkwargs\u001b[0m\u001b[0;34m)\u001b[0m\u001b[0;34m\u001b[0m\u001b[0;34m\u001b[0m\u001b[0m\n\u001b[0m\u001b[1;32m    141\u001b[0m         \u001b[0;32mif\u001b[0m \u001b[0misinstance\u001b[0m\u001b[0;34m(\u001b[0m\u001b[0mdata_to_wrap\u001b[0m\u001b[0;34m,\u001b[0m \u001b[0mtuple\u001b[0m\u001b[0;34m)\u001b[0m\u001b[0;34m:\u001b[0m\u001b[0;34m\u001b[0m\u001b[0;34m\u001b[0m\u001b[0m\n\u001b[1;32m    142\u001b[0m             \u001b[0;31m# only wrap the first output for cross decomposition\u001b[0m\u001b[0;34m\u001b[0m\u001b[0;34m\u001b[0m\u001b[0m\n",
            "\u001b[0;32m/usr/local/lib/python3.10/dist-packages/sklearn/decomposition/_pca.py\u001b[0m in \u001b[0;36mfit_transform\u001b[0;34m(self, X, y)\u001b[0m\n\u001b[1;32m    460\u001b[0m         \u001b[0mself\u001b[0m\u001b[0;34m.\u001b[0m\u001b[0m_validate_params\u001b[0m\u001b[0;34m(\u001b[0m\u001b[0;34m)\u001b[0m\u001b[0;34m\u001b[0m\u001b[0;34m\u001b[0m\u001b[0m\n\u001b[1;32m    461\u001b[0m \u001b[0;34m\u001b[0m\u001b[0m\n\u001b[0;32m--> 462\u001b[0;31m         \u001b[0mU\u001b[0m\u001b[0;34m,\u001b[0m \u001b[0mS\u001b[0m\u001b[0;34m,\u001b[0m \u001b[0mVt\u001b[0m \u001b[0;34m=\u001b[0m \u001b[0mself\u001b[0m\u001b[0;34m.\u001b[0m\u001b[0m_fit\u001b[0m\u001b[0;34m(\u001b[0m\u001b[0mX\u001b[0m\u001b[0;34m)\u001b[0m\u001b[0;34m\u001b[0m\u001b[0;34m\u001b[0m\u001b[0m\n\u001b[0m\u001b[1;32m    463\u001b[0m         \u001b[0mU\u001b[0m \u001b[0;34m=\u001b[0m \u001b[0mU\u001b[0m\u001b[0;34m[\u001b[0m\u001b[0;34m:\u001b[0m\u001b[0;34m,\u001b[0m \u001b[0;34m:\u001b[0m \u001b[0mself\u001b[0m\u001b[0;34m.\u001b[0m\u001b[0mn_components_\u001b[0m\u001b[0;34m]\u001b[0m\u001b[0;34m\u001b[0m\u001b[0;34m\u001b[0m\u001b[0m\n\u001b[1;32m    464\u001b[0m \u001b[0;34m\u001b[0m\u001b[0m\n",
            "\u001b[0;32m/usr/local/lib/python3.10/dist-packages/sklearn/decomposition/_pca.py\u001b[0m in \u001b[0;36m_fit\u001b[0;34m(self, X)\u001b[0m\n\u001b[1;32m    510\u001b[0m         \u001b[0;31m# Call different fits for either full or truncated SVD\u001b[0m\u001b[0;34m\u001b[0m\u001b[0;34m\u001b[0m\u001b[0m\n\u001b[1;32m    511\u001b[0m         \u001b[0;32mif\u001b[0m \u001b[0mself\u001b[0m\u001b[0;34m.\u001b[0m\u001b[0m_fit_svd_solver\u001b[0m \u001b[0;34m==\u001b[0m \u001b[0;34m\"full\"\u001b[0m\u001b[0;34m:\u001b[0m\u001b[0;34m\u001b[0m\u001b[0;34m\u001b[0m\u001b[0m\n\u001b[0;32m--> 512\u001b[0;31m             \u001b[0;32mreturn\u001b[0m \u001b[0mself\u001b[0m\u001b[0;34m.\u001b[0m\u001b[0m_fit_full\u001b[0m\u001b[0;34m(\u001b[0m\u001b[0mX\u001b[0m\u001b[0;34m,\u001b[0m \u001b[0mn_components\u001b[0m\u001b[0;34m)\u001b[0m\u001b[0;34m\u001b[0m\u001b[0;34m\u001b[0m\u001b[0m\n\u001b[0m\u001b[1;32m    513\u001b[0m         \u001b[0;32melif\u001b[0m \u001b[0mself\u001b[0m\u001b[0;34m.\u001b[0m\u001b[0m_fit_svd_solver\u001b[0m \u001b[0;32min\u001b[0m \u001b[0;34m[\u001b[0m\u001b[0;34m\"arpack\"\u001b[0m\u001b[0;34m,\u001b[0m \u001b[0;34m\"randomized\"\u001b[0m\u001b[0;34m]\u001b[0m\u001b[0;34m:\u001b[0m\u001b[0;34m\u001b[0m\u001b[0;34m\u001b[0m\u001b[0m\n\u001b[1;32m    514\u001b[0m             \u001b[0;32mreturn\u001b[0m \u001b[0mself\u001b[0m\u001b[0;34m.\u001b[0m\u001b[0m_fit_truncated\u001b[0m\u001b[0;34m(\u001b[0m\u001b[0mX\u001b[0m\u001b[0;34m,\u001b[0m \u001b[0mn_components\u001b[0m\u001b[0;34m,\u001b[0m \u001b[0mself\u001b[0m\u001b[0;34m.\u001b[0m\u001b[0m_fit_svd_solver\u001b[0m\u001b[0;34m)\u001b[0m\u001b[0;34m\u001b[0m\u001b[0;34m\u001b[0m\u001b[0m\n",
            "\u001b[0;32m/usr/local/lib/python3.10/dist-packages/sklearn/decomposition/_pca.py\u001b[0m in \u001b[0;36m_fit_full\u001b[0;34m(self, X, n_components)\u001b[0m\n\u001b[1;32m    524\u001b[0m                 )\n\u001b[1;32m    525\u001b[0m         \u001b[0;32melif\u001b[0m \u001b[0;32mnot\u001b[0m \u001b[0;36m0\u001b[0m \u001b[0;34m<=\u001b[0m \u001b[0mn_components\u001b[0m \u001b[0;34m<=\u001b[0m \u001b[0mmin\u001b[0m\u001b[0;34m(\u001b[0m\u001b[0mn_samples\u001b[0m\u001b[0;34m,\u001b[0m \u001b[0mn_features\u001b[0m\u001b[0;34m)\u001b[0m\u001b[0;34m:\u001b[0m\u001b[0;34m\u001b[0m\u001b[0;34m\u001b[0m\u001b[0m\n\u001b[0;32m--> 526\u001b[0;31m             raise ValueError(\n\u001b[0m\u001b[1;32m    527\u001b[0m                 \u001b[0;34m\"n_components=%r must be between 0 and \"\u001b[0m\u001b[0;34m\u001b[0m\u001b[0;34m\u001b[0m\u001b[0m\n\u001b[1;32m    528\u001b[0m                 \u001b[0;34m\"min(n_samples, n_features)=%r with \"\u001b[0m\u001b[0;34m\u001b[0m\u001b[0;34m\u001b[0m\u001b[0m\n",
            "\u001b[0;31mValueError\u001b[0m: n_components=160 must be between 0 and min(n_samples, n_features)=23 with svd_solver='full'"
          ]
        }
      ]
    },
    {
      "cell_type": "code",
      "source": [
        "!pip install qiskit"
      ],
      "metadata": {
        "colab": {
          "base_uri": "https://localhost:8080/"
        },
        "id": "Mz3eY20d6C07",
        "outputId": "e338e6a6-f118-466d-9bb9-0f27f64d6806"
      },
      "execution_count": null,
      "outputs": [
        {
          "output_type": "stream",
          "name": "stdout",
          "text": [
            "Requirement already satisfied: qiskit in /usr/local/lib/python3.10/dist-packages (0.44.1)\n",
            "Requirement already satisfied: qiskit-terra==0.25.1 in /usr/local/lib/python3.10/dist-packages (from qiskit) (0.25.1)\n",
            "Requirement already satisfied: rustworkx>=0.13.0 in /usr/local/lib/python3.10/dist-packages (from qiskit-terra==0.25.1->qiskit) (0.13.1)\n",
            "Requirement already satisfied: numpy>=1.17 in /usr/local/lib/python3.10/dist-packages (from qiskit-terra==0.25.1->qiskit) (1.23.5)\n",
            "Requirement already satisfied: ply>=3.10 in /usr/local/lib/python3.10/dist-packages (from qiskit-terra==0.25.1->qiskit) (3.11)\n",
            "Requirement already satisfied: psutil>=5 in /usr/local/lib/python3.10/dist-packages (from qiskit-terra==0.25.1->qiskit) (5.9.5)\n",
            "Requirement already satisfied: scipy>=1.5 in /usr/local/lib/python3.10/dist-packages (from qiskit-terra==0.25.1->qiskit) (1.11.2)\n",
            "Requirement already satisfied: sympy>=1.3 in /usr/local/lib/python3.10/dist-packages (from qiskit-terra==0.25.1->qiskit) (1.12)\n",
            "Requirement already satisfied: dill>=0.3 in /usr/local/lib/python3.10/dist-packages (from qiskit-terra==0.25.1->qiskit) (0.3.7)\n",
            "Requirement already satisfied: python-dateutil>=2.8.0 in /usr/local/lib/python3.10/dist-packages (from qiskit-terra==0.25.1->qiskit) (2.8.2)\n",
            "Requirement already satisfied: stevedore>=3.0.0 in /usr/local/lib/python3.10/dist-packages (from qiskit-terra==0.25.1->qiskit) (5.1.0)\n",
            "Requirement already satisfied: symengine<0.10,>=0.9 in /usr/local/lib/python3.10/dist-packages (from qiskit-terra==0.25.1->qiskit) (0.9.2)\n",
            "Requirement already satisfied: typing-extensions in /usr/local/lib/python3.10/dist-packages (from qiskit-terra==0.25.1->qiskit) (4.5.0)\n",
            "Requirement already satisfied: six>=1.5 in /usr/local/lib/python3.10/dist-packages (from python-dateutil>=2.8.0->qiskit-terra==0.25.1->qiskit) (1.16.0)\n",
            "Requirement already satisfied: pbr!=2.1.0,>=2.0.0 in /usr/local/lib/python3.10/dist-packages (from stevedore>=3.0.0->qiskit-terra==0.25.1->qiskit) (5.11.1)\n",
            "Requirement already satisfied: mpmath>=0.19 in /usr/local/lib/python3.10/dist-packages (from sympy>=1.3->qiskit-terra==0.25.1->qiskit) (1.3.0)\n"
          ]
        }
      ]
    },
    {
      "cell_type": "code",
      "source": [
        "!pip install qiskit_machine_learning"
      ],
      "metadata": {
        "id": "72TvP8Ll6HzM",
        "colab": {
          "base_uri": "https://localhost:8080/"
        },
        "outputId": "1e46d282-8b64-4b8d-989d-59eb97df4863"
      },
      "execution_count": null,
      "outputs": [
        {
          "output_type": "stream",
          "name": "stdout",
          "text": [
            "Collecting qiskit_machine_learning\n",
            "  Downloading qiskit_machine_learning-0.6.1-py3-none-any.whl (148 kB)\n",
            "\u001b[2K     \u001b[90m━━━━━━━━━━━━━━━━━━━━━━━━━━━━━━━━━━━━━━━\u001b[0m \u001b[32m148.7/148.7 kB\u001b[0m \u001b[31m3.3 MB/s\u001b[0m eta \u001b[36m0:00:00\u001b[0m\n",
            "\u001b[?25hRequirement already satisfied: qiskit-terra>=0.22.2 in /usr/local/lib/python3.10/dist-packages (from qiskit_machine_learning) (0.25.1)\n",
            "Requirement already satisfied: scipy>=1.4 in /usr/local/lib/python3.10/dist-packages (from qiskit_machine_learning) (1.11.2)\n",
            "Requirement already satisfied: numpy>=1.17 in /usr/local/lib/python3.10/dist-packages (from qiskit_machine_learning) (1.23.5)\n",
            "Requirement already satisfied: psutil>=5 in /usr/local/lib/python3.10/dist-packages (from qiskit_machine_learning) (5.9.5)\n",
            "Requirement already satisfied: scikit-learn>=0.20.0 in /usr/local/lib/python3.10/dist-packages (from qiskit_machine_learning) (1.2.2)\n",
            "Collecting fastdtw (from qiskit_machine_learning)\n",
            "  Downloading fastdtw-0.3.4.tar.gz (133 kB)\n",
            "\u001b[2K     \u001b[90m━━━━━━━━━━━━━━━━━━━━━━━━━━━━━━━━━━━━━━\u001b[0m \u001b[32m133.4/133.4 kB\u001b[0m \u001b[31m15.0 MB/s\u001b[0m eta \u001b[36m0:00:00\u001b[0m\n",
            "\u001b[?25h  Preparing metadata (setup.py) ... \u001b[?25l\u001b[?25hdone\n",
            "Requirement already satisfied: setuptools>=40.1.0 in /usr/local/lib/python3.10/dist-packages (from qiskit_machine_learning) (67.7.2)\n",
            "Requirement already satisfied: dill>=0.3.4 in /usr/local/lib/python3.10/dist-packages (from qiskit_machine_learning) (0.3.7)\n",
            "Requirement already satisfied: rustworkx>=0.13.0 in /usr/local/lib/python3.10/dist-packages (from qiskit-terra>=0.22.2->qiskit_machine_learning) (0.13.1)\n",
            "Requirement already satisfied: ply>=3.10 in /usr/local/lib/python3.10/dist-packages (from qiskit-terra>=0.22.2->qiskit_machine_learning) (3.11)\n",
            "Requirement already satisfied: sympy>=1.3 in /usr/local/lib/python3.10/dist-packages (from qiskit-terra>=0.22.2->qiskit_machine_learning) (1.12)\n",
            "Requirement already satisfied: python-dateutil>=2.8.0 in /usr/local/lib/python3.10/dist-packages (from qiskit-terra>=0.22.2->qiskit_machine_learning) (2.8.2)\n",
            "Requirement already satisfied: stevedore>=3.0.0 in /usr/local/lib/python3.10/dist-packages (from qiskit-terra>=0.22.2->qiskit_machine_learning) (5.1.0)\n",
            "Requirement already satisfied: symengine<0.10,>=0.9 in /usr/local/lib/python3.10/dist-packages (from qiskit-terra>=0.22.2->qiskit_machine_learning) (0.9.2)\n",
            "Requirement already satisfied: typing-extensions in /usr/local/lib/python3.10/dist-packages (from qiskit-terra>=0.22.2->qiskit_machine_learning) (4.5.0)\n",
            "Requirement already satisfied: joblib>=1.1.1 in /usr/local/lib/python3.10/dist-packages (from scikit-learn>=0.20.0->qiskit_machine_learning) (1.3.2)\n",
            "Requirement already satisfied: threadpoolctl>=2.0.0 in /usr/local/lib/python3.10/dist-packages (from scikit-learn>=0.20.0->qiskit_machine_learning) (3.2.0)\n",
            "Requirement already satisfied: six>=1.5 in /usr/local/lib/python3.10/dist-packages (from python-dateutil>=2.8.0->qiskit-terra>=0.22.2->qiskit_machine_learning) (1.16.0)\n",
            "Requirement already satisfied: pbr!=2.1.0,>=2.0.0 in /usr/local/lib/python3.10/dist-packages (from stevedore>=3.0.0->qiskit-terra>=0.22.2->qiskit_machine_learning) (5.11.1)\n",
            "Requirement already satisfied: mpmath>=0.19 in /usr/local/lib/python3.10/dist-packages (from sympy>=1.3->qiskit-terra>=0.22.2->qiskit_machine_learning) (1.3.0)\n",
            "Building wheels for collected packages: fastdtw\n",
            "  Building wheel for fastdtw (setup.py) ... \u001b[?25l\u001b[?25hdone\n",
            "  Created wheel for fastdtw: filename=fastdtw-0.3.4-cp310-cp310-linux_x86_64.whl size=512710 sha256=b1ed1148f13cba8004cd1d0b13a11e7327e3a255d11a53e344f0566ace36b6fc\n",
            "  Stored in directory: /root/.cache/pip/wheels/73/c8/f7/c25448dab74c3acf4848bc25d513c736bb93910277e1528ef4\n",
            "Successfully built fastdtw\n",
            "Installing collected packages: fastdtw, qiskit_machine_learning\n",
            "Successfully installed fastdtw-0.3.4 qiskit_machine_learning-0.6.1\n"
          ]
        }
      ]
    },
    {
      "cell_type": "code",
      "source": [
        "!pip install qiskit_algorithms"
      ],
      "metadata": {
        "id": "8mHDgomB6Z_2",
        "colab": {
          "base_uri": "https://localhost:8080/"
        },
        "outputId": "bfef961b-0dc2-4b42-84fc-d0a4b85d8e93"
      },
      "execution_count": null,
      "outputs": [
        {
          "output_type": "stream",
          "name": "stdout",
          "text": [
            "Collecting qiskit_algorithms\n",
            "  Downloading qiskit_algorithms-0.2.0-py3-none-any.whl (307 kB)\n",
            "\u001b[2K     \u001b[90m━━━━━━━━━━━━━━━━━━━━━━━━━━━━━━━━━━━━━━━\u001b[0m \u001b[32m307.1/307.1 kB\u001b[0m \u001b[31m4.3 MB/s\u001b[0m eta \u001b[36m0:00:00\u001b[0m\n",
            "\u001b[?25hRequirement already satisfied: qiskit-terra>=0.24 in /usr/local/lib/python3.10/dist-packages (from qiskit_algorithms) (0.25.1)\n",
            "Requirement already satisfied: scipy>=1.4 in /usr/local/lib/python3.10/dist-packages (from qiskit_algorithms) (1.11.2)\n",
            "Requirement already satisfied: numpy>=1.17 in /usr/local/lib/python3.10/dist-packages (from qiskit_algorithms) (1.23.5)\n",
            "Requirement already satisfied: rustworkx>=0.13.0 in /usr/local/lib/python3.10/dist-packages (from qiskit-terra>=0.24->qiskit_algorithms) (0.13.1)\n",
            "Requirement already satisfied: ply>=3.10 in /usr/local/lib/python3.10/dist-packages (from qiskit-terra>=0.24->qiskit_algorithms) (3.11)\n",
            "Requirement already satisfied: psutil>=5 in /usr/local/lib/python3.10/dist-packages (from qiskit-terra>=0.24->qiskit_algorithms) (5.9.5)\n",
            "Requirement already satisfied: sympy>=1.3 in /usr/local/lib/python3.10/dist-packages (from qiskit-terra>=0.24->qiskit_algorithms) (1.12)\n",
            "Requirement already satisfied: dill>=0.3 in /usr/local/lib/python3.10/dist-packages (from qiskit-terra>=0.24->qiskit_algorithms) (0.3.7)\n",
            "Requirement already satisfied: python-dateutil>=2.8.0 in /usr/local/lib/python3.10/dist-packages (from qiskit-terra>=0.24->qiskit_algorithms) (2.8.2)\n",
            "Requirement already satisfied: stevedore>=3.0.0 in /usr/local/lib/python3.10/dist-packages (from qiskit-terra>=0.24->qiskit_algorithms) (5.1.0)\n",
            "Requirement already satisfied: symengine<0.10,>=0.9 in /usr/local/lib/python3.10/dist-packages (from qiskit-terra>=0.24->qiskit_algorithms) (0.9.2)\n",
            "Requirement already satisfied: typing-extensions in /usr/local/lib/python3.10/dist-packages (from qiskit-terra>=0.24->qiskit_algorithms) (4.5.0)\n",
            "Requirement already satisfied: six>=1.5 in /usr/local/lib/python3.10/dist-packages (from python-dateutil>=2.8.0->qiskit-terra>=0.24->qiskit_algorithms) (1.16.0)\n",
            "Requirement already satisfied: pbr!=2.1.0,>=2.0.0 in /usr/local/lib/python3.10/dist-packages (from stevedore>=3.0.0->qiskit-terra>=0.24->qiskit_algorithms) (5.11.1)\n",
            "Requirement already satisfied: mpmath>=0.19 in /usr/local/lib/python3.10/dist-packages (from sympy>=1.3->qiskit-terra>=0.24->qiskit_algorithms) (1.3.0)\n",
            "Installing collected packages: qiskit_algorithms\n",
            "Successfully installed qiskit_algorithms-0.2.0\n"
          ]
        }
      ]
    },
    {
      "cell_type": "code",
      "source": [
        "import matplotlib.pyplot as plt\n",
        "import numpy as np\n",
        "from IPython.display import clear_output\n",
        "from qiskit import QuantumCircuit\n",
        "from qiskit_algorithms.optimizers import COBYLA, L_BFGS_B\n",
        "from qiskit.circuit import Parameter\n",
        "from qiskit.circuit.library import RealAmplitudes, ZZFeatureMap\n",
        "from qiskit.utils import algorithm_globals\n",
        "\n",
        "from qiskit_machine_learning.algorithms.classifiers import NeuralNetworkClassifier, VQC\n",
        "from qiskit_machine_learning.algorithms.regressors import NeuralNetworkRegressor, VQR\n",
        "from qiskit_machine_learning.neural_networks import SamplerQNN, EstimatorQNN\n",
        "\n",
        "algorithm_globals.random_seed = 42"
      ],
      "metadata": {
        "id": "6LrZVrj7EJAZ"
      },
      "execution_count": null,
      "outputs": []
    },
    {
      "cell_type": "markdown",
      "source": [
        "## try all 3 classifiers a)VQC b) Estimator QNN or Sampler QNN c) QSVC"
      ],
      "metadata": {
        "id": "FNNbkEohActg"
      }
    },
    {
      "cell_type": "markdown",
      "source": [
        "## vqc"
      ],
      "metadata": {
        "id": "JDhhm6P1CbnH"
      }
    },
    {
      "cell_type": "code",
      "source": [
        "num_inputs=3"
      ],
      "metadata": {
        "id": "ZGN5aOFb6k3M"
      },
      "execution_count": null,
      "outputs": []
    },
    {
      "cell_type": "code",
      "source": [
        "# construct feature map, ansatz, and optimizer\n",
        "feature_map = ZZFeatureMap(num_inputs)\n",
        "ansatz = RealAmplitudes(num_inputs, reps=2)"
      ],
      "metadata": {
        "id": "8fYQBzcQDD2r"
      },
      "execution_count": null,
      "outputs": []
    },
    {
      "cell_type": "code",
      "source": [
        "# Make the labels in this format\n",
        "y_cat_train = np.empty(y_train.shape, dtype=str)\n",
        "y_cat_train[y_train == 0] = \"A\"\n",
        "y_cat_train[y_train == 1] = \"B\"\n",
        "y_cat_train[y_train == 2] = \"C\"\n",
        "# print(y_cat)\n",
        "\n",
        "# doiing same thing with test labels also\n",
        "# Make the labels in this format\n",
        "y_cat_test = np.empty(y_test.shape, dtype=str)\n",
        "y_cat_test[y_test == 0] = \"A\"\n",
        "y_cat_test[y_test == 1] = \"B\"\n",
        "y_cat_test[y_test == 2] = \"C\"\n",
        "# print(y_cat)"
      ],
      "metadata": {
        "id": "WGCAqR8X_lrb"
      },
      "execution_count": null,
      "outputs": []
    },
    {
      "cell_type": "code",
      "source": [
        "X_test.shape"
      ],
      "metadata": {
        "colab": {
          "base_uri": "https://localhost:8080/"
        },
        "id": "UuuWIr1y7DyN",
        "outputId": "1a7e3f3f-2532-4b83-9df6-e548dba245a5"
      },
      "execution_count": null,
      "outputs": [
        {
          "output_type": "execute_result",
          "data": {
            "text/plain": [
              "(320, 3)"
            ]
          },
          "metadata": {},
          "execution_count": 37
        }
      ]
    },
    {
      "cell_type": "code",
      "source": [
        "# callback function that draws a live plot when the .fit() method is called\n",
        "def callback_graph(weights, obj_func_eval):\n",
        "    clear_output(wait=True)\n",
        "    objective_func_vals.append(obj_func_eval)\n",
        "    plt.title(\"Objective function value against iteration\")\n",
        "    plt.xlabel(\"Iteration\")\n",
        "    plt.ylabel(\"Objective function value\")\n",
        "    plt.plot(range(len(objective_func_vals)), objective_func_vals)\n",
        "    plt.show()"
      ],
      "metadata": {
        "id": "uoiVXuGJ8KyC"
      },
      "execution_count": null,
      "outputs": []
    },
    {
      "cell_type": "code",
      "source": [
        "vqc = VQC(\n",
        "    feature_map=feature_map,\n",
        "    ansatz=ansatz,\n",
        "    loss=\"cross_entropy\",\n",
        "    optimizer=COBYLA(maxiter=100),\n",
        "    callback=callback_graph,\n",
        ")"
      ],
      "metadata": {
        "id": "G8x7jaj8DC9k"
      },
      "execution_count": null,
      "outputs": []
    },
    {
      "cell_type": "code",
      "source": [
        "# cls=SVC(gamma=2, C=1)\n",
        "from sklearn.ensemble import AdaBoostClassifier, RandomForestClassifier\n",
        "from sklearn.svm import SVC\n",
        "from sklearn.ensemble import GradientBoostingClassifier\n",
        "cls=SVC()"
      ],
      "metadata": {
        "id": "89Wz4_IJR9KK"
      },
      "execution_count": null,
      "outputs": []
    },
    {
      "cell_type": "code",
      "source": [
        "cls.fit(X_train,y_train)\n",
        "print(cls.score(X_test,y_test))"
      ],
      "metadata": {
        "colab": {
          "base_uri": "https://localhost:8080/"
        },
        "id": "USwgh9i3SBwF",
        "outputId": "d701c896-8729-4513-a5cb-98312108043b"
      },
      "execution_count": null,
      "outputs": [
        {
          "output_type": "stream",
          "name": "stdout",
          "text": [
            "0.971875\n"
          ]
        }
      ]
    },
    {
      "cell_type": "code",
      "source": [
        "# number of qubits is equal to the number of features\n",
        "num_qubits = 2\n",
        "\n",
        "# number of steps performed during the training procedure\n",
        "tau = 100\n",
        "\n",
        "# regularization parameter\n",
        "C = 1000\n",
        "# code for pegasos\n",
        "from qiskit import BasicAer\n",
        "from qiskit.circuit.library import ZFeatureMap\n",
        "from qiskit.utils import algorithm_globals\n",
        "from qiskit_machine_learning.algorithms import PegasosQSVC\n",
        "from qiskit_machine_learning.kernels import FidelityQuantumKernel\n",
        "\n",
        "algorithm_globals.random_seed = 12345\n",
        "\n",
        "feature_map = ZFeatureMap(feature_dimension=num_qubits, reps=1)\n",
        "\n",
        "qkernel = FidelityQuantumKernel(feature_map=feature_map)\n",
        "\n",
        "\n",
        "\n",
        "pegasos_qsvc = PegasosQSVC(quantum_kernel=qkernel, C=C, num_steps=tau)\n",
        "\n",
        "# training\n",
        "pegasos_qsvc.fit(X_train, y_train)\n",
        "\n",
        "# testing\n",
        "pegasos_score = pegasos_qsvc.score(X_test, y_test)\n",
        "print(f\"PegasosQSVC classification test score: {pegasos_score}\")"
      ],
      "metadata": {
        "id": "It_qGJezCFwG",
        "colab": {
          "base_uri": "https://localhost:8080/"
        },
        "outputId": "f2f570c8-00e7-477c-9b50-0fd7a77367e5"
      },
      "execution_count": null,
      "outputs": [
        {
          "output_type": "stream",
          "name": "stdout",
          "text": [
            "PegasosQSVC classification test score: 0.5333333333333333\n"
          ]
        }
      ]
    },
    {
      "cell_type": "code",
      "source": [
        "X_train[:30]"
      ],
      "metadata": {
        "id": "AZ1dh_AcF5yp"
      },
      "execution_count": null,
      "outputs": []
    },
    {
      "cell_type": "code",
      "source": [
        "# code for quantum kernel with svc\n",
        "from qiskit.circuit.library import ZZFeatureMap\n",
        "from qiskit.primitives import Sampler\n",
        "from qiskit.algorithms.state_fidelities import ComputeUncompute\n",
        "from qiskit_machine_learning.kernels import FidelityQuantumKernel\n",
        "\n",
        "feature_map = ZZFeatureMap(feature_dimension=3, reps=2, entanglement=\"linear\")\n",
        "\n",
        "sampler = Sampler()\n",
        "\n",
        "fidelity = ComputeUncompute(sampler=sampler)\n",
        "\n",
        "adhoc_kernel = FidelityQuantumKernel(fidelity=fidelity, feature_map=feature_map)\n",
        "\n",
        "from sklearn.svm import SVC\n",
        "\n",
        "adhoc_svc = SVC(kernel=adhoc_kernel.evaluate)\n",
        "\n",
        "adhoc_svc.fit(X_train, y_train)\n",
        "\n",
        "adhoc_score_callable_function = adhoc_svc.score(X_test, y_test)\n",
        "\n",
        "print(f\"Callable kernel classification test score: {adhoc_score_callable_function}\")"
      ],
      "metadata": {
        "colab": {
          "base_uri": "https://localhost:8080/",
          "height": 304
        },
        "id": "AVGS_YaqFgpa",
        "outputId": "e43df314-35a6-4d11-b7a0-c2da69c668f2"
      },
      "execution_count": null,
      "outputs": [
        {
          "output_type": "error",
          "ename": "KeyboardInterrupt",
          "evalue": "ignored",
          "traceback": [
            "\u001b[0;31m---------------------------------------------------------------------------\u001b[0m",
            "\u001b[0;31mKeyboardInterrupt\u001b[0m                         Traceback (most recent call last)",
            "\u001b[0;32m<ipython-input-83-faceb76717b2>\u001b[0m in \u001b[0;36m<cell line: 19>\u001b[0;34m()\u001b[0m\n\u001b[1;32m     17\u001b[0m \u001b[0madhoc_svc\u001b[0m \u001b[0;34m=\u001b[0m \u001b[0mSVC\u001b[0m\u001b[0;34m(\u001b[0m\u001b[0mkernel\u001b[0m\u001b[0;34m=\u001b[0m\u001b[0madhoc_kernel\u001b[0m\u001b[0;34m.\u001b[0m\u001b[0mevaluate\u001b[0m\u001b[0;34m)\u001b[0m\u001b[0;34m\u001b[0m\u001b[0;34m\u001b[0m\u001b[0m\n\u001b[1;32m     18\u001b[0m \u001b[0;34m\u001b[0m\u001b[0m\n\u001b[0;32m---> 19\u001b[0;31m \u001b[0madhoc_svc\u001b[0m\u001b[0;34m.\u001b[0m\u001b[0mfit\u001b[0m\u001b[0;34m(\u001b[0m\u001b[0mX_train\u001b[0m\u001b[0;34m,\u001b[0m \u001b[0my_train\u001b[0m\u001b[0;34m)\u001b[0m\u001b[0;34m\u001b[0m\u001b[0;34m\u001b[0m\u001b[0m\n\u001b[0m\u001b[1;32m     20\u001b[0m \u001b[0;34m\u001b[0m\u001b[0m\n\u001b[1;32m     21\u001b[0m \u001b[0madhoc_score_callable_function\u001b[0m \u001b[0;34m=\u001b[0m \u001b[0madhoc_svc\u001b[0m\u001b[0;34m.\u001b[0m\u001b[0mscore\u001b[0m\u001b[0;34m(\u001b[0m\u001b[0mX_test\u001b[0m\u001b[0;34m,\u001b[0m \u001b[0my_test\u001b[0m\u001b[0;34m)\u001b[0m\u001b[0;34m\u001b[0m\u001b[0;34m\u001b[0m\u001b[0m\n",
            "\u001b[0;32m/usr/local/lib/python3.10/dist-packages/sklearn/svm/_base.py\u001b[0m in \u001b[0;36mfit\u001b[0;34m(self, X, y, sample_weight)\u001b[0m\n\u001b[1;32m    250\u001b[0m \u001b[0;34m\u001b[0m\u001b[0m\n\u001b[1;32m    251\u001b[0m         \u001b[0mseed\u001b[0m \u001b[0;34m=\u001b[0m \u001b[0mrnd\u001b[0m\u001b[0;34m.\u001b[0m\u001b[0mrandint\u001b[0m\u001b[0;34m(\u001b[0m\u001b[0mnp\u001b[0m\u001b[0;34m.\u001b[0m\u001b[0miinfo\u001b[0m\u001b[0;34m(\u001b[0m\u001b[0;34m\"i\"\u001b[0m\u001b[0;34m)\u001b[0m\u001b[0;34m.\u001b[0m\u001b[0mmax\u001b[0m\u001b[0;34m)\u001b[0m\u001b[0;34m\u001b[0m\u001b[0;34m\u001b[0m\u001b[0m\n\u001b[0;32m--> 252\u001b[0;31m         \u001b[0mfit\u001b[0m\u001b[0;34m(\u001b[0m\u001b[0mX\u001b[0m\u001b[0;34m,\u001b[0m \u001b[0my\u001b[0m\u001b[0;34m,\u001b[0m \u001b[0msample_weight\u001b[0m\u001b[0;34m,\u001b[0m \u001b[0msolver_type\u001b[0m\u001b[0;34m,\u001b[0m \u001b[0mkernel\u001b[0m\u001b[0;34m,\u001b[0m \u001b[0mrandom_seed\u001b[0m\u001b[0;34m=\u001b[0m\u001b[0mseed\u001b[0m\u001b[0;34m)\u001b[0m\u001b[0;34m\u001b[0m\u001b[0;34m\u001b[0m\u001b[0m\n\u001b[0m\u001b[1;32m    253\u001b[0m         \u001b[0;31m# see comment on the other call to np.iinfo in this file\u001b[0m\u001b[0;34m\u001b[0m\u001b[0;34m\u001b[0m\u001b[0m\n\u001b[1;32m    254\u001b[0m \u001b[0;34m\u001b[0m\u001b[0m\n",
            "\u001b[0;32m/usr/local/lib/python3.10/dist-packages/sklearn/svm/_base.py\u001b[0m in \u001b[0;36m_dense_fit\u001b[0;34m(self, X, y, sample_weight, solver_type, kernel, random_seed)\u001b[0m\n\u001b[1;32m    310\u001b[0m             \u001b[0;31m# TODO: add keyword copy to copy on demand\u001b[0m\u001b[0;34m\u001b[0m\u001b[0;34m\u001b[0m\u001b[0m\n\u001b[1;32m    311\u001b[0m             \u001b[0mself\u001b[0m\u001b[0;34m.\u001b[0m\u001b[0m__Xfit\u001b[0m \u001b[0;34m=\u001b[0m \u001b[0mX\u001b[0m\u001b[0;34m\u001b[0m\u001b[0;34m\u001b[0m\u001b[0m\n\u001b[0;32m--> 312\u001b[0;31m             \u001b[0mX\u001b[0m \u001b[0;34m=\u001b[0m \u001b[0mself\u001b[0m\u001b[0;34m.\u001b[0m\u001b[0m_compute_kernel\u001b[0m\u001b[0;34m(\u001b[0m\u001b[0mX\u001b[0m\u001b[0;34m)\u001b[0m\u001b[0;34m\u001b[0m\u001b[0;34m\u001b[0m\u001b[0m\n\u001b[0m\u001b[1;32m    313\u001b[0m \u001b[0;34m\u001b[0m\u001b[0m\n\u001b[1;32m    314\u001b[0m             \u001b[0;32mif\u001b[0m \u001b[0mX\u001b[0m\u001b[0;34m.\u001b[0m\u001b[0mshape\u001b[0m\u001b[0;34m[\u001b[0m\u001b[0;36m0\u001b[0m\u001b[0;34m]\u001b[0m \u001b[0;34m!=\u001b[0m \u001b[0mX\u001b[0m\u001b[0;34m.\u001b[0m\u001b[0mshape\u001b[0m\u001b[0;34m[\u001b[0m\u001b[0;36m1\u001b[0m\u001b[0;34m]\u001b[0m\u001b[0;34m:\u001b[0m\u001b[0;34m\u001b[0m\u001b[0;34m\u001b[0m\u001b[0m\n",
            "\u001b[0;32m/usr/local/lib/python3.10/dist-packages/sklearn/svm/_base.py\u001b[0m in \u001b[0;36m_compute_kernel\u001b[0;34m(self, X)\u001b[0m\n\u001b[1;32m    511\u001b[0m             \u001b[0;31m# in the case of precomputed kernel given as a function, we\u001b[0m\u001b[0;34m\u001b[0m\u001b[0;34m\u001b[0m\u001b[0m\n\u001b[1;32m    512\u001b[0m             \u001b[0;31m# have to compute explicitly the kernel matrix\u001b[0m\u001b[0;34m\u001b[0m\u001b[0;34m\u001b[0m\u001b[0m\n\u001b[0;32m--> 513\u001b[0;31m             \u001b[0mkernel\u001b[0m \u001b[0;34m=\u001b[0m \u001b[0mself\u001b[0m\u001b[0;34m.\u001b[0m\u001b[0mkernel\u001b[0m\u001b[0;34m(\u001b[0m\u001b[0mX\u001b[0m\u001b[0;34m,\u001b[0m \u001b[0mself\u001b[0m\u001b[0;34m.\u001b[0m\u001b[0m__Xfit\u001b[0m\u001b[0;34m)\u001b[0m\u001b[0;34m\u001b[0m\u001b[0;34m\u001b[0m\u001b[0m\n\u001b[0m\u001b[1;32m    514\u001b[0m             \u001b[0;32mif\u001b[0m \u001b[0msp\u001b[0m\u001b[0;34m.\u001b[0m\u001b[0missparse\u001b[0m\u001b[0;34m(\u001b[0m\u001b[0mkernel\u001b[0m\u001b[0;34m)\u001b[0m\u001b[0;34m:\u001b[0m\u001b[0;34m\u001b[0m\u001b[0;34m\u001b[0m\u001b[0m\n\u001b[1;32m    515\u001b[0m                 \u001b[0mkernel\u001b[0m \u001b[0;34m=\u001b[0m \u001b[0mkernel\u001b[0m\u001b[0;34m.\u001b[0m\u001b[0mtoarray\u001b[0m\u001b[0;34m(\u001b[0m\u001b[0;34m)\u001b[0m\u001b[0;34m\u001b[0m\u001b[0;34m\u001b[0m\u001b[0m\n",
            "\u001b[0;32m/usr/local/lib/python3.10/dist-packages/qiskit_machine_learning/kernels/fidelity_quantum_kernel.py\u001b[0m in \u001b[0;36mevaluate\u001b[0;34m(self, x_vec, y_vec)\u001b[0m\n\u001b[1;32m    102\u001b[0m \u001b[0;34m\u001b[0m\u001b[0m\n\u001b[1;32m    103\u001b[0m         \u001b[0;32mif\u001b[0m \u001b[0mis_symmetric\u001b[0m\u001b[0;34m:\u001b[0m\u001b[0;34m\u001b[0m\u001b[0;34m\u001b[0m\u001b[0m\n\u001b[0;32m--> 104\u001b[0;31m             \u001b[0mleft_parameters\u001b[0m\u001b[0;34m,\u001b[0m \u001b[0mright_parameters\u001b[0m\u001b[0;34m,\u001b[0m \u001b[0mindices\u001b[0m \u001b[0;34m=\u001b[0m \u001b[0mself\u001b[0m\u001b[0;34m.\u001b[0m\u001b[0m_get_symmetric_parameterization\u001b[0m\u001b[0;34m(\u001b[0m\u001b[0mx_vec\u001b[0m\u001b[0;34m)\u001b[0m\u001b[0;34m\u001b[0m\u001b[0;34m\u001b[0m\u001b[0m\n\u001b[0m\u001b[1;32m    105\u001b[0m             kernel_matrix = self._get_symmetric_kernel_matrix(\n\u001b[1;32m    106\u001b[0m                 \u001b[0mkernel_shape\u001b[0m\u001b[0;34m,\u001b[0m \u001b[0mleft_parameters\u001b[0m\u001b[0;34m,\u001b[0m \u001b[0mright_parameters\u001b[0m\u001b[0;34m,\u001b[0m \u001b[0mindices\u001b[0m\u001b[0;34m\u001b[0m\u001b[0;34m\u001b[0m\u001b[0m\n",
            "\u001b[0;32m/usr/local/lib/python3.10/dist-packages/qiskit_machine_learning/kernels/fidelity_quantum_kernel.py\u001b[0m in \u001b[0;36m_get_symmetric_parameterization\u001b[0;34m(self, x_vec)\u001b[0m\n\u001b[1;32m    158\u001b[0m                     \u001b[0;32mcontinue\u001b[0m\u001b[0;34m\u001b[0m\u001b[0;34m\u001b[0m\u001b[0m\n\u001b[1;32m    159\u001b[0m \u001b[0;34m\u001b[0m\u001b[0m\n\u001b[0;32m--> 160\u001b[0;31m                 \u001b[0mleft_parameters\u001b[0m \u001b[0;34m=\u001b[0m \u001b[0mnp\u001b[0m\u001b[0;34m.\u001b[0m\u001b[0mvstack\u001b[0m\u001b[0;34m(\u001b[0m\u001b[0;34m(\u001b[0m\u001b[0mleft_parameters\u001b[0m\u001b[0;34m,\u001b[0m \u001b[0mx_i\u001b[0m\u001b[0;34m)\u001b[0m\u001b[0;34m)\u001b[0m\u001b[0;34m\u001b[0m\u001b[0;34m\u001b[0m\u001b[0m\n\u001b[0m\u001b[1;32m    161\u001b[0m                 \u001b[0mright_parameters\u001b[0m \u001b[0;34m=\u001b[0m \u001b[0mnp\u001b[0m\u001b[0;34m.\u001b[0m\u001b[0mvstack\u001b[0m\u001b[0;34m(\u001b[0m\u001b[0;34m(\u001b[0m\u001b[0mright_parameters\u001b[0m\u001b[0;34m,\u001b[0m \u001b[0mx_j\u001b[0m\u001b[0;34m)\u001b[0m\u001b[0;34m)\u001b[0m\u001b[0;34m\u001b[0m\u001b[0;34m\u001b[0m\u001b[0m\n\u001b[1;32m    162\u001b[0m                 \u001b[0mindices\u001b[0m\u001b[0;34m.\u001b[0m\u001b[0mappend\u001b[0m\u001b[0;34m(\u001b[0m\u001b[0;34m(\u001b[0m\u001b[0mi\u001b[0m\u001b[0;34m,\u001b[0m \u001b[0mi\u001b[0m \u001b[0;34m+\u001b[0m \u001b[0mj\u001b[0m\u001b[0;34m)\u001b[0m\u001b[0;34m)\u001b[0m\u001b[0;34m\u001b[0m\u001b[0;34m\u001b[0m\u001b[0m\n",
            "\u001b[0;32m/usr/local/lib/python3.10/dist-packages/numpy/core/overrides.py\u001b[0m in \u001b[0;36mvstack\u001b[0;34m(*args, **kwargs)\u001b[0m\n",
            "\u001b[0;32m/usr/local/lib/python3.10/dist-packages/numpy/core/shape_base.py\u001b[0m in \u001b[0;36mvstack\u001b[0;34m(tup)\u001b[0m\n\u001b[1;32m    280\u001b[0m     \u001b[0;32mif\u001b[0m \u001b[0;32mnot\u001b[0m \u001b[0misinstance\u001b[0m\u001b[0;34m(\u001b[0m\u001b[0marrs\u001b[0m\u001b[0;34m,\u001b[0m \u001b[0mlist\u001b[0m\u001b[0;34m)\u001b[0m\u001b[0;34m:\u001b[0m\u001b[0;34m\u001b[0m\u001b[0;34m\u001b[0m\u001b[0m\n\u001b[1;32m    281\u001b[0m         \u001b[0marrs\u001b[0m \u001b[0;34m=\u001b[0m \u001b[0;34m[\u001b[0m\u001b[0marrs\u001b[0m\u001b[0;34m]\u001b[0m\u001b[0;34m\u001b[0m\u001b[0;34m\u001b[0m\u001b[0m\n\u001b[0;32m--> 282\u001b[0;31m     \u001b[0;32mreturn\u001b[0m \u001b[0m_nx\u001b[0m\u001b[0;34m.\u001b[0m\u001b[0mconcatenate\u001b[0m\u001b[0;34m(\u001b[0m\u001b[0marrs\u001b[0m\u001b[0;34m,\u001b[0m \u001b[0;36m0\u001b[0m\u001b[0;34m)\u001b[0m\u001b[0;34m\u001b[0m\u001b[0;34m\u001b[0m\u001b[0m\n\u001b[0m\u001b[1;32m    283\u001b[0m \u001b[0;34m\u001b[0m\u001b[0m\n\u001b[1;32m    284\u001b[0m \u001b[0;34m\u001b[0m\u001b[0m\n",
            "\u001b[0;32m/usr/local/lib/python3.10/dist-packages/numpy/core/overrides.py\u001b[0m in \u001b[0;36mconcatenate\u001b[0;34m(*args, **kwargs)\u001b[0m\n",
            "\u001b[0;31mKeyboardInterrupt\u001b[0m: "
          ]
        }
      ]
    },
    {
      "cell_type": "code",
      "source": [
        "# create empty array for callback to store evaluations of the objective function\n",
        "objective_func_vals = []\n",
        "plt.rcParams[\"figure.figsize\"] = (12, 6)\n",
        "\n",
        "# fit classifier to data\n",
        "vqc.fit(X_train, y_cat_train)\n",
        "\n",
        "# return to default figsize\n",
        "plt.rcParams[\"figure.figsize\"] = (6, 4)\n",
        "\n",
        "# score classifier\n",
        "vqc.score(X_test, y_cat_test)"
      ],
      "metadata": {
        "id": "xMFrYfVqDczS",
        "colab": {
          "base_uri": "https://localhost:8080/",
          "height": 581
        },
        "outputId": "90dfbe9e-3cfe-4919-8c2a-a2e01fc1d5e7"
      },
      "execution_count": null,
      "outputs": [
        {
          "output_type": "display_data",
          "data": {
            "text/plain": [
              "<Figure size 1200x600 with 1 Axes>"
            ],
            "image/png": "[encoded data removed]"
          },
          "metadata": {}
        },
        {
          "output_type": "execute_result",
          "data": {
            "text/plain": [
              "0.515625"
            ]
          },
          "metadata": {},
          "execution_count": 45
        }
      ]
    }
  ],
  "metadata": {
    "colab": {
      "provenance": [],
      "gpuType": "T4"
    },
    "kernelspec": {
      "display_name": "Python 3",
      "name": "python3"
    },
    "language_info": {
      "codemirror_mode": {
        "name": "ipython",
        "version": 3
      },
      "file_extension": ".py",
      "mimetype": "text/x-python",
      "name": "python",
      "nbconvert_exporter": "python",
      "pygments_lexer": "ipython3",
      "version": "3.9.17"
    },
    "accelerator": "GPU"
  },
  "nbformat": 4,
  "nbformat_minor": 0
}