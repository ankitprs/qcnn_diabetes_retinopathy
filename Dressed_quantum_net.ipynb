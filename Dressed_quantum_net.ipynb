{
  "nbformat": 4,
  "nbformat_minor": 0,
  "metadata": {
    "colab": {
      "provenance": []
    },
    "kernelspec": {
      "name": "python3",
      "display_name": "Python 3"
    },
    "language_info": {
      "name": "python"
    }
  },
  "cells": [
    {
      "cell_type": "code",
      "source": [
        "import torch\n",
        "import torch.nn as nn\n",
        "import torch.optim as optim\n",
        "from torch.optim import lr_scheduler\n",
        "import torchvision\n",
        "from torchvision import datasets, transforms, datasets\n",
        "# Pennylane\n",
        "import pennylane as qml\n",
        "from pennylane import numpy as np"
      ],
      "metadata": {
        "id": "PIxuOH_hezY7",
        "execution": {
          "iopub.status.busy": "2023-09-13T14:08:57.311392Z",
          "iopub.execute_input": "2023-09-13T14:08:57.311765Z",
          "iopub.status.idle": "2023-09-13T14:09:06.361294Z",
          "shell.execute_reply.started": "2023-09-13T14:08:57.311730Z",
          "shell.execute_reply": "2023-09-13T14:09:06.359848Z"
        },
        "trusted": true
      },
      "execution_count": null,
      "outputs": []
    },
    {
      "cell_type": "code",
      "source": [
        "n_qubits = 8                # Number of qubits\n",
        "step = 0.001               # Learning rate\n",
        "batch_size = 16             # Number of samples for each training step\n",
        "num_epochs = 25              # Number of training epochs\n",
        "q_depth = 4                 # Depth of the quantum circuit (number of variational layers)\n",
        "gamma_lr_scheduler = 0.1    # Learning rate reduction applied every 10 epochs.\n",
        "q_delta = 0.01              # Initial spread of random quantum weights\n",
        "step_size=10  # given in lr_scheduler"
      ],
      "metadata": {
        "id": "sHRTDdrKezY8",
        "execution": {
          "iopub.status.busy": "2023-09-13T02:52:10.957730Z",
          "iopub.execute_input": "2023-09-13T02:52:10.958358Z",
          "iopub.status.idle": "2023-09-13T02:52:10.965449Z",
          "shell.execute_reply.started": "2023-09-13T02:52:10.958317Z",
          "shell.execute_reply": "2023-09-13T02:52:10.964070Z"
        },
        "trusted": true
      },
      "execution_count": null,
      "outputs": []
    },
    {
      "cell_type": "code",
      "source": [
        "dev = qml.device(\"default.qubit\", wires=n_qubits)\n",
        "device = torch.device(\"cuda:0\" if torch.cuda.is_available() else \"cpu\")"
      ],
      "metadata": {
        "id": "97Hs4c3KezY8",
        "execution": {
          "iopub.status.busy": "2023-09-13T02:52:14.058653Z",
          "iopub.execute_input": "2023-09-13T02:52:14.059033Z",
          "iopub.status.idle": "2023-09-13T02:52:14.372809Z",
          "shell.execute_reply.started": "2023-09-13T02:52:14.059004Z",
          "shell.execute_reply": "2023-09-13T02:52:14.371852Z"
        },
        "trusted": true
      },
      "execution_count": null,
      "outputs": []
    },
    {
      "cell_type": "markdown",
      "source": [
        "Variational quantum circuit\n",
        "===========================\n",
        "\n",
        "We first define some quantum layers that will compose the quantum\n",
        "circuit.\n"
      ],
      "metadata": {
        "id": "yGQy6YbKezY9"
      }
    },
    {
      "cell_type": "code",
      "source": [
        "def H_layer(nqubits):\n",
        "    \"\"\"Layer of single-qubit Hadamard gates.\n",
        "    \"\"\"\n",
        "    for idx in range(nqubits):\n",
        "        qml.Hadamard(wires=idx)\n",
        "\n",
        "\n",
        "def RY_layer(w):\n",
        "    \"\"\"Layer of parametrized qubit rotations around the y axis.\n",
        "    \"\"\"\n",
        "    for idx, element in enumerate(w):\n",
        "        qml.RY(element, wires=idx)\n",
        "\n",
        "\n",
        "def entangling_layer(nqubits):\n",
        "    \"\"\"Layer of CNOTs followed by another shifted layer of CNOT.\n",
        "    \"\"\"\n",
        "    # In other words it should apply something like :\n",
        "    # CNOT  CNOT  CNOT  CNOT...  CNOT\n",
        "    #   CNOT  CNOT  CNOT...  CNOT\n",
        "    for i in range(0, nqubits - 1, 2):  # Loop over even indices: i=0,2,...N-2\n",
        "        qml.CNOT(wires=[i, i + 1])\n",
        "    for i in range(1, nqubits - 1, 2):  # Loop over odd indices:  i=1,3,...N-3\n",
        "        qml.CNOT(wires=[i, i + 1])"
      ],
      "metadata": {
        "id": "UvVML6ELezY9",
        "execution": {
          "iopub.status.busy": "2023-09-13T03:00:03.484028Z",
          "iopub.execute_input": "2023-09-13T03:00:03.484443Z",
          "iopub.status.idle": "2023-09-13T03:00:03.492192Z",
          "shell.execute_reply.started": "2023-09-13T03:00:03.484413Z",
          "shell.execute_reply": "2023-09-13T03:00:03.490807Z"
        },
        "trusted": true
      },
      "execution_count": null,
      "outputs": []
    },
    {
      "cell_type": "markdown",
      "source": [
        "Now we define the quantum circuit through the PennyLane\n",
        "[qnode]{.title-ref} decorator .\n",
        "\n",
        "The structure is that of a typical variational quantum circuit:\n",
        "\n",
        "-   **Embedding layer:** All qubits are first initialized in a balanced\n",
        "    superposition of *up* and *down* states, then they are rotated\n",
        "    according to the input parameters (local embedding).\n",
        "-   **Variational layers:** A sequence of trainable rotation layers and\n",
        "    constant entangling layers is applied.\n",
        "-   **Measurement layer:** For each qubit, the local expectation value\n",
        "    of the $Z$ operator is measured. This produces a classical output\n",
        "    vector, suitable for additional post-processing.\n"
      ],
      "metadata": {
        "id": "nc_LtQWLezY9"
      }
    },
    {
      "cell_type": "code",
      "source": [
        "@qml.qnode(dev, interface=\"torch\")\n",
        "def quantum_net(q_input_features, q_weights_flat):\n",
        "    \"\"\"\n",
        "    The variational quantum circuit.\n",
        "    \"\"\"\n",
        "    # Reshape weights\n",
        "    q_weights = q_weights_flat.reshape(q_depth, n_qubits)\n",
        "\n",
        "    # Start from state |+> , unbiased w.r.t. |0> and |1>\n",
        "    H_layer(n_qubits)\n",
        "\n",
        "    # Embed features in the quantum node\n",
        "    RY_layer(q_input_features)\n",
        "\n",
        "    # Sequence of trainable variational layers\n",
        "    for k in range(q_depth):\n",
        "        entangling_layer(n_qubits)\n",
        "        RY_layer(q_weights[k])\n",
        "\n",
        "    # Expectation values in the Z basis\n",
        "    exp_vals = [qml.expval(qml.PauliZ(position)) for position in range(n_qubits)]\n",
        "    return tuple(exp_vals)"
      ],
      "metadata": {
        "id": "gdCF04tVezY9",
        "execution": {
          "iopub.status.busy": "2023-09-13T03:00:07.159763Z",
          "iopub.execute_input": "2023-09-13T03:00:07.160792Z",
          "iopub.status.idle": "2023-09-13T03:00:07.167554Z",
          "shell.execute_reply.started": "2023-09-13T03:00:07.160758Z",
          "shell.execute_reply": "2023-09-13T03:00:07.166527Z"
        },
        "trusted": true
      },
      "execution_count": null,
      "outputs": []
    },
    {
      "cell_type": "markdown",
      "source": [
        "Dressed quantum circuit\n",
        "=======================\n",
        "\n",
        "We can now define a custom `torch.nn.Module` representing a *dressed*\n",
        "quantum circuit.\n",
        "\n",
        "This is a concatenation of:\n",
        "\n",
        "-   A classical pre-processing layer (`nn.Linear`).\n",
        "-   A classical activation function (`torch.tanh`).\n",
        "-   A constant `np.pi/2.0` scaling.\n",
        "-   The previously defined quantum circuit (`quantum_net`).\n",
        "-   A classical post-processing layer (`nn.Linear`).\n",
        "The input of the module is a batch of vectors with 1280 real parameters\n",
        "(features) and the output is a batch of vectors with 3 real outputs\n",
        "(associated with the three classes of images: 0,1 and 2).\n"
      ],
      "metadata": {
        "id": "adA2H5pUezY9"
      }
    },
    {
      "cell_type": "code",
      "source": [
        "class DressedQuantumNet(nn.Module):\n",
        "    \"\"\"\n",
        "    Torch module implementing the *dressed* quantum net.\n",
        "    \"\"\"\n",
        "    def __init__(self):\n",
        "        \"\"\"\n",
        "        Definition of the *dressed* layout.\n",
        "        \"\"\"\n",
        "        super().__init__()\n",
        "        self.pre_net = nn.Linear(1280, n_qubits)\n",
        "        self.q_params = nn.Parameter(q_delta * torch.randn(q_depth * n_qubits))\n",
        "        self.post_net = nn.Linear(n_qubits, 3)\n",
        "\n",
        "    def forward(self, input_features):\n",
        "        \"\"\"\n",
        "        Defining how tensors are supposed to move through the *dressed* quantum\n",
        "        net.\n",
        "        \"\"\"\n",
        "        # obtain the input features for the quantum circuit\n",
        "        # by reducing the feature dimension from 512 to 4\n",
        "        pre_out = self.pre_net(input_features)\n",
        "        q_in = torch.tanh(pre_out) * np.pi / 2.0\n",
        "\n",
        "        # Apply the quantum circuit to each element of the batch and append to q_out\n",
        "        q_out = torch.Tensor(0, n_qubits)\n",
        "        q_out = q_out.to(device)\n",
        "        for elem in q_in:\n",
        "            q_out_elem = torch.hstack(quantum_net(elem, self.q_params)).float().unsqueeze(0)\n",
        "            q_out = torch.cat((q_out, q_out_elem))\n",
        "\n",
        "        # return the two-dimensional prediction from the postprocessing layer\n",
        "        return self.post_net(q_out)"
      ],
      "metadata": {
        "id": "fO2bxqpyezY-",
        "execution": {
          "iopub.status.busy": "2023-09-13T03:00:20.549398Z",
          "iopub.execute_input": "2023-09-13T03:00:20.550017Z",
          "iopub.status.idle": "2023-09-13T03:00:20.557487Z",
          "shell.execute_reply.started": "2023-09-13T03:00:20.549985Z",
          "shell.execute_reply": "2023-09-13T03:00:20.556484Z"
        },
        "trusted": true
      },
      "execution_count": null,
      "outputs": []
    }
  ]
}